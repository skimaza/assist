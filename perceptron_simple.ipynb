{
  "nbformat": 4,
  "nbformat_minor": 0,
  "metadata": {
    "kernelspec": {
      "display_name": "Python 3",
      "language": "python",
      "name": "python3"
    },
    "language_info": {
      "codemirror_mode": {
        "name": "ipython",
        "version": 3
      },
      "file_extension": ".py",
      "mimetype": "text/x-python",
      "name": "python",
      "nbconvert_exporter": "python",
      "pygments_lexer": "ipython3",
      "version": "3.6.2"
    },
    "colab": {
      "name": "perceptron_simple",
      "provenance": [],
      "collapsed_sections": [],
      "include_colab_link": true
    }
  },
  "cells": [
    {
      "cell_type": "markdown",
      "metadata": {
        "id": "view-in-github",
        "colab_type": "text"
      },
      "source": [
        "<a href=\"https://colab.research.google.com/github/skimaza/assist/blob/main/perceptron_simple.ipynb\" target=\"_parent\"><img src=\"https://colab.research.google.com/assets/colab-badge.svg\" alt=\"Open In Colab\"/></a>"
      ]
    },
    {
      "cell_type": "markdown",
      "metadata": {
        "id": "gadgwOmfe6fc"
      },
      "source": [
        "# AI 전략경영MBA 경영자를 위한 딥러닝 원리의 이해\n",
        "# 단순한 퍼셉트론"
      ]
    },
    {
      "cell_type": "markdown",
      "metadata": {
        "id": "i1BN98f5fFup"
      },
      "source": [
        "# 라이브러리 import\n"
      ]
    },
    {
      "cell_type": "markdown",
      "metadata": {
        "id": "l-JS_SxWfx0O"
      },
      "source": [
        "## numpy는 수식 계산 라이브러리\n",
        "## numpy 라이브러리를 읽어들이고 np라는 약자로 사용하겠다"
      ]
    },
    {
      "cell_type": "code",
      "metadata": {
        "collapsed": true,
        "id": "SZNlo3M0Qrw4"
      },
      "source": [
        "import numpy as np"
      ],
      "execution_count": null,
      "outputs": []
    },
    {
      "cell_type": "markdown",
      "metadata": {
        "id": "09hDzMAml4K6"
      },
      "source": [
        "Colab에서 하나의 실행 단위는 위와 같이 [숫자] 형태로 구분된다.  \n",
        "이것을 cell 이라하고 묶음으로 실행된다."
      ]
    },
    {
      "cell_type": "markdown",
      "metadata": {
        "id": "ikQOXRNBf1FV"
      },
      "source": [
        "## matplotlib는 그래프를 그리는 등 시각화를 하는 라이브러리\n",
        "## matplotlib의 pyplot이라는 모듈을 plt라는 약자로 사용하겠다"
      ]
    },
    {
      "cell_type": "code",
      "metadata": {
        "id": "ezl7m302fu7r"
      },
      "source": [
        "import matplotlib.pyplot as plt"
      ],
      "execution_count": null,
      "outputs": []
    },
    {
      "cell_type": "markdown",
      "metadata": {
        "id": "vn_L6HewgiEC"
      },
      "source": [
        "## 실험할 변수를 정의하여 초기화하고 샘플 데이터를 만든다\n",
        "## 샘플 데이터는 numpy 배열"
      ]
    },
    {
      "cell_type": "code",
      "metadata": {
        "id": "fRLsgfGjQrw7"
      },
      "source": [
        "weights = []\n",
        "errors_log = []\n",
        "epochs = 25\n",
        "eta = 0.01\n",
        "data = np.array([[3, 3, 1], \n",
        "                 [3.5, 2.5, 1], \n",
        "                 [1, 0.5, -1], \n",
        "                 [0.5, 0.75, -1], \n",
        "                 [2, 1.5, -1], \n",
        "                 [1.5, 2, -1], \n",
        "                 [2.3, 1.8, 1]])"
      ],
      "execution_count": null,
      "outputs": []
    },
    {
      "cell_type": "code",
      "metadata": {
        "colab": {
          "base_uri": "https://localhost:8080/"
        },
        "id": "OyaC3-MGgzh5",
        "outputId": "a5b3a6b2-0321-438e-cf87-b99ad4e6727e"
      },
      "source": [
        "print('type of data variable:', type(data))\n",
        "print(data)"
      ],
      "execution_count": null,
      "outputs": [
        {
          "output_type": "stream",
          "name": "stdout",
          "text": [
            "type of data variable: <class 'numpy.ndarray'>\n",
            "[[ 3.    3.    1.  ]\n",
            " [ 3.5   2.5   1.  ]\n",
            " [ 1.    0.5  -1.  ]\n",
            " [ 0.5   0.75 -1.  ]\n",
            " [ 2.    1.5  -1.  ]\n",
            " [ 1.5   2.   -1.  ]\n",
            " [ 2.3   1.8   1.  ]]\n"
          ]
        }
      ]
    },
    {
      "cell_type": "code",
      "metadata": {
        "colab": {
          "base_uri": "https://localhost:8080/"
        },
        "id": "H5p8jqTQhLTh",
        "outputId": "275a4cf7-f14d-4b12-dd5a-bf2f56ef7024"
      },
      "source": [
        "data.shape"
      ],
      "execution_count": null,
      "outputs": [
        {
          "output_type": "execute_result",
          "data": {
            "text/plain": [
              "(7, 3)"
            ]
          },
          "metadata": {},
          "execution_count": 9
        }
      ]
    },
    {
      "cell_type": "markdown",
      "metadata": {
        "id": "RXxRTklOhOpU"
      },
      "source": [
        "data는 7x3 배열 (7 rows, 3 columns)  \n",
        "원소 몇 개만 프린트 해보자"
      ]
    },
    {
      "cell_type": "code",
      "metadata": {
        "colab": {
          "base_uri": "https://localhost:8080/"
        },
        "id": "Y4K0UQTmhHL1",
        "outputId": "57a90389-1a94-4496-b722-4800dc4be927"
      },
      "source": [
        "data[0,0]"
      ],
      "execution_count": null,
      "outputs": [
        {
          "output_type": "execute_result",
          "data": {
            "text/plain": [
              "3.0"
            ]
          },
          "metadata": {},
          "execution_count": 10
        }
      ]
    },
    {
      "cell_type": "markdown",
      "metadata": {
        "id": "Pnf2JKKkkvvi"
      },
      "source": [
        "여기서 프린트된 3.0은 Colab cell의 마지막 줄인 data[0,0]의 값이다.  \n",
        "print 문의 결과와 유사하게 보이기 때문에 혼동하지 않도록 하자."
      ]
    },
    {
      "cell_type": "code",
      "metadata": {
        "colab": {
          "base_uri": "https://localhost:8080/"
        },
        "id": "GKuG0IPElAux",
        "outputId": "7b68248b-c824-4788-9e4b-7654e185e333"
      },
      "source": [
        "print(data[0,2])\n",
        "data[0,0]"
      ],
      "execution_count": null,
      "outputs": [
        {
          "output_type": "stream",
          "name": "stdout",
          "text": [
            "1.0\n"
          ]
        },
        {
          "output_type": "execute_result",
          "data": {
            "text/plain": [
              "3.0"
            ]
          },
          "metadata": {},
          "execution_count": 18
        }
      ]
    },
    {
      "cell_type": "markdown",
      "metadata": {
        "id": "7TH_64JwlTd3"
      },
      "source": [
        "마지막 줄의 값을 프린트하지 않게 하려면 줄 끝에 ';'을 붙인다"
      ]
    },
    {
      "cell_type": "code",
      "metadata": {
        "colab": {
          "base_uri": "https://localhost:8080/"
        },
        "id": "VuVeJPztlQLh",
        "outputId": "c331aac5-f60d-4416-cb0a-5b204aa54123"
      },
      "source": [
        "print(data[0,2])\n",
        "data[0,0];"
      ],
      "execution_count": null,
      "outputs": [
        {
          "output_type": "stream",
          "name": "stdout",
          "text": [
            "1.0\n"
          ]
        }
      ]
    },
    {
      "cell_type": "markdown",
      "metadata": {
        "id": "jk7iey3LleGy"
      },
      "source": [
        "'#'은 comment의 시작을 표시하며 Colab에서는 녹색으로 표시된다.  \n",
        "마지막 줄에 여러 값을 ','로 구분하면 여러 값이 한꺼번에 리턴된다"
      ]
    },
    {
      "cell_type": "code",
      "metadata": {
        "colab": {
          "base_uri": "https://localhost:8080/"
        },
        "id": "c1mTEZ46hkZF",
        "outputId": "969f2aa2-2991-47c3-c0cd-ec85bfaaa143"
      },
      "source": [
        "data[0,1], data[1,0] # '#'을 쓰면 comment의 시작, colab 셀의 마지막 줄은 "
      ],
      "execution_count": null,
      "outputs": [
        {
          "output_type": "execute_result",
          "data": {
            "text/plain": [
              "(3.0, 3.5)"
            ]
          },
          "metadata": {},
          "execution_count": 16
        }
      ]
    },
    {
      "cell_type": "code",
      "metadata": {
        "colab": {
          "base_uri": "https://localhost:8080/"
        },
        "id": "0u__KfnuhmNl",
        "outputId": "6dff552c-45db-42bc-e4b5-da8776e030cb"
      },
      "source": [
        ""
      ],
      "execution_count": null,
      "outputs": [
        {
          "output_type": "execute_result",
          "data": {
            "text/plain": [
              "3.5"
            ]
          },
          "metadata": {},
          "execution_count": 12
        }
      ]
    },
    {
      "cell_type": "markdown",
      "metadata": {
        "id": "WAsr6e-8hoyx"
      },
      "source": [
        "파이썬 리스트나 배열은 ':'을 사용해서 묶음으로 처리할 수 있다"
      ]
    },
    {
      "cell_type": "code",
      "metadata": {
        "colab": {
          "base_uri": "https://localhost:8080/"
        },
        "id": "mMuxRr6HhzAJ",
        "outputId": "db3e87f4-9291-4f82-acdd-65618bb8db75"
      },
      "source": [
        "data[0, :], data[1, :] # 0번 row의 모든 column, 1번 row의 모든 column"
      ],
      "execution_count": null,
      "outputs": [
        {
          "output_type": "execute_result",
          "data": {
            "text/plain": [
              "(array([3., 3., 1.]), array([3.5, 2.5, 1. ]))"
            ]
          },
          "metadata": {},
          "execution_count": 15
        }
      ]
    },
    {
      "cell_type": "code",
      "metadata": {
        "colab": {
          "base_uri": "https://localhost:8080/"
        },
        "id": "qZC8tsCcmrsx",
        "outputId": "d4158992-6131-4891-8233-73b717485d6b"
      },
      "source": [
        "data"
      ],
      "execution_count": null,
      "outputs": [
        {
          "output_type": "execute_result",
          "data": {
            "text/plain": [
              "array([[ 3.  ,  3.  ,  1.  ],\n",
              "       [ 3.5 ,  2.5 ,  1.  ],\n",
              "       [ 1.  ,  0.5 , -1.  ],\n",
              "       [ 0.5 ,  0.75, -1.  ],\n",
              "       [ 2.  ,  1.5 , -1.  ],\n",
              "       [ 1.5 ,  2.  , -1.  ],\n",
              "       [ 2.3 ,  1.8 ,  1.  ]])"
            ]
          },
          "metadata": {},
          "execution_count": 23
        }
      ]
    },
    {
      "cell_type": "code",
      "metadata": {
        "colab": {
          "base_uri": "https://localhost:8080/"
        },
        "id": "gC4nEN3nmaVP",
        "outputId": "9d553576-7479-4c9b-a0e3-93dd9c9d7826"
      },
      "source": [
        "data[:, 0], data[:, 2] # 모든 row의 0번 column, 모든 row의 2번 column"
      ],
      "execution_count": null,
      "outputs": [
        {
          "output_type": "execute_result",
          "data": {
            "text/plain": [
              "(array([3. , 3.5, 1. , 0.5, 2. , 1.5, 2.3]),\n",
              " array([ 1.,  1., -1., -1., -1., -1.,  1.]))"
            ]
          },
          "metadata": {},
          "execution_count": 24
        }
      ]
    },
    {
      "cell_type": "markdown",
      "metadata": {
        "id": "N456Tx2Wm5oy"
      },
      "source": [
        "# Data 플롯"
      ]
    },
    {
      "cell_type": "markdown",
      "metadata": {
        "id": "EfPFzCLhnAI0"
      },
      "source": [
        "2번 column 값이 1인 data 만 고르기"
      ]
    },
    {
      "cell_type": "code",
      "metadata": {
        "colab": {
          "base_uri": "https://localhost:8080/"
        },
        "id": "KUUqNhKrnULd",
        "outputId": "3ca404ea-abfd-418e-9f2e-b268fd201616"
      },
      "source": [
        "data[:, 2] == 1"
      ],
      "execution_count": null,
      "outputs": [
        {
          "output_type": "execute_result",
          "data": {
            "text/plain": [
              "array([ True,  True, False, False, False, False,  True])"
            ]
          },
          "metadata": {},
          "execution_count": 27
        }
      ]
    },
    {
      "cell_type": "code",
      "metadata": {
        "colab": {
          "base_uri": "https://localhost:8080/"
        },
        "id": "qqyIxn8inZ7R",
        "outputId": "e2949eaf-3075-4cc3-fb0b-1269ec6f6381"
      },
      "source": [
        "data[data[:, 2] == 1] # [ ] 안의 값이 True인 것만 추출"
      ],
      "execution_count": null,
      "outputs": [
        {
          "output_type": "execute_result",
          "data": {
            "text/plain": [
              "array([[3. , 3. , 1. ],\n",
              "       [3.5, 2.5, 1. ],\n",
              "       [2.3, 1.8, 1. ]])"
            ]
          },
          "metadata": {},
          "execution_count": 29
        }
      ]
    },
    {
      "cell_type": "code",
      "metadata": {
        "scrolled": true,
        "colab": {
          "base_uri": "https://localhost:8080/"
        },
        "id": "ZMoHRpYVQrw8",
        "outputId": "a453abe7-9270-498a-adfb-85e4f9876b51"
      },
      "source": [
        "pos = data[[data[:, 2] == 1]] # warning은 무시해도 됨"
      ],
      "execution_count": null,
      "outputs": [
        {
          "output_type": "stream",
          "name": "stderr",
          "text": [
            "/usr/local/lib/python3.7/dist-packages/ipykernel_launcher.py:1: FutureWarning: Using a non-tuple sequence for multidimensional indexing is deprecated; use `arr[tuple(seq)]` instead of `arr[seq]`. In the future this will be interpreted as an array index, `arr[np.array(seq)]`, which will result either in an error or a different result.\n",
            "  \"\"\"Entry point for launching an IPython kernel.\n"
          ]
        }
      ]
    },
    {
      "cell_type": "code",
      "metadata": {
        "colab": {
          "base_uri": "https://localhost:8080/"
        },
        "id": "XzYqmDeFnIsm",
        "outputId": "a333a969-e678-4a91-f32f-e4ffd5cb1b81"
      },
      "source": [
        "pos"
      ],
      "execution_count": null,
      "outputs": [
        {
          "output_type": "execute_result",
          "data": {
            "text/plain": [
              "array([[3. , 3. , 1. ],\n",
              "       [3.5, 2.5, 1. ],\n",
              "       [2.3, 1.8, 1. ]])"
            ]
          },
          "metadata": {},
          "execution_count": 39
        }
      ]
    },
    {
      "cell_type": "code",
      "metadata": {
        "colab": {
          "base_uri": "https://localhost:8080/"
        },
        "id": "fRrOJzCkm3Lj",
        "outputId": "cbb0d5e1-40ff-485b-c673-1f05f16792d7"
      },
      "source": [
        "neg = data[[data[:, 2] == -1]] # 2번 column이 -1인 것만 추출\n",
        "neg"
      ],
      "execution_count": null,
      "outputs": [
        {
          "output_type": "stream",
          "name": "stderr",
          "text": [
            "/usr/local/lib/python3.7/dist-packages/ipykernel_launcher.py:1: FutureWarning: Using a non-tuple sequence for multidimensional indexing is deprecated; use `arr[tuple(seq)]` instead of `arr[seq]`. In the future this will be interpreted as an array index, `arr[np.array(seq)]`, which will result either in an error or a different result.\n",
            "  \"\"\"Entry point for launching an IPython kernel.\n"
          ]
        },
        {
          "output_type": "execute_result",
          "data": {
            "text/plain": [
              "array([[ 1.  ,  0.5 , -1.  ],\n",
              "       [ 0.5 ,  0.75, -1.  ],\n",
              "       [ 2.  ,  1.5 , -1.  ],\n",
              "       [ 1.5 ,  2.  , -1.  ]])"
            ]
          },
          "metadata": {},
          "execution_count": 41
        }
      ]
    },
    {
      "cell_type": "code",
      "metadata": {
        "colab": {
          "base_uri": "https://localhost:8080/"
        },
        "id": "J6a6uSn9qAWg",
        "outputId": "0d5f95ff-1bb0-477a-a1af-76ccb2ef18b2"
      },
      "source": [
        "pos[:, 0], pos[:, 1] # pos의 0번 column과 pos의 1번 column"
      ],
      "execution_count": null,
      "outputs": [
        {
          "output_type": "execute_result",
          "data": {
            "text/plain": [
              "(array([3. , 3.5, 2.3]), array([3. , 2.5, 1.8]))"
            ]
          },
          "metadata": {},
          "execution_count": 43
        }
      ]
    },
    {
      "cell_type": "markdown",
      "metadata": {
        "id": "nZM7zgDZqNb1"
      },
      "source": [
        "## pos의 0번 column을 x축, 1번 column을 y축으로 하는 그래프\n",
        "## pos의 0번 column을 x축, 1번 column을 y축으로 하는 그래프"
      ]
    },
    {
      "cell_type": "code",
      "metadata": {
        "colab": {
          "base_uri": "https://localhost:8080/",
          "height": 296
        },
        "id": "1eWideVop3B6",
        "outputId": "206e2037-0917-4c52-9ff2-111f9c9edde5"
      },
      "source": [
        "plt.scatter(pos[:,0], pos[:, 1], label=\"pos\")\n",
        "plt.scatter(neg[:,0], neg[:, 1], label=\"neg\")\n",
        "plt.xlabel(\"x1\")\n",
        "plt.ylabel(\"x2\")\n",
        "plt.legend(loc=2)"
      ],
      "execution_count": null,
      "outputs": [
        {
          "output_type": "execute_result",
          "data": {
            "text/plain": [
              "<matplotlib.legend.Legend at 0x7fbbe9807b10>"
            ]
          },
          "metadata": {},
          "execution_count": 44
        },
        {
          "output_type": "display_data",
          "data": {
            "image/png": "[encoded data removed]",
            "text/plain": [
              "<Figure size 432x288 with 1 Axes>"
            ]
          },
          "metadata": {
            "needs_background": "light"
          }
        }
      ]
    },
    {
      "cell_type": "markdown",
      "metadata": {
        "id": "hHn3mLQEqiB0"
      },
      "source": [
        "# Perceptron 학습 함수\n",
        "- weights와 errors_log는 글로벌 변수로 지정  \n",
        "- weights 값은 0으로 초기화한 후 학습  \n",
        "- 학습은 epochs 만큼 반복  \n",
        "- eta는 그리스 문자 eta이며 learning rate를 표시하는 옛날식 관행.  \n",
        "- 지금은 lr이란 이름을 주로 사용함."
      ]
    },
    {
      "cell_type": "code",
      "metadata": {
        "id": "dxvxTnuhQrw9"
      },
      "source": [
        "def train(X, y, epochs=epochs, eta=eta):\n",
        "    global weights\n",
        "    global errors_log\n",
        "    weights = np.zeros(1 + X.shape[1])\n",
        "    print(\"Initial weights\", weights)\n",
        "    errors_log = []\n",
        "\n",
        "    for i in range(epochs):\n",
        "        errors = 0\n",
        "        print(\"EPOCHS\", i+1)\n",
        "        for xi, target in zip(X, y):\n",
        "            update = eta * (target - predict(xi)) # perceptron의 결과와 truth 값 비교\n",
        "            print(xi, \"target\", target, \"sum\", net_input(xi), \"update\", update)\n",
        "            if update != 0:\n",
        "                weights[1:] +=  update * xi\n",
        "                weights[0] +=  update\n",
        "                print(\"Updated WEIGHTS\", weights)\n",
        "                errors += int(update != 0.0)\n",
        "        errors_log.append(errors)\n",
        "    return\n",
        "\n",
        "def net_input(X):\n",
        "    global weights\n",
        "    return np.dot(X, weights[1:]) + weights[0] # dot product\n",
        "\n",
        "def predict(X):\n",
        "    return np.where(net_input(X) > 0.0, 1, -1)"
      ],
      "execution_count": null,
      "outputs": []
    },
    {
      "cell_type": "code",
      "metadata": {
        "colab": {
          "base_uri": "https://localhost:8080/"
        },
        "id": "mCvejXvHs-Dm",
        "outputId": "c1a559a5-c660-4cc9-9888-aea28aa963ae"
      },
      "source": [
        "np.dot(np.array([1,2,3]), np.array([1, -1, 1])) # (1 * 1) + (2 * (-1)) + (2 * 1), dot product 연산 : 각 위치마다 대응하는 원소끼리 곱한 후 결과를 더한다"
      ],
      "execution_count": null,
      "outputs": [
        {
          "output_type": "execute_result",
          "data": {
            "text/plain": [
              "2"
            ]
          },
          "metadata": {},
          "execution_count": 49
        }
      ]
    },
    {
      "cell_type": "markdown",
      "metadata": {
        "id": "X8OoUhmrtmxU"
      },
      "source": [
        "np.dot은 입력과 weights의 가중합 계산  "
      ]
    },
    {
      "cell_type": "code",
      "metadata": {
        "colab": {
          "base_uri": "https://localhost:8080/"
        },
        "id": "w-KjJHI5tuQE",
        "outputId": "bde6002c-8af9-4e03-8abd-1f0d7835b2d2"
      },
      "source": [
        "np.where(np.array([0.5, -0.3, 0.9]) > 0.0, 1, -1) # 첫번 인자의 각 원소에 대해 조건을 검사하여 True면 두번째 인자를, False면 세번째 인자를 넣은 배열을 리턴"
      ],
      "execution_count": null,
      "outputs": [
        {
          "output_type": "execute_result",
          "data": {
            "text/plain": [
              "array([ 1, -1,  1])"
            ]
          },
          "metadata": {},
          "execution_count": 51
        }
      ]
    },
    {
      "cell_type": "markdown",
      "metadata": {
        "id": "ZPOpCzsBuTGv"
      },
      "source": [
        "predict는 X를 weights와 dot product한 결과가 0보다 크면 1, 작으면 -1을 리턴  \n",
        "thresholding 함수 기능"
      ]
    },
    {
      "cell_type": "markdown",
      "metadata": {
        "id": "7D_JEeDisEMh"
      },
      "source": [
        "update 부분 추가 설명\n",
        "target이 1이고 predict(x)가 -1이면 target - predict(x)는 2  \n",
        "target이 -1이고 predict(x)가 1이면 target - predict(x)는 -2  \n",
        "update는 이 값에 eta를 곱한 값\n",
        "update가 양수면   "
      ]
    },
    {
      "cell_type": "code",
      "metadata": {
        "collapsed": true,
        "id": "XcmbxMGyQrw-"
      },
      "source": [
        ""
      ],
      "execution_count": null,
      "outputs": []
    },
    {
      "cell_type": "code",
      "metadata": {
        "collapsed": true,
        "id": "h7QyoAisQrw-"
      },
      "source": [
        ""
      ],
      "execution_count": null,
      "outputs": []
    },
    {
      "cell_type": "code",
      "metadata": {
        "colab": {
          "base_uri": "https://localhost:8080/"
        },
        "id": "zgzTplAHQrw_",
        "outputId": "854ea3ef-dc93-4fbd-f4b6-87bfcd43fd1f"
      },
      "source": [
        "data[:, :2]"
      ],
      "execution_count": null,
      "outputs": [
        {
          "output_type": "execute_result",
          "data": {
            "text/plain": [
              "array([[3.  , 3.  ],\n",
              "       [3.5 , 2.5 ],\n",
              "       [1.  , 0.5 ],\n",
              "       [0.5 , 0.75],\n",
              "       [2.  , 1.5 ],\n",
              "       [1.5 , 2.  ],\n",
              "       [2.3 , 1.8 ]])"
            ]
          },
          "metadata": {},
          "execution_count": 7
        }
      ]
    },
    {
      "cell_type": "code",
      "metadata": {
        "colab": {
          "base_uri": "https://localhost:8080/"
        },
        "id": "wZWpfFz1Qrw_",
        "outputId": "265d742b-8a0d-4b16-8a2d-a18ba4a40d19"
      },
      "source": [
        "data[:, 2]"
      ],
      "execution_count": null,
      "outputs": [
        {
          "output_type": "execute_result",
          "data": {
            "text/plain": [
              "array([ 1.,  1., -1., -1., -1., -1.,  1.])"
            ]
          },
          "metadata": {},
          "execution_count": 8
        }
      ]
    },
    {
      "cell_type": "code",
      "metadata": {
        "colab": {
          "base_uri": "https://localhost:8080/"
        },
        "id": "uIm60hPAQrxA",
        "outputId": "d4aa5490-6c7b-4b5a-e25b-137a5d46fd2b"
      },
      "source": [
        "data[:, :2].shape"
      ],
      "execution_count": null,
      "outputs": [
        {
          "output_type": "execute_result",
          "data": {
            "text/plain": [
              "(7, 2)"
            ]
          },
          "metadata": {},
          "execution_count": 9
        }
      ]
    },
    {
      "cell_type": "code",
      "metadata": {
        "scrolled": false,
        "colab": {
          "base_uri": "https://localhost:8080/"
        },
        "id": "o83T07ssQrxB",
        "outputId": "befadcdc-f912-4f16-9663-776ec16cf2fc"
      },
      "source": [
        "train(data[:, :2], data[:, 2], epochs=50)"
      ],
      "execution_count": null,
      "outputs": [
        {
          "output_type": "stream",
          "name": "stdout",
          "text": [
            "Initial weights [0. 0. 0.]\n",
            "EPOCHS 1\n",
            "[3. 3.] target 1.0 sum 0.0 update 0.02\n",
            "Updated WEIGHTS [0.02 0.06 0.06]\n",
            "[3.5 2.5] target 1.0 sum 0.38 update 0.0\n",
            "[1.  0.5] target -1.0 sum 0.11 update -0.02\n",
            "Updated WEIGHTS [0.   0.04 0.05]\n",
            "[0.5  0.75] target -1.0 sum 0.057499999999999996 update -0.02\n",
            "Updated WEIGHTS [-0.02   0.03   0.035]\n",
            "[2.  1.5] target -1.0 sum 0.09249999999999997 update -0.02\n",
            "Updated WEIGHTS [-0.04  -0.01   0.005]\n",
            "[1.5 2. ] target -1.0 sum -0.04500000000000002 update 0.0\n",
            "[2.3 1.8] target 1.0 sum -0.05400000000000002 update 0.02\n",
            "Updated WEIGHTS [-0.02   0.036  0.041]\n",
            "EPOCHS 2\n",
            "[3. 3.] target 1.0 sum 0.211 update 0.0\n",
            "[3.5 2.5] target 1.0 sum 0.2085 update 0.0\n",
            "[1.  0.5] target -1.0 sum 0.03649999999999999 update -0.02\n",
            "Updated WEIGHTS [-0.04   0.016  0.031]\n",
            "[0.5  0.75] target -1.0 sum -0.008750000000000008 update 0.0\n",
            "[2.  1.5] target -1.0 sum 0.038499999999999986 update -0.02\n",
            "Updated WEIGHTS [-0.06  -0.024  0.001]\n",
            "[1.5 2. ] target -1.0 sum -0.09400000000000001 update 0.0\n",
            "[2.3 1.8] target 1.0 sum -0.11340000000000001 update 0.02\n",
            "Updated WEIGHTS [-0.04   0.022  0.037]\n",
            "EPOCHS 3\n",
            "[3. 3.] target 1.0 sum 0.137 update 0.0\n",
            "[3.5 2.5] target 1.0 sum 0.1295 update 0.0\n",
            "[1.  0.5] target -1.0 sum 0.0005000000000000004 update -0.02\n",
            "Updated WEIGHTS [-0.06   0.002  0.027]\n",
            "[0.5  0.75] target -1.0 sum -0.03875 update 0.0\n",
            "[2.  1.5] target -1.0 sum -0.015500000000000014 update 0.0\n",
            "[1.5 2. ] target -1.0 sum -0.0030000000000000096 update 0.0\n",
            "[2.3 1.8] target 1.0 sum -0.006800000000000021 update 0.02\n",
            "Updated WEIGHTS [-0.04   0.048  0.063]\n",
            "EPOCHS 4\n",
            "[3. 3.] target 1.0 sum 0.293 update 0.0\n",
            "[3.5 2.5] target 1.0 sum 0.2855 update 0.0\n",
            "[1.  0.5] target -1.0 sum 0.03949999999999999 update -0.02\n",
            "Updated WEIGHTS [-0.06   0.028  0.053]\n",
            "[0.5  0.75] target -1.0 sum -0.0062500000000000056 update 0.0\n",
            "[2.  1.5] target -1.0 sum 0.07549999999999998 update -0.02\n",
            "Updated WEIGHTS [-0.08  -0.012  0.023]\n",
            "[1.5 2. ] target -1.0 sum -0.052000000000000025 update 0.0\n",
            "[2.3 1.8] target 1.0 sum -0.06620000000000004 update 0.02\n",
            "Updated WEIGHTS [-0.06   0.034  0.059]\n",
            "EPOCHS 5\n",
            "[3. 3.] target 1.0 sum 0.21899999999999997 update 0.0\n",
            "[3.5 2.5] target 1.0 sum 0.20649999999999996 update 0.0\n",
            "[1.  0.5] target -1.0 sum 0.0034999999999999892 update -0.02\n",
            "Updated WEIGHTS [-0.08   0.014  0.049]\n",
            "[0.5  0.75] target -1.0 sum -0.036250000000000004 update 0.0\n",
            "[2.  1.5] target -1.0 sum 0.021499999999999977 update -0.02\n",
            "Updated WEIGHTS [-0.1   -0.026  0.019]\n",
            "[1.5 2. ] target -1.0 sum -0.10100000000000002 update 0.0\n",
            "[2.3 1.8] target 1.0 sum -0.12560000000000002 update 0.02\n",
            "Updated WEIGHTS [-0.08   0.02   0.055]\n",
            "EPOCHS 6\n",
            "[3. 3.] target 1.0 sum 0.14499999999999996 update 0.0\n",
            "[3.5 2.5] target 1.0 sum 0.12749999999999995 update 0.0\n",
            "[1.  0.5] target -1.0 sum -0.032500000000000015 update 0.0\n",
            "[0.5  0.75] target -1.0 sum -0.028750000000000005 update 0.0\n",
            "[2.  1.5] target -1.0 sum 0.04249999999999998 update -0.02\n",
            "Updated WEIGHTS [-0.1   -0.02   0.025]\n",
            "[1.5 2. ] target -1.0 sum -0.08000000000000002 update 0.0\n",
            "[2.3 1.8] target 1.0 sum -0.10100000000000002 update 0.02\n",
            "Updated WEIGHTS [-0.08   0.026  0.061]\n",
            "EPOCHS 7\n",
            "[3. 3.] target 1.0 sum 0.181 update 0.0\n",
            "[3.5 2.5] target 1.0 sum 0.16349999999999998 update 0.0\n",
            "[1.  0.5] target -1.0 sum -0.023500000000000007 update 0.0\n",
            "[0.5  0.75] target -1.0 sum -0.021249999999999998 update 0.0\n",
            "[2.  1.5] target -1.0 sum 0.06349999999999999 update -0.02\n",
            "Updated WEIGHTS [-0.1   -0.014  0.031]\n",
            "[1.5 2. ] target -1.0 sum -0.059000000000000004 update 0.0\n",
            "[2.3 1.8] target 1.0 sum -0.07640000000000001 update 0.02\n",
            "Updated WEIGHTS [-0.08   0.032  0.067]\n",
            "EPOCHS 8\n",
            "[3. 3.] target 1.0 sum 0.21700000000000003 update 0.0\n",
            "[3.5 2.5] target 1.0 sum 0.1995 update 0.0\n",
            "[1.  0.5] target -1.0 sum -0.014499999999999999 update 0.0\n",
            "[0.5  0.75] target -1.0 sum -0.013749999999999998 update 0.0\n",
            "[2.  1.5] target -1.0 sum 0.0845 update -0.02\n",
            "Updated WEIGHTS [-0.1   -0.008  0.037]\n",
            "[1.5 2. ] target -1.0 sum -0.03799999999999999 update 0.0\n",
            "[2.3 1.8] target 1.0 sum -0.0518 update 0.02\n",
            "Updated WEIGHTS [-0.08   0.038  0.073]\n",
            "EPOCHS 9\n",
            "[3. 3.] target 1.0 sum 0.253 update 0.0\n",
            "[3.5 2.5] target 1.0 sum 0.2355 update 0.0\n",
            "[1.  0.5] target -1.0 sum -0.005500000000000005 update 0.0\n",
            "[0.5  0.75] target -1.0 sum -0.006249999999999992 update 0.0\n",
            "[2.  1.5] target -1.0 sum 0.1055 update -0.02\n",
            "Updated WEIGHTS [-0.1   -0.002  0.043]\n",
            "[1.5 2. ] target -1.0 sum -0.016999999999999987 update 0.0\n",
            "[2.3 1.8] target 1.0 sum -0.027200000000000002 update 0.02\n",
            "Updated WEIGHTS [-0.08   0.044  0.079]\n",
            "EPOCHS 10\n",
            "[3. 3.] target 1.0 sum 0.28900000000000003 update 0.0\n",
            "[3.5 2.5] target 1.0 sum 0.2715 update 0.0\n",
            "[1.  0.5] target -1.0 sum 0.0034999999999999892 update -0.02\n",
            "Updated WEIGHTS [-0.1    0.024  0.069]\n",
            "[0.5  0.75] target -1.0 sum -0.03624999999999999 update 0.0\n",
            "[2.  1.5] target -1.0 sum 0.05150000000000002 update -0.02\n",
            "Updated WEIGHTS [-0.12  -0.016  0.039]\n",
            "[1.5 2. ] target -1.0 sum -0.06599999999999998 update 0.0\n",
            "[2.3 1.8] target 1.0 sum -0.08659999999999998 update 0.02\n",
            "Updated WEIGHTS [-0.1    0.03   0.075]\n",
            "EPOCHS 11\n",
            "[3. 3.] target 1.0 sum 0.21500000000000005 update 0.0\n",
            "[3.5 2.5] target 1.0 sum 0.19250000000000003 update 0.0\n",
            "[1.  0.5] target -1.0 sum -0.0325 update 0.0\n",
            "[0.5  0.75] target -1.0 sum -0.028749999999999984 update 0.0\n",
            "[2.  1.5] target -1.0 sum 0.07250000000000001 update -0.02\n",
            "Updated WEIGHTS [-0.12  -0.01   0.045]\n",
            "[1.5 2. ] target -1.0 sum -0.04499999999999996 update 0.0\n",
            "[2.3 1.8] target 1.0 sum -0.06199999999999998 update 0.02\n",
            "Updated WEIGHTS [-0.1    0.036  0.081]\n",
            "EPOCHS 12\n",
            "[3. 3.] target 1.0 sum 0.2510000000000001 update 0.0\n",
            "[3.5 2.5] target 1.0 sum 0.2285 update 0.0\n",
            "[1.  0.5] target -1.0 sum -0.023500000000000007 update 0.0\n",
            "[0.5  0.75] target -1.0 sum -0.02124999999999999 update 0.0\n",
            "[2.  1.5] target -1.0 sum 0.0935 update -0.02\n",
            "Updated WEIGHTS [-0.12  -0.004  0.051]\n",
            "[1.5 2. ] target -1.0 sum -0.023999999999999952 update 0.0\n",
            "[2.3 1.8] target 1.0 sum -0.037399999999999975 update 0.02\n",
            "Updated WEIGHTS [-0.1    0.042  0.087]\n",
            "EPOCHS 13\n",
            "[3. 3.] target 1.0 sum 0.28700000000000003 update 0.0\n",
            "[3.5 2.5] target 1.0 sum 0.26450000000000007 update 0.0\n",
            "[1.  0.5] target -1.0 sum -0.014500000000000013 update 0.0\n",
            "[0.5  0.75] target -1.0 sum -0.013749999999999984 update 0.0\n",
            "[2.  1.5] target -1.0 sum 0.11450000000000002 update -0.02\n",
            "Updated WEIGHTS [-0.12   0.002  0.057]\n",
            "[1.5 2. ] target -1.0 sum -0.002999999999999947 update 0.0\n",
            "[2.3 1.8] target 1.0 sum -0.012799999999999978 update 0.02\n",
            "Updated WEIGHTS [-0.1    0.048  0.093]\n",
            "EPOCHS 14\n",
            "[3. 3.] target 1.0 sum 0.32300000000000006 update 0.0\n",
            "[3.5 2.5] target 1.0 sum 0.3005 update 0.0\n",
            "[1.  0.5] target -1.0 sum -0.005500000000000005 update 0.0\n",
            "[0.5  0.75] target -1.0 sum -0.006249999999999978 update 0.0\n",
            "[2.  1.5] target -1.0 sum 0.13550000000000004 update -0.02\n",
            "Updated WEIGHTS [-0.12   0.008  0.063]\n",
            "[1.5 2. ] target -1.0 sum 0.018000000000000058 update -0.02\n",
            "Updated WEIGHTS [-0.14  -0.022  0.023]\n",
            "[2.3 1.8] target 1.0 sum -0.14919999999999997 update 0.02\n",
            "Updated WEIGHTS [-0.12   0.024  0.059]\n",
            "EPOCHS 15\n",
            "[3. 3.] target 1.0 sum 0.12900000000000011 update 0.0\n",
            "[3.5 2.5] target 1.0 sum 0.11150000000000006 update 0.0\n",
            "[1.  0.5] target -1.0 sum -0.0665 update 0.0\n",
            "[0.5  0.75] target -1.0 sum -0.06374999999999997 update 0.0\n",
            "[2.  1.5] target -1.0 sum 0.01650000000000003 update -0.02\n",
            "Updated WEIGHTS [-0.14  -0.016  0.029]\n",
            "[1.5 2. ] target -1.0 sum -0.10599999999999993 update 0.0\n",
            "[2.3 1.8] target 1.0 sum -0.12459999999999996 update 0.02\n",
            "Updated WEIGHTS [-0.12   0.03   0.065]\n",
            "EPOCHS 16\n",
            "[3. 3.] target 1.0 sum 0.1650000000000001 update 0.0\n",
            "[3.5 2.5] target 1.0 sum 0.14750000000000008 update 0.0\n",
            "[1.  0.5] target -1.0 sum -0.05750000000000001 update 0.0\n",
            "[0.5  0.75] target -1.0 sum -0.05624999999999998 update 0.0\n",
            "[2.  1.5] target -1.0 sum 0.03750000000000002 update -0.02\n",
            "Updated WEIGHTS [-0.14  -0.01   0.035]\n",
            "[1.5 2. ] target -1.0 sum -0.08499999999999994 update 0.0\n",
            "[2.3 1.8] target 1.0 sum -0.09999999999999998 update 0.02\n",
            "Updated WEIGHTS [-0.12   0.036  0.071]\n",
            "EPOCHS 17\n",
            "[3. 3.] target 1.0 sum 0.20100000000000007 update 0.0\n",
            "[3.5 2.5] target 1.0 sum 0.18350000000000005 update 0.0\n",
            "[1.  0.5] target -1.0 sum -0.0485 update 0.0\n",
            "[0.5  0.75] target -1.0 sum -0.048749999999999974 update 0.0\n",
            "[2.  1.5] target -1.0 sum 0.05850000000000004 update -0.02\n",
            "Updated WEIGHTS [-0.14  -0.004  0.041]\n",
            "[1.5 2. ] target -1.0 sum -0.06399999999999993 update 0.0\n",
            "[2.3 1.8] target 1.0 sum -0.07539999999999997 update 0.02\n",
            "Updated WEIGHTS [-0.12   0.042  0.077]\n",
            "EPOCHS 18\n",
            "[3. 3.] target 1.0 sum 0.2370000000000001 update 0.0\n",
            "[3.5 2.5] target 1.0 sum 0.21950000000000003 update 0.0\n",
            "[1.  0.5] target -1.0 sum -0.03950000000000001 update 0.0\n",
            "[0.5  0.75] target -1.0 sum -0.04124999999999997 update 0.0\n",
            "[2.  1.5] target -1.0 sum 0.07950000000000003 update -0.02\n",
            "Updated WEIGHTS [-0.14   0.002  0.047]\n",
            "[1.5 2. ] target -1.0 sum -0.04299999999999993 update 0.0\n",
            "[2.3 1.8] target 1.0 sum -0.050799999999999956 update 0.02\n",
            "Updated WEIGHTS [-0.12   0.048  0.083]\n",
            "EPOCHS 19\n",
            "[3. 3.] target 1.0 sum 0.27300000000000013 update 0.0\n",
            "[3.5 2.5] target 1.0 sum 0.25550000000000006 update 0.0\n",
            "[1.  0.5] target -1.0 sum -0.030500000000000013 update 0.0\n",
            "[0.5  0.75] target -1.0 sum -0.033749999999999974 update 0.0\n",
            "[2.  1.5] target -1.0 sum 0.10050000000000002 update -0.02\n",
            "Updated WEIGHTS [-0.14   0.008  0.053]\n",
            "[1.5 2. ] target -1.0 sum -0.02199999999999991 update 0.0\n",
            "[2.3 1.8] target 1.0 sum -0.02619999999999996 update 0.02\n",
            "Updated WEIGHTS [-0.12   0.054  0.089]\n",
            "EPOCHS 20\n",
            "[3. 3.] target 1.0 sum 0.30900000000000016 update 0.0\n",
            "[3.5 2.5] target 1.0 sum 0.2915000000000001 update 0.0\n",
            "[1.  0.5] target -1.0 sum -0.021500000000000005 update 0.0\n",
            "[0.5  0.75] target -1.0 sum -0.026249999999999968 update 0.0\n",
            "[2.  1.5] target -1.0 sum 0.12150000000000004 update -0.02\n",
            "Updated WEIGHTS [-0.14   0.014  0.059]\n",
            "[1.5 2. ] target -1.0 sum -0.0009999999999999176 update 0.0\n",
            "[2.3 1.8] target 1.0 sum -0.0015999999999999626 update 0.02\n",
            "Updated WEIGHTS [-0.12   0.06   0.095]\n",
            "EPOCHS 21\n",
            "[3. 3.] target 1.0 sum 0.34500000000000014 update 0.0\n",
            "[3.5 2.5] target 1.0 sum 0.3275000000000001 update 0.0\n",
            "[1.  0.5] target -1.0 sum -0.012499999999999997 update 0.0\n",
            "[0.5  0.75] target -1.0 sum -0.01874999999999996 update 0.0\n",
            "[2.  1.5] target -1.0 sum 0.14250000000000007 update -0.02\n",
            "Updated WEIGHTS [-0.14   0.02   0.065]\n",
            "[1.5 2. ] target -1.0 sum 0.0200000000000001 update -0.02\n",
            "Updated WEIGHTS [-0.16  -0.01   0.025]\n",
            "[2.3 1.8] target 1.0 sum -0.13799999999999993 update 0.02\n",
            "Updated WEIGHTS [-0.14   0.036  0.061]\n",
            "EPOCHS 22\n",
            "[3. 3.] target 1.0 sum 0.15100000000000013 update 0.0\n",
            "[3.5 2.5] target 1.0 sum 0.13850000000000007 update 0.0\n",
            "[1.  0.5] target -1.0 sum -0.07350000000000001 update 0.0\n",
            "[0.5  0.75] target -1.0 sum -0.07624999999999997 update 0.0\n",
            "[2.  1.5] target -1.0 sum 0.02350000000000005 update -0.02\n",
            "Updated WEIGHTS [-0.16  -0.004  0.031]\n",
            "[1.5 2. ] target -1.0 sum -0.10399999999999988 update 0.0\n",
            "[2.3 1.8] target 1.0 sum -0.11339999999999992 update 0.02\n",
            "Updated WEIGHTS [-0.14   0.042  0.067]\n",
            "EPOCHS 23\n",
            "[3. 3.] target 1.0 sum 0.18700000000000017 update 0.0\n",
            "[3.5 2.5] target 1.0 sum 0.17450000000000004 update 0.0\n",
            "[1.  0.5] target -1.0 sum -0.0645 update 0.0\n",
            "[0.5  0.75] target -1.0 sum -0.06874999999999996 update 0.0\n",
            "[2.  1.5] target -1.0 sum 0.04450000000000004 update -0.02\n",
            "Updated WEIGHTS [-0.16   0.002  0.037]\n",
            "[1.5 2. ] target -1.0 sum -0.08299999999999988 update 0.0\n",
            "[2.3 1.8] target 1.0 sum -0.08879999999999993 update 0.02\n",
            "Updated WEIGHTS [-0.14   0.048  0.073]\n",
            "EPOCHS 24\n",
            "[3. 3.] target 1.0 sum 0.22300000000000014 update 0.0\n",
            "[3.5 2.5] target 1.0 sum 0.21050000000000008 update 0.0\n",
            "[1.  0.5] target -1.0 sum -0.05550000000000001 update 0.0\n",
            "[0.5  0.75] target -1.0 sum -0.06124999999999997 update 0.0\n",
            "[2.  1.5] target -1.0 sum 0.06550000000000006 update -0.02\n",
            "Updated WEIGHTS [-0.16   0.008  0.043]\n",
            "[1.5 2. ] target -1.0 sum -0.061999999999999875 update 0.0\n",
            "[2.3 1.8] target 1.0 sum -0.06419999999999992 update 0.02\n",
            "Updated WEIGHTS [-0.14   0.054  0.079]\n",
            "EPOCHS 25\n",
            "[3. 3.] target 1.0 sum 0.2590000000000001 update 0.0\n",
            "[3.5 2.5] target 1.0 sum 0.2465000000000001 update 0.0\n",
            "[1.  0.5] target -1.0 sum -0.046500000000000014 update 0.0\n",
            "[0.5  0.75] target -1.0 sum -0.053749999999999964 update 0.0\n",
            "[2.  1.5] target -1.0 sum 0.08650000000000005 update -0.02\n",
            "Updated WEIGHTS [-0.16   0.014  0.049]\n",
            "[1.5 2. ] target -1.0 sum -0.04099999999999987 update 0.0\n",
            "[2.3 1.8] target 1.0 sum -0.03959999999999993 update 0.02\n",
            "Updated WEIGHTS [-0.14   0.06   0.085]\n",
            "EPOCHS 26\n",
            "[3. 3.] target 1.0 sum 0.29500000000000015 update 0.0\n",
            "[3.5 2.5] target 1.0 sum 0.2825000000000001 update 0.0\n",
            "[1.  0.5] target -1.0 sum -0.037500000000000006 update 0.0\n",
            "[0.5  0.75] target -1.0 sum -0.04624999999999996 update 0.0\n",
            "[2.  1.5] target -1.0 sum 0.10750000000000004 update -0.02\n",
            "Updated WEIGHTS [-0.16   0.02   0.055]\n",
            "[1.5 2. ] target -1.0 sum -0.01999999999999985 update 0.0\n",
            "[2.3 1.8] target 1.0 sum -0.01499999999999993 update 0.02\n",
            "Updated WEIGHTS [-0.14   0.066  0.091]\n",
            "EPOCHS 27\n",
            "[3. 3.] target 1.0 sum 0.3310000000000002 update 0.0\n",
            "[3.5 2.5] target 1.0 sum 0.31850000000000006 update 0.0\n",
            "[1.  0.5] target -1.0 sum -0.02850000000000001 update 0.0\n",
            "[0.5  0.75] target -1.0 sum -0.03874999999999995 update 0.0\n",
            "[2.  1.5] target -1.0 sum 0.12850000000000006 update -0.02\n",
            "Updated WEIGHTS [-0.16   0.026  0.061]\n",
            "[1.5 2. ] target -1.0 sum 0.0010000000000001397 update -0.02\n",
            "Updated WEIGHTS [-0.18  -0.004  0.021]\n",
            "[2.3 1.8] target 1.0 sum -0.15139999999999992 update 0.02\n",
            "Updated WEIGHTS [-0.16   0.042  0.057]\n",
            "EPOCHS 28\n",
            "[3. 3.] target 1.0 sum 0.13700000000000015 update 0.0\n",
            "[3.5 2.5] target 1.0 sum 0.1295000000000001 update 0.0\n",
            "[1.  0.5] target -1.0 sum -0.0895 update 0.0\n",
            "[0.5  0.75] target -1.0 sum -0.09624999999999995 update 0.0\n",
            "[2.  1.5] target -1.0 sum 0.009500000000000064 update -0.02\n",
            "Updated WEIGHTS [-0.18   0.002  0.027]\n",
            "[1.5 2. ] target -1.0 sum -0.12299999999999985 update 0.0\n",
            "[2.3 1.8] target 1.0 sum -0.1267999999999999 update 0.02\n",
            "Updated WEIGHTS [-0.16   0.048  0.063]\n",
            "EPOCHS 29\n",
            "[3. 3.] target 1.0 sum 0.17300000000000018 update 0.0\n",
            "[3.5 2.5] target 1.0 sum 0.16550000000000012 update 0.0\n",
            "[1.  0.5] target -1.0 sum -0.0805 update 0.0\n",
            "[0.5  0.75] target -1.0 sum -0.08874999999999994 update 0.0\n",
            "[2.  1.5] target -1.0 sum 0.030500000000000055 update -0.02\n",
            "Updated WEIGHTS [-0.18   0.008  0.033]\n",
            "[1.5 2. ] target -1.0 sum -0.10199999999999985 update 0.0\n",
            "[2.3 1.8] target 1.0 sum -0.10219999999999992 update 0.02\n",
            "Updated WEIGHTS [-0.16   0.054  0.069]\n",
            "EPOCHS 30\n",
            "[3. 3.] target 1.0 sum 0.2090000000000002 update 0.0\n",
            "[3.5 2.5] target 1.0 sum 0.2015000000000001 update 0.0\n",
            "[1.  0.5] target -1.0 sum -0.07150000000000001 update 0.0\n",
            "[0.5  0.75] target -1.0 sum -0.08124999999999995 update 0.0\n",
            "[2.  1.5] target -1.0 sum 0.051500000000000073 update -0.02\n",
            "Updated WEIGHTS [-0.18   0.014  0.039]\n",
            "[1.5 2. ] target -1.0 sum -0.08099999999999985 update 0.0\n",
            "[2.3 1.8] target 1.0 sum -0.0775999999999999 update 0.02\n",
            "Updated WEIGHTS [-0.16   0.06   0.075]\n",
            "EPOCHS 31\n",
            "[3. 3.] target 1.0 sum 0.2450000000000002 update 0.0\n",
            "[3.5 2.5] target 1.0 sum 0.23750000000000007 update 0.0\n",
            "[1.  0.5] target -1.0 sum -0.0625 update 0.0\n",
            "[0.5  0.75] target -1.0 sum -0.07374999999999994 update 0.0\n",
            "[2.  1.5] target -1.0 sum 0.07250000000000006 update -0.02\n",
            "Updated WEIGHTS [-0.18   0.02   0.045]\n",
            "[1.5 2. ] target -1.0 sum -0.05999999999999983 update 0.0\n",
            "[2.3 1.8] target 1.0 sum -0.05299999999999991 update 0.02\n",
            "Updated WEIGHTS [-0.16   0.066  0.081]\n",
            "EPOCHS 32\n",
            "[3. 3.] target 1.0 sum 0.28100000000000025 update 0.0\n",
            "[3.5 2.5] target 1.0 sum 0.2735000000000001 update 0.0\n",
            "[1.  0.5] target -1.0 sum -0.05349999999999999 update 0.0\n",
            "[0.5  0.75] target -1.0 sum -0.06624999999999993 update 0.0\n",
            "[2.  1.5] target -1.0 sum 0.09350000000000006 update -0.02\n",
            "Updated WEIGHTS [-0.18   0.026  0.051]\n",
            "[1.5 2. ] target -1.0 sum -0.03899999999999981 update 0.0\n",
            "[2.3 1.8] target 1.0 sum -0.028399999999999898 update 0.02\n",
            "Updated WEIGHTS [-0.16   0.072  0.087]\n",
            "EPOCHS 33\n",
            "[3. 3.] target 1.0 sum 0.3170000000000003 update 0.0\n",
            "[3.5 2.5] target 1.0 sum 0.3095000000000001 update 0.0\n",
            "[1.  0.5] target -1.0 sum -0.044499999999999984 update 0.0\n",
            "[0.5  0.75] target -1.0 sum -0.05874999999999993 update 0.0\n",
            "[2.  1.5] target -1.0 sum 0.11450000000000007 update -0.02\n",
            "Updated WEIGHTS [-0.18   0.032  0.057]\n",
            "[1.5 2. ] target -1.0 sum -0.017999999999999794 update 0.0\n",
            "[2.3 1.8] target 1.0 sum -0.003799999999999859 update 0.02\n",
            "Updated WEIGHTS [-0.16   0.078  0.093]\n",
            "EPOCHS 34\n",
            "[3. 3.] target 1.0 sum 0.3530000000000003 update 0.0\n",
            "[3.5 2.5] target 1.0 sum 0.34550000000000014 update 0.0\n",
            "[1.  0.5] target -1.0 sum -0.035499999999999976 update 0.0\n",
            "[0.5  0.75] target -1.0 sum -0.05124999999999992 update 0.0\n",
            "[2.  1.5] target -1.0 sum 0.1355000000000001 update -0.02\n",
            "Updated WEIGHTS [-0.18   0.038  0.063]\n",
            "[1.5 2. ] target -1.0 sum 0.0030000000000002247 update -0.02\n",
            "Updated WEIGHTS [-0.2    0.008  0.023]\n",
            "[2.3 1.8] target 1.0 sum -0.14019999999999982 update 0.02\n",
            "Updated WEIGHTS [-0.18   0.054  0.059]\n",
            "EPOCHS 35\n",
            "[3. 3.] target 1.0 sum 0.1590000000000003 update 0.0\n",
            "[3.5 2.5] target 1.0 sum 0.15650000000000025 update 0.0\n",
            "[1.  0.5] target -1.0 sum -0.09649999999999996 update 0.0\n",
            "[0.5  0.75] target -1.0 sum -0.1087499999999999 update 0.0\n",
            "[2.  1.5] target -1.0 sum 0.016500000000000126 update -0.02\n",
            "Updated WEIGHTS [-0.2    0.014  0.029]\n",
            "[1.5 2. ] target -1.0 sum -0.12099999999999976 update 0.0\n",
            "[2.3 1.8] target 1.0 sum -0.11559999999999983 update 0.02\n",
            "Updated WEIGHTS [-0.18   0.06   0.065]\n",
            "EPOCHS 36\n",
            "[3. 3.] target 1.0 sum 0.19500000000000034 update 0.0\n",
            "[3.5 2.5] target 1.0 sum 0.19250000000000023 update 0.0\n",
            "[1.  0.5] target -1.0 sum -0.08749999999999997 update 0.0\n",
            "[0.5  0.75] target -1.0 sum -0.10124999999999991 update 0.0\n",
            "[2.  1.5] target -1.0 sum 0.037500000000000144 update -0.02\n",
            "Updated WEIGHTS [-0.2    0.02   0.035]\n",
            "[1.5 2. ] target -1.0 sum -0.09999999999999977 update 0.0\n",
            "[2.3 1.8] target 1.0 sum -0.09099999999999983 update 0.02\n",
            "Updated WEIGHTS [-0.18   0.066  0.071]\n",
            "EPOCHS 37\n",
            "[3. 3.] target 1.0 sum 0.23100000000000026 update 0.0\n",
            "[3.5 2.5] target 1.0 sum 0.2285000000000002 update 0.0\n",
            "[1.  0.5] target -1.0 sum -0.07849999999999997 update 0.0\n",
            "[0.5  0.75] target -1.0 sum -0.09374999999999992 update 0.0\n",
            "[2.  1.5] target -1.0 sum 0.05850000000000011 update -0.02\n",
            "Updated WEIGHTS [-0.2    0.026  0.041]\n",
            "[1.5 2. ] target -1.0 sum -0.07899999999999976 update 0.0\n",
            "[2.3 1.8] target 1.0 sum -0.06639999999999985 update 0.02\n",
            "Updated WEIGHTS [-0.18   0.072  0.077]\n",
            "EPOCHS 38\n",
            "[3. 3.] target 1.0 sum 0.2670000000000003 update 0.0\n",
            "[3.5 2.5] target 1.0 sum 0.26450000000000023 update 0.0\n",
            "[1.  0.5] target -1.0 sum -0.06949999999999996 update 0.0\n",
            "[0.5  0.75] target -1.0 sum -0.08624999999999991 update 0.0\n",
            "[2.  1.5] target -1.0 sum 0.07950000000000013 update -0.02\n",
            "Updated WEIGHTS [-0.2    0.032  0.047]\n",
            "[1.5 2. ] target -1.0 sum -0.057999999999999746 update 0.0\n",
            "[2.3 1.8] target 1.0 sum -0.04179999999999981 update 0.02\n",
            "Updated WEIGHTS [-0.18   0.078  0.083]\n",
            "EPOCHS 39\n",
            "[3. 3.] target 1.0 sum 0.3030000000000003 update 0.0\n",
            "[3.5 2.5] target 1.0 sum 0.30050000000000027 update 0.0\n",
            "[1.  0.5] target -1.0 sum -0.06049999999999996 update 0.0\n",
            "[0.5  0.75] target -1.0 sum -0.0787499999999999 update 0.0\n",
            "[2.  1.5] target -1.0 sum 0.10050000000000014 update -0.02\n",
            "Updated WEIGHTS [-0.2    0.038  0.053]\n",
            "[1.5 2. ] target -1.0 sum -0.03699999999999973 update 0.0\n",
            "[2.3 1.8] target 1.0 sum -0.0171999999999998 update 0.02\n",
            "Updated WEIGHTS [-0.18   0.084  0.089]\n",
            "EPOCHS 40\n",
            "[3. 3.] target 1.0 sum 0.33900000000000036 update 0.0\n",
            "[3.5 2.5] target 1.0 sum 0.3365000000000003 update 0.0\n",
            "[1.  0.5] target -1.0 sum -0.051499999999999935 update 0.0\n",
            "[0.5  0.75] target -1.0 sum -0.0712499999999999 update 0.0\n",
            "[2.  1.5] target -1.0 sum 0.12150000000000016 update -0.02\n",
            "Updated WEIGHTS [-0.2    0.044  0.059]\n",
            "[1.5 2. ] target -1.0 sum -0.01599999999999971 update 0.0\n",
            "[2.3 1.8] target 1.0 sum 0.007400000000000212 update 0.0\n",
            "EPOCHS 41\n",
            "[3. 3.] target 1.0 sum 0.1090000000000004 update 0.0\n",
            "[3.5 2.5] target 1.0 sum 0.10150000000000028 update 0.0\n",
            "[1.  0.5] target -1.0 sum -0.12649999999999995 update 0.0\n",
            "[0.5  0.75] target -1.0 sum -0.13374999999999987 update 0.0\n",
            "[2.  1.5] target -1.0 sum -0.023499999999999827 update 0.0\n",
            "[1.5 2. ] target -1.0 sum -0.01599999999999971 update 0.0\n",
            "[2.3 1.8] target 1.0 sum 0.007400000000000212 update 0.0\n",
            "EPOCHS 42\n",
            "[3. 3.] target 1.0 sum 0.1090000000000004 update 0.0\n",
            "[3.5 2.5] target 1.0 sum 0.10150000000000028 update 0.0\n",
            "[1.  0.5] target -1.0 sum -0.12649999999999995 update 0.0\n",
            "[0.5  0.75] target -1.0 sum -0.13374999999999987 update 0.0\n",
            "[2.  1.5] target -1.0 sum -0.023499999999999827 update 0.0\n",
            "[1.5 2. ] target -1.0 sum -0.01599999999999971 update 0.0\n",
            "[2.3 1.8] target 1.0 sum 0.007400000000000212 update 0.0\n",
            "EPOCHS 43\n",
            "[3. 3.] target 1.0 sum 0.1090000000000004 update 0.0\n",
            "[3.5 2.5] target 1.0 sum 0.10150000000000028 update 0.0\n",
            "[1.  0.5] target -1.0 sum -0.12649999999999995 update 0.0\n",
            "[0.5  0.75] target -1.0 sum -0.13374999999999987 update 0.0\n",
            "[2.  1.5] target -1.0 sum -0.023499999999999827 update 0.0\n",
            "[1.5 2. ] target -1.0 sum -0.01599999999999971 update 0.0\n",
            "[2.3 1.8] target 1.0 sum 0.007400000000000212 update 0.0\n",
            "EPOCHS 44\n",
            "[3. 3.] target 1.0 sum 0.1090000000000004 update 0.0\n",
            "[3.5 2.5] target 1.0 sum 0.10150000000000028 update 0.0\n",
            "[1.  0.5] target -1.0 sum -0.12649999999999995 update 0.0\n",
            "[0.5  0.75] target -1.0 sum -0.13374999999999987 update 0.0\n",
            "[2.  1.5] target -1.0 sum -0.023499999999999827 update 0.0\n",
            "[1.5 2. ] target -1.0 sum -0.01599999999999971 update 0.0\n",
            "[2.3 1.8] target 1.0 sum 0.007400000000000212 update 0.0\n",
            "EPOCHS 45\n",
            "[3. 3.] target 1.0 sum 0.1090000000000004 update 0.0\n",
            "[3.5 2.5] target 1.0 sum 0.10150000000000028 update 0.0\n",
            "[1.  0.5] target -1.0 sum -0.12649999999999995 update 0.0\n",
            "[0.5  0.75] target -1.0 sum -0.13374999999999987 update 0.0\n",
            "[2.  1.5] target -1.0 sum -0.023499999999999827 update 0.0\n",
            "[1.5 2. ] target -1.0 sum -0.01599999999999971 update 0.0\n",
            "[2.3 1.8] target 1.0 sum 0.007400000000000212 update 0.0\n",
            "EPOCHS 46\n",
            "[3. 3.] target 1.0 sum 0.1090000000000004 update 0.0\n",
            "[3.5 2.5] target 1.0 sum 0.10150000000000028 update 0.0\n",
            "[1.  0.5] target -1.0 sum -0.12649999999999995 update 0.0\n",
            "[0.5  0.75] target -1.0 sum -0.13374999999999987 update 0.0\n",
            "[2.  1.5] target -1.0 sum -0.023499999999999827 update 0.0\n",
            "[1.5 2. ] target -1.0 sum -0.01599999999999971 update 0.0\n",
            "[2.3 1.8] target 1.0 sum 0.007400000000000212 update 0.0\n",
            "EPOCHS 47\n",
            "[3. 3.] target 1.0 sum 0.1090000000000004 update 0.0\n",
            "[3.5 2.5] target 1.0 sum 0.10150000000000028 update 0.0\n",
            "[1.  0.5] target -1.0 sum -0.12649999999999995 update 0.0\n",
            "[0.5  0.75] target -1.0 sum -0.13374999999999987 update 0.0\n",
            "[2.  1.5] target -1.0 sum -0.023499999999999827 update 0.0\n",
            "[1.5 2. ] target -1.0 sum -0.01599999999999971 update 0.0\n",
            "[2.3 1.8] target 1.0 sum 0.007400000000000212 update 0.0\n",
            "EPOCHS 48\n",
            "[3. 3.] target 1.0 sum 0.1090000000000004 update 0.0\n",
            "[3.5 2.5] target 1.0 sum 0.10150000000000028 update 0.0\n",
            "[1.  0.5] target -1.0 sum -0.12649999999999995 update 0.0\n",
            "[0.5  0.75] target -1.0 sum -0.13374999999999987 update 0.0\n",
            "[2.  1.5] target -1.0 sum -0.023499999999999827 update 0.0\n",
            "[1.5 2. ] target -1.0 sum -0.01599999999999971 update 0.0\n",
            "[2.3 1.8] target 1.0 sum 0.007400000000000212 update 0.0\n",
            "EPOCHS 49\n",
            "[3. 3.] target 1.0 sum 0.1090000000000004 update 0.0\n",
            "[3.5 2.5] target 1.0 sum 0.10150000000000028 update 0.0\n",
            "[1.  0.5] target -1.0 sum -0.12649999999999995 update 0.0\n",
            "[0.5  0.75] target -1.0 sum -0.13374999999999987 update 0.0\n",
            "[2.  1.5] target -1.0 sum -0.023499999999999827 update 0.0\n",
            "[1.5 2. ] target -1.0 sum -0.01599999999999971 update 0.0\n",
            "[2.3 1.8] target 1.0 sum 0.007400000000000212 update 0.0\n",
            "EPOCHS 50\n",
            "[3. 3.] target 1.0 sum 0.1090000000000004 update 0.0\n",
            "[3.5 2.5] target 1.0 sum 0.10150000000000028 update 0.0\n",
            "[1.  0.5] target -1.0 sum -0.12649999999999995 update 0.0\n",
            "[0.5  0.75] target -1.0 sum -0.13374999999999987 update 0.0\n",
            "[2.  1.5] target -1.0 sum -0.023499999999999827 update 0.0\n",
            "[1.5 2. ] target -1.0 sum -0.01599999999999971 update 0.0\n",
            "[2.3 1.8] target 1.0 sum 0.007400000000000212 update 0.0\n"
          ]
        }
      ]
    },
    {
      "cell_type": "code",
      "metadata": {
        "colab": {
          "base_uri": "https://localhost:8080/"
        },
        "id": "N03rv7gJQrxB",
        "outputId": "9a9c8d79-1ed5-4627-a4de-bf59b7c3df87"
      },
      "source": [
        "print(errors_log)"
      ],
      "execution_count": null,
      "outputs": [
        {
          "output_type": "stream",
          "name": "stdout",
          "text": [
            "[5, 3, 2, 3, 3, 2, 2, 2, 2, 3, 2, 2, 2, 3, 2, 2, 2, 2, 2, 2, 3, 2, 2, 2, 2, 2, 3, 2, 2, 2, 2, 2, 2, 3, 2, 2, 2, 2, 2, 1, 0, 0, 0, 0, 0, 0, 0, 0, 0, 0]\n"
          ]
        }
      ]
    },
    {
      "cell_type": "code",
      "metadata": {
        "colab": {
          "base_uri": "https://localhost:8080/"
        },
        "id": "d_LBneXRQrxC",
        "outputId": "67c47e3b-599b-47b0-c9f5-f24bc8c1f09a"
      },
      "source": [
        "weights[0]"
      ],
      "execution_count": null,
      "outputs": [
        {
          "output_type": "execute_result",
          "data": {
            "text/plain": [
              "-0.19999999999999998"
            ]
          },
          "metadata": {},
          "execution_count": 12
        }
      ]
    },
    {
      "cell_type": "code",
      "metadata": {
        "colab": {
          "base_uri": "https://localhost:8080/"
        },
        "id": "lKKs8-TkQrxC",
        "outputId": "f4b3e61e-516c-4558-ed0f-852d55fea927"
      },
      "source": [
        "weights[1]"
      ],
      "execution_count": null,
      "outputs": [
        {
          "output_type": "execute_result",
          "data": {
            "text/plain": [
              "0.04399999999999996"
            ]
          },
          "metadata": {},
          "execution_count": 13
        }
      ]
    },
    {
      "cell_type": "code",
      "metadata": {
        "colab": {
          "base_uri": "https://localhost:8080/"
        },
        "id": "JZ9SlEYKQrxD",
        "outputId": "b012baf6-f34b-4fa9-bf5c-d7dc0286ae78"
      },
      "source": [
        "weights[2]"
      ],
      "execution_count": null,
      "outputs": [
        {
          "output_type": "execute_result",
          "data": {
            "text/plain": [
              "0.05900000000000016"
            ]
          },
          "metadata": {},
          "execution_count": 14
        }
      ]
    },
    {
      "cell_type": "code",
      "metadata": {
        "colab": {
          "base_uri": "https://localhost:8080/"
        },
        "id": "OiHqGPdiQrxE",
        "outputId": "e344da80-fab8-477c-a88c-80c826df5cae"
      },
      "source": [
        "- weights[0] / weights[2]"
      ],
      "execution_count": null,
      "outputs": [
        {
          "output_type": "execute_result",
          "data": {
            "text/plain": [
              "3.389830508474567"
            ]
          },
          "metadata": {},
          "execution_count": 15
        }
      ]
    },
    {
      "cell_type": "code",
      "metadata": {
        "colab": {
          "base_uri": "https://localhost:8080/"
        },
        "id": "LFpTuPdQQrxE",
        "outputId": "faa3bb45-0e79-4b38-e45a-8301b4bbd070"
      },
      "source": [
        "- weights[0] / weights[1]"
      ],
      "execution_count": null,
      "outputs": [
        {
          "output_type": "execute_result",
          "data": {
            "text/plain": [
              "4.5454545454545485"
            ]
          },
          "metadata": {},
          "execution_count": 16
        }
      ]
    },
    {
      "cell_type": "code",
      "metadata": {
        "collapsed": true,
        "id": "VdgALGWlQrxF"
      },
      "source": [
        ""
      ],
      "execution_count": null,
      "outputs": []
    },
    {
      "cell_type": "code",
      "metadata": {
        "colab": {
          "base_uri": "https://localhost:8080/",
          "height": 265
        },
        "id": "g4rIQi72QrxF",
        "outputId": "d21f0d52-5027-455e-b147-48e9fb88fe5e"
      },
      "source": [
        "\n",
        "\n",
        "fig = plt.figure()\n",
        "ax = fig.add_subplot(111)\n",
        "point_x = np.array([0, - weights[0] / weights[2]])\n",
        "point_y = np.array([- weights[0] / weights[1], 0])\n",
        "line, = ax.plot(point_x, point_y, 'bs-', picker=5)\n",
        "\n",
        "ax.scatter(pos[:,0], pos[:, 1], label=\"pos\")\n",
        "ax.scatter(neg[:,0], neg[:, 1], label=\"neg\")\n",
        "\n",
        "plt.show()"
      ],
      "execution_count": null,
      "outputs": [
        {
          "output_type": "display_data",
          "data": {
            "image/png": "[encoded data removed]",
            "text/plain": [
              "<Figure size 432x288 with 1 Axes>"
            ]
          },
          "metadata": {
            "needs_background": "light"
          }
        }
      ]
    },
    {
      "cell_type": "code",
      "metadata": {
        "id": "Iu49-aCwuvi_"
      },
      "source": [
        ""
      ],
      "execution_count": null,
      "outputs": []
    }
  ]
}