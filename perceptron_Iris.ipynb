{
  "nbformat": 4,
  "nbformat_minor": 0,
  "metadata": {
    "anaconda-cloud": {},
    "kernelspec": {
      "display_name": "Python [default]",
      "language": "python",
      "name": "python3"
    },
    "language_info": {
      "codemirror_mode": {
        "name": "ipython",
        "version": 3
      },
      "file_extension": ".py",
      "mimetype": "text/x-python",
      "name": "python",
      "nbconvert_exporter": "python",
      "pygments_lexer": "ipython3",
      "version": "3.5.2"
    },
    "colab": {
      "name": "perceptron_Iris",
      "provenance": [],
      "collapsed_sections": [],
      "include_colab_link": true
    }
  },
  "cells": [
    {
      "cell_type": "markdown",
      "metadata": {
        "id": "view-in-github",
        "colab_type": "text"
      },
      "source": [
        "<a href=\"https://colab.research.google.com/github/skimaza/assist/blob/main/perceptron_Iris.ipynb\" target=\"_parent\"><img src=\"https://colab.research.google.com/assets/colab-badge.svg\" alt=\"Open In Colab\"/></a>"
      ]
    },
    {
      "cell_type": "markdown",
      "metadata": {
        "id": "iDT4L18FkYhy"
      },
      "source": [
        "# AI 전략경영MBA 경영자를 위한 딥러닝 원리의 이해\n",
        "# Perceptron 실습 예제\n",
        "# 붓꽃 분류 문제"
      ]
    },
    {
      "cell_type": "markdown",
      "metadata": {
        "id": "9mb_XMn10IT-"
      },
      "source": [
        "The original code comes from Sebastian Reschka's blog (http://sebastianraschka.com/Articles/2015_singlelayer_neurons.html).<br/>\n",
        "Slightly modified for the lecture. -skimaza"
      ]
    },
    {
      "cell_type": "markdown",
      "metadata": {
        "id": "t6XsJceflZ5a"
      },
      "source": [
        "# 라이브러리 import\n",
        "- numpy: number, 특히 다차원 배열을 다루는 라이브러리(패키지)\n",
        "- pandas: 데이터를 다양한 표 형태로 취급할 수 있는 패키지\n",
        "- matplotlib: 이미지와 그래프 표시"
      ]
    },
    {
      "cell_type": "code",
      "metadata": {
        "collapsed": true,
        "id": "Uo80Wyq_0IUB"
      },
      "source": [
        "import numpy as np\n",
        "import pandas as pd\n",
        "import matplotlib.pyplot as plt"
      ],
      "execution_count": 33,
      "outputs": []
    },
    {
      "cell_type": "markdown",
      "metadata": {
        "id": "wD2rpQYnmVHx"
      },
      "source": [
        "# Colab으로 배정된 가상머신 확인"
      ]
    },
    {
      "cell_type": "markdown",
      "metadata": {
        "id": "dPzKpQlfmVFP"
      },
      "source": [
        "### 현재 디렉토리(폴더)\n",
        "### '!'로 시작하는 명령은 가상머신의 명령을 실행하라는 의미"
      ]
    },
    {
      "cell_type": "code",
      "metadata": {
        "colab": {
          "base_uri": "https://localhost:8080/"
        },
        "id": "8_5QcwU0mlQl",
        "outputId": "45b808fa-4dee-49cc-98eb-b954e1dd7e1b"
      },
      "source": [
        "!pwd"
      ],
      "execution_count": 34,
      "outputs": [
        {
          "output_type": "stream",
          "name": "stdout",
          "text": [
            "/content\n"
          ]
        }
      ]
    },
    {
      "cell_type": "markdown",
      "metadata": {
        "id": "LemgnEtimVAS"
      },
      "source": [
        "### 현재 디렉토리의 내용"
      ]
    },
    {
      "cell_type": "code",
      "metadata": {
        "colab": {
          "base_uri": "https://localhost:8080/"
        },
        "id": "IbRORir7mqLa",
        "outputId": "844349c8-768f-452c-8dd9-0e2d82f79e2d"
      },
      "source": [
        "!ls -l"
      ],
      "execution_count": 35,
      "outputs": [
        {
          "output_type": "stream",
          "name": "stdout",
          "text": [
            "total 12\n",
            "-rw-r--r-- 1 root root 4551 Sep 22 01:24 iris.dat\n",
            "drwxr-xr-x 1 root root 4096 Sep 16 13:40 sample_data\n"
          ]
        }
      ]
    },
    {
      "cell_type": "markdown",
      "metadata": {
        "id": "3oNkCO5zmU9u"
      },
      "source": [
        "### sample_data directory에는 Google Colab에서 기본으로 제공하는 데이터가 있음\n",
        "### (이번 특강에서 사용할 데이터는 아님)"
      ]
    },
    {
      "cell_type": "code",
      "metadata": {
        "colab": {
          "base_uri": "https://localhost:8080/"
        },
        "id": "JU1aM8NSmz5G",
        "outputId": "f57a86d9-f942-492d-d938-b769019447e4"
      },
      "source": [
        "!ls sample_data"
      ],
      "execution_count": 36,
      "outputs": [
        {
          "output_type": "stream",
          "name": "stdout",
          "text": [
            "anscombe.json\t\t      mnist_test.csv\n",
            "california_housing_test.csv   mnist_train_small.csv\n",
            "california_housing_train.csv  README.md\n"
          ]
        }
      ]
    },
    {
      "cell_type": "markdown",
      "metadata": {
        "id": "8ZuJpH1wmUw2"
      },
      "source": [
        "# 예제 코드"
      ]
    },
    {
      "cell_type": "code",
      "metadata": {
        "collapsed": true,
        "id": "u-O7RX6Q0IUC"
      },
      "source": [
        "weights = []\n",
        "errors_log = []\n",
        "epochs = 20\n",
        "eta = 0.01\n",
        "\n",
        "IRIS_DATA = \"iris.dat\" # Iris 데이터셋을 저장할 파일이름"
      ],
      "execution_count": 37,
      "outputs": []
    },
    {
      "cell_type": "markdown",
      "metadata": {
        "id": "z2z5Mm3ZnDHJ"
      },
      "source": [
        "### os는 운영체제 관련 기능, urllib는 인터넷으로 데이터를 다운로드받기 위한 패키지\n",
        "### 인터넷에서 Iris 데이터셋을 다운로드하여 IRIS_DATA 파일에 저장"
      ]
    },
    {
      "cell_type": "code",
      "metadata": {
        "id": "G_McqBCZ0IUE"
      },
      "source": [
        "import os\n",
        "from urllib.request import urlopen\n",
        "\n",
        "if not os.path.exists(IRIS_DATA):\n",
        "    raw = urlopen('https://archive.ics.uci.edu/ml/machine-learning-databases/iris/iris.data').read()\n",
        "    with open(IRIS_DATA, \"wb\") as f:\n",
        "        f.write(raw)"
      ],
      "execution_count": 38,
      "outputs": []
    },
    {
      "cell_type": "code",
      "metadata": {
        "colab": {
          "base_uri": "https://localhost:8080/"
        },
        "id": "l7tfgnFTniHx",
        "outputId": "cc526fba-ddad-4ed2-b092-af93028532d6"
      },
      "source": [
        "!ls -l"
      ],
      "execution_count": 39,
      "outputs": [
        {
          "output_type": "stream",
          "name": "stdout",
          "text": [
            "total 12\n",
            "-rw-r--r-- 1 root root 4551 Sep 22 01:24 iris.dat\n",
            "drwxr-xr-x 1 root root 4096 Sep 16 13:40 sample_data\n"
          ]
        }
      ]
    },
    {
      "cell_type": "markdown",
      "metadata": {
        "id": "n7NvsBz7nuhd"
      },
      "source": [
        "# pandas의 read_csv 명령을 사용하여 데이터를 pandas DataFrame 구조로 읽어들임"
      ]
    },
    {
      "cell_type": "code",
      "metadata": {
        "id": "Zl0WGOiX0IUF"
      },
      "source": [
        "df = pd.read_csv(IRIS_DATA, header=None)"
      ],
      "execution_count": 40,
      "outputs": []
    },
    {
      "cell_type": "code",
      "metadata": {
        "colab": {
          "base_uri": "https://localhost:8080/",
          "height": 419
        },
        "id": "0C0ZNL95Z2YL",
        "outputId": "e9ea82b3-b02d-46fd-80c3-cd59eae6d759"
      },
      "source": [
        "df"
      ],
      "execution_count": 41,
      "outputs": [
        {
          "output_type": "execute_result",
          "data": {
            "text/html": [
              "<div>\n",
              "<style scoped>\n",
              "    .dataframe tbody tr th:only-of-type {\n",
              "        vertical-align: middle;\n",
              "    }\n",
              "\n",
              "    .dataframe tbody tr th {\n",
              "        vertical-align: top;\n",
              "    }\n",
              "\n",
              "    .dataframe thead th {\n",
              "        text-align: right;\n",
              "    }\n",
              "</style>\n",
              "<table border=\"1\" class=\"dataframe\">\n",
              "  <thead>\n",
              "    <tr style=\"text-align: right;\">\n",
              "      <th></th>\n",
              "      <th>0</th>\n",
              "      <th>1</th>\n",
              "      <th>2</th>\n",
              "      <th>3</th>\n",
              "      <th>4</th>\n",
              "    </tr>\n",
              "  </thead>\n",
              "  <tbody>\n",
              "    <tr>\n",
              "      <th>0</th>\n",
              "      <td>5.1</td>\n",
              "      <td>3.5</td>\n",
              "      <td>1.4</td>\n",
              "      <td>0.2</td>\n",
              "      <td>Iris-setosa</td>\n",
              "    </tr>\n",
              "    <tr>\n",
              "      <th>1</th>\n",
              "      <td>4.9</td>\n",
              "      <td>3.0</td>\n",
              "      <td>1.4</td>\n",
              "      <td>0.2</td>\n",
              "      <td>Iris-setosa</td>\n",
              "    </tr>\n",
              "    <tr>\n",
              "      <th>2</th>\n",
              "      <td>4.7</td>\n",
              "      <td>3.2</td>\n",
              "      <td>1.3</td>\n",
              "      <td>0.2</td>\n",
              "      <td>Iris-setosa</td>\n",
              "    </tr>\n",
              "    <tr>\n",
              "      <th>3</th>\n",
              "      <td>4.6</td>\n",
              "      <td>3.1</td>\n",
              "      <td>1.5</td>\n",
              "      <td>0.2</td>\n",
              "      <td>Iris-setosa</td>\n",
              "    </tr>\n",
              "    <tr>\n",
              "      <th>4</th>\n",
              "      <td>5.0</td>\n",
              "      <td>3.6</td>\n",
              "      <td>1.4</td>\n",
              "      <td>0.2</td>\n",
              "      <td>Iris-setosa</td>\n",
              "    </tr>\n",
              "    <tr>\n",
              "      <th>...</th>\n",
              "      <td>...</td>\n",
              "      <td>...</td>\n",
              "      <td>...</td>\n",
              "      <td>...</td>\n",
              "      <td>...</td>\n",
              "    </tr>\n",
              "    <tr>\n",
              "      <th>145</th>\n",
              "      <td>6.7</td>\n",
              "      <td>3.0</td>\n",
              "      <td>5.2</td>\n",
              "      <td>2.3</td>\n",
              "      <td>Iris-virginica</td>\n",
              "    </tr>\n",
              "    <tr>\n",
              "      <th>146</th>\n",
              "      <td>6.3</td>\n",
              "      <td>2.5</td>\n",
              "      <td>5.0</td>\n",
              "      <td>1.9</td>\n",
              "      <td>Iris-virginica</td>\n",
              "    </tr>\n",
              "    <tr>\n",
              "      <th>147</th>\n",
              "      <td>6.5</td>\n",
              "      <td>3.0</td>\n",
              "      <td>5.2</td>\n",
              "      <td>2.0</td>\n",
              "      <td>Iris-virginica</td>\n",
              "    </tr>\n",
              "    <tr>\n",
              "      <th>148</th>\n",
              "      <td>6.2</td>\n",
              "      <td>3.4</td>\n",
              "      <td>5.4</td>\n",
              "      <td>2.3</td>\n",
              "      <td>Iris-virginica</td>\n",
              "    </tr>\n",
              "    <tr>\n",
              "      <th>149</th>\n",
              "      <td>5.9</td>\n",
              "      <td>3.0</td>\n",
              "      <td>5.1</td>\n",
              "      <td>1.8</td>\n",
              "      <td>Iris-virginica</td>\n",
              "    </tr>\n",
              "  </tbody>\n",
              "</table>\n",
              "<p>150 rows × 5 columns</p>\n",
              "</div>"
            ],
            "text/plain": [
              "       0    1    2    3               4\n",
              "0    5.1  3.5  1.4  0.2     Iris-setosa\n",
              "1    4.9  3.0  1.4  0.2     Iris-setosa\n",
              "2    4.7  3.2  1.3  0.2     Iris-setosa\n",
              "3    4.6  3.1  1.5  0.2     Iris-setosa\n",
              "4    5.0  3.6  1.4  0.2     Iris-setosa\n",
              "..   ...  ...  ...  ...             ...\n",
              "145  6.7  3.0  5.2  2.3  Iris-virginica\n",
              "146  6.3  2.5  5.0  1.9  Iris-virginica\n",
              "147  6.5  3.0  5.2  2.0  Iris-virginica\n",
              "148  6.2  3.4  5.4  2.3  Iris-virginica\n",
              "149  5.9  3.0  5.1  1.8  Iris-virginica\n",
              "\n",
              "[150 rows x 5 columns]"
            ]
          },
          "metadata": {},
          "execution_count": 41
        }
      ]
    },
    {
      "cell_type": "markdown",
      "metadata": {
        "id": "l5ep-puhaFU8"
      },
      "source": [
        "꽃받침 길이, 꽃받침 너비, 꽃잎 길이, 꽃잎 너비 (cm), 붓꽃 종류"
      ]
    },
    {
      "cell_type": "code",
      "metadata": {
        "colab": {
          "base_uri": "https://localhost:8080/"
        },
        "id": "LvFVe0fBaPBz",
        "outputId": "02733570-a879-4c02-92dd-8a44cacccdb3"
      },
      "source": [
        "df[4].values"
      ],
      "execution_count": 42,
      "outputs": [
        {
          "output_type": "execute_result",
          "data": {
            "text/plain": [
              "array(['Iris-setosa', 'Iris-setosa', 'Iris-setosa', 'Iris-setosa',\n",
              "       'Iris-setosa', 'Iris-setosa', 'Iris-setosa', 'Iris-setosa',\n",
              "       'Iris-setosa', 'Iris-setosa', 'Iris-setosa', 'Iris-setosa',\n",
              "       'Iris-setosa', 'Iris-setosa', 'Iris-setosa', 'Iris-setosa',\n",
              "       'Iris-setosa', 'Iris-setosa', 'Iris-setosa', 'Iris-setosa',\n",
              "       'Iris-setosa', 'Iris-setosa', 'Iris-setosa', 'Iris-setosa',\n",
              "       'Iris-setosa', 'Iris-setosa', 'Iris-setosa', 'Iris-setosa',\n",
              "       'Iris-setosa', 'Iris-setosa', 'Iris-setosa', 'Iris-setosa',\n",
              "       'Iris-setosa', 'Iris-setosa', 'Iris-setosa', 'Iris-setosa',\n",
              "       'Iris-setosa', 'Iris-setosa', 'Iris-setosa', 'Iris-setosa',\n",
              "       'Iris-setosa', 'Iris-setosa', 'Iris-setosa', 'Iris-setosa',\n",
              "       'Iris-setosa', 'Iris-setosa', 'Iris-setosa', 'Iris-setosa',\n",
              "       'Iris-setosa', 'Iris-setosa', 'Iris-versicolor', 'Iris-versicolor',\n",
              "       'Iris-versicolor', 'Iris-versicolor', 'Iris-versicolor',\n",
              "       'Iris-versicolor', 'Iris-versicolor', 'Iris-versicolor',\n",
              "       'Iris-versicolor', 'Iris-versicolor', 'Iris-versicolor',\n",
              "       'Iris-versicolor', 'Iris-versicolor', 'Iris-versicolor',\n",
              "       'Iris-versicolor', 'Iris-versicolor', 'Iris-versicolor',\n",
              "       'Iris-versicolor', 'Iris-versicolor', 'Iris-versicolor',\n",
              "       'Iris-versicolor', 'Iris-versicolor', 'Iris-versicolor',\n",
              "       'Iris-versicolor', 'Iris-versicolor', 'Iris-versicolor',\n",
              "       'Iris-versicolor', 'Iris-versicolor', 'Iris-versicolor',\n",
              "       'Iris-versicolor', 'Iris-versicolor', 'Iris-versicolor',\n",
              "       'Iris-versicolor', 'Iris-versicolor', 'Iris-versicolor',\n",
              "       'Iris-versicolor', 'Iris-versicolor', 'Iris-versicolor',\n",
              "       'Iris-versicolor', 'Iris-versicolor', 'Iris-versicolor',\n",
              "       'Iris-versicolor', 'Iris-versicolor', 'Iris-versicolor',\n",
              "       'Iris-versicolor', 'Iris-versicolor', 'Iris-versicolor',\n",
              "       'Iris-versicolor', 'Iris-versicolor', 'Iris-versicolor',\n",
              "       'Iris-virginica', 'Iris-virginica', 'Iris-virginica',\n",
              "       'Iris-virginica', 'Iris-virginica', 'Iris-virginica',\n",
              "       'Iris-virginica', 'Iris-virginica', 'Iris-virginica',\n",
              "       'Iris-virginica', 'Iris-virginica', 'Iris-virginica',\n",
              "       'Iris-virginica', 'Iris-virginica', 'Iris-virginica',\n",
              "       'Iris-virginica', 'Iris-virginica', 'Iris-virginica',\n",
              "       'Iris-virginica', 'Iris-virginica', 'Iris-virginica',\n",
              "       'Iris-virginica', 'Iris-virginica', 'Iris-virginica',\n",
              "       'Iris-virginica', 'Iris-virginica', 'Iris-virginica',\n",
              "       'Iris-virginica', 'Iris-virginica', 'Iris-virginica',\n",
              "       'Iris-virginica', 'Iris-virginica', 'Iris-virginica',\n",
              "       'Iris-virginica', 'Iris-virginica', 'Iris-virginica',\n",
              "       'Iris-virginica', 'Iris-virginica', 'Iris-virginica',\n",
              "       'Iris-virginica', 'Iris-virginica', 'Iris-virginica',\n",
              "       'Iris-virginica', 'Iris-virginica', 'Iris-virginica',\n",
              "       'Iris-virginica', 'Iris-virginica', 'Iris-virginica',\n",
              "       'Iris-virginica', 'Iris-virginica'], dtype=object)"
            ]
          },
          "metadata": {},
          "execution_count": 42
        }
      ]
    },
    {
      "cell_type": "code",
      "metadata": {
        "colab": {
          "base_uri": "https://localhost:8080/"
        },
        "id": "OvMNTBW_b07E",
        "outputId": "b5e745a2-af97-4d59-c252-a529dcf826b9"
      },
      "source": [
        "df.iloc[0:100, 4]"
      ],
      "execution_count": 43,
      "outputs": [
        {
          "output_type": "execute_result",
          "data": {
            "text/plain": [
              "0         Iris-setosa\n",
              "1         Iris-setosa\n",
              "2         Iris-setosa\n",
              "3         Iris-setosa\n",
              "4         Iris-setosa\n",
              "           ...       \n",
              "95    Iris-versicolor\n",
              "96    Iris-versicolor\n",
              "97    Iris-versicolor\n",
              "98    Iris-versicolor\n",
              "99    Iris-versicolor\n",
              "Name: 4, Length: 100, dtype: object"
            ]
          },
          "metadata": {},
          "execution_count": 43
        }
      ]
    },
    {
      "cell_type": "code",
      "metadata": {
        "colab": {
          "base_uri": "https://localhost:8080/"
        },
        "id": "i9RkN5gZb_IW",
        "outputId": "13a28a06-b4de-4e2f-f115-9c77623589c6"
      },
      "source": [
        "df.iloc[0:100, 4].values"
      ],
      "execution_count": 44,
      "outputs": [
        {
          "output_type": "execute_result",
          "data": {
            "text/plain": [
              "array(['Iris-setosa', 'Iris-setosa', 'Iris-setosa', 'Iris-setosa',\n",
              "       'Iris-setosa', 'Iris-setosa', 'Iris-setosa', 'Iris-setosa',\n",
              "       'Iris-setosa', 'Iris-setosa', 'Iris-setosa', 'Iris-setosa',\n",
              "       'Iris-setosa', 'Iris-setosa', 'Iris-setosa', 'Iris-setosa',\n",
              "       'Iris-setosa', 'Iris-setosa', 'Iris-setosa', 'Iris-setosa',\n",
              "       'Iris-setosa', 'Iris-setosa', 'Iris-setosa', 'Iris-setosa',\n",
              "       'Iris-setosa', 'Iris-setosa', 'Iris-setosa', 'Iris-setosa',\n",
              "       'Iris-setosa', 'Iris-setosa', 'Iris-setosa', 'Iris-setosa',\n",
              "       'Iris-setosa', 'Iris-setosa', 'Iris-setosa', 'Iris-setosa',\n",
              "       'Iris-setosa', 'Iris-setosa', 'Iris-setosa', 'Iris-setosa',\n",
              "       'Iris-setosa', 'Iris-setosa', 'Iris-setosa', 'Iris-setosa',\n",
              "       'Iris-setosa', 'Iris-setosa', 'Iris-setosa', 'Iris-setosa',\n",
              "       'Iris-setosa', 'Iris-setosa', 'Iris-versicolor', 'Iris-versicolor',\n",
              "       'Iris-versicolor', 'Iris-versicolor', 'Iris-versicolor',\n",
              "       'Iris-versicolor', 'Iris-versicolor', 'Iris-versicolor',\n",
              "       'Iris-versicolor', 'Iris-versicolor', 'Iris-versicolor',\n",
              "       'Iris-versicolor', 'Iris-versicolor', 'Iris-versicolor',\n",
              "       'Iris-versicolor', 'Iris-versicolor', 'Iris-versicolor',\n",
              "       'Iris-versicolor', 'Iris-versicolor', 'Iris-versicolor',\n",
              "       'Iris-versicolor', 'Iris-versicolor', 'Iris-versicolor',\n",
              "       'Iris-versicolor', 'Iris-versicolor', 'Iris-versicolor',\n",
              "       'Iris-versicolor', 'Iris-versicolor', 'Iris-versicolor',\n",
              "       'Iris-versicolor', 'Iris-versicolor', 'Iris-versicolor',\n",
              "       'Iris-versicolor', 'Iris-versicolor', 'Iris-versicolor',\n",
              "       'Iris-versicolor', 'Iris-versicolor', 'Iris-versicolor',\n",
              "       'Iris-versicolor', 'Iris-versicolor', 'Iris-versicolor',\n",
              "       'Iris-versicolor', 'Iris-versicolor', 'Iris-versicolor',\n",
              "       'Iris-versicolor', 'Iris-versicolor', 'Iris-versicolor',\n",
              "       'Iris-versicolor', 'Iris-versicolor', 'Iris-versicolor'],\n",
              "      dtype=object)"
            ]
          },
          "metadata": {},
          "execution_count": 44
        }
      ]
    },
    {
      "cell_type": "code",
      "metadata": {
        "collapsed": true,
        "id": "7Jc4k_sp0IUF"
      },
      "source": [
        "# setosa and versicolor\n",
        "y = np.asarray(df.iloc[0:100, 4].values)\n",
        "y = np.where(y == 'Iris-setosa', -1, 1)\n",
        "\n",
        "# sepal length and petal length\n",
        "X = np.asarray(df.iloc[0:100, [0,2]].values)"
      ],
      "execution_count": 45,
      "outputs": []
    },
    {
      "cell_type": "code",
      "metadata": {
        "id": "RrvtPKVD0IUG",
        "colab": {
          "base_uri": "https://localhost:8080/"
        },
        "outputId": "d92cb9fe-ce4c-4d5e-e09f-39d6b66cc64f"
      },
      "source": [
        "print(y)"
      ],
      "execution_count": 46,
      "outputs": [
        {
          "output_type": "stream",
          "name": "stdout",
          "text": [
            "[-1 -1 -1 -1 -1 -1 -1 -1 -1 -1 -1 -1 -1 -1 -1 -1 -1 -1 -1 -1 -1 -1 -1 -1\n",
            " -1 -1 -1 -1 -1 -1 -1 -1 -1 -1 -1 -1 -1 -1 -1 -1 -1 -1 -1 -1 -1 -1 -1 -1\n",
            " -1 -1  1  1  1  1  1  1  1  1  1  1  1  1  1  1  1  1  1  1  1  1  1  1\n",
            "  1  1  1  1  1  1  1  1  1  1  1  1  1  1  1  1  1  1  1  1  1  1  1  1\n",
            "  1  1  1  1]\n"
          ]
        }
      ]
    },
    {
      "cell_type": "code",
      "metadata": {
        "id": "NvSz8vfV0IUH",
        "colab": {
          "base_uri": "https://localhost:8080/"
        },
        "outputId": "20fc5a6a-6799-4401-d4f2-6c865547fea0"
      },
      "source": [
        "print(X)"
      ],
      "execution_count": 47,
      "outputs": [
        {
          "output_type": "stream",
          "name": "stdout",
          "text": [
            "[[5.1 1.4]\n",
            " [4.9 1.4]\n",
            " [4.7 1.3]\n",
            " [4.6 1.5]\n",
            " [5.  1.4]\n",
            " [5.4 1.7]\n",
            " [4.6 1.4]\n",
            " [5.  1.5]\n",
            " [4.4 1.4]\n",
            " [4.9 1.5]\n",
            " [5.4 1.5]\n",
            " [4.8 1.6]\n",
            " [4.8 1.4]\n",
            " [4.3 1.1]\n",
            " [5.8 1.2]\n",
            " [5.7 1.5]\n",
            " [5.4 1.3]\n",
            " [5.1 1.4]\n",
            " [5.7 1.7]\n",
            " [5.1 1.5]\n",
            " [5.4 1.7]\n",
            " [5.1 1.5]\n",
            " [4.6 1. ]\n",
            " [5.1 1.7]\n",
            " [4.8 1.9]\n",
            " [5.  1.6]\n",
            " [5.  1.6]\n",
            " [5.2 1.5]\n",
            " [5.2 1.4]\n",
            " [4.7 1.6]\n",
            " [4.8 1.6]\n",
            " [5.4 1.5]\n",
            " [5.2 1.5]\n",
            " [5.5 1.4]\n",
            " [4.9 1.5]\n",
            " [5.  1.2]\n",
            " [5.5 1.3]\n",
            " [4.9 1.5]\n",
            " [4.4 1.3]\n",
            " [5.1 1.5]\n",
            " [5.  1.3]\n",
            " [4.5 1.3]\n",
            " [4.4 1.3]\n",
            " [5.  1.6]\n",
            " [5.1 1.9]\n",
            " [4.8 1.4]\n",
            " [5.1 1.6]\n",
            " [4.6 1.4]\n",
            " [5.3 1.5]\n",
            " [5.  1.4]\n",
            " [7.  4.7]\n",
            " [6.4 4.5]\n",
            " [6.9 4.9]\n",
            " [5.5 4. ]\n",
            " [6.5 4.6]\n",
            " [5.7 4.5]\n",
            " [6.3 4.7]\n",
            " [4.9 3.3]\n",
            " [6.6 4.6]\n",
            " [5.2 3.9]\n",
            " [5.  3.5]\n",
            " [5.9 4.2]\n",
            " [6.  4. ]\n",
            " [6.1 4.7]\n",
            " [5.6 3.6]\n",
            " [6.7 4.4]\n",
            " [5.6 4.5]\n",
            " [5.8 4.1]\n",
            " [6.2 4.5]\n",
            " [5.6 3.9]\n",
            " [5.9 4.8]\n",
            " [6.1 4. ]\n",
            " [6.3 4.9]\n",
            " [6.1 4.7]\n",
            " [6.4 4.3]\n",
            " [6.6 4.4]\n",
            " [6.8 4.8]\n",
            " [6.7 5. ]\n",
            " [6.  4.5]\n",
            " [5.7 3.5]\n",
            " [5.5 3.8]\n",
            " [5.5 3.7]\n",
            " [5.8 3.9]\n",
            " [6.  5.1]\n",
            " [5.4 4.5]\n",
            " [6.  4.5]\n",
            " [6.7 4.7]\n",
            " [6.3 4.4]\n",
            " [5.6 4.1]\n",
            " [5.5 4. ]\n",
            " [5.5 4.4]\n",
            " [6.1 4.6]\n",
            " [5.8 4. ]\n",
            " [5.  3.3]\n",
            " [5.6 4.2]\n",
            " [5.7 4.2]\n",
            " [5.7 4.2]\n",
            " [6.2 4.3]\n",
            " [5.1 3. ]\n",
            " [5.7 4.1]]\n"
          ]
        }
      ]
    },
    {
      "cell_type": "code",
      "metadata": {
        "collapsed": true,
        "id": "Anxr5DIS0IUI",
        "colab": {
          "base_uri": "https://localhost:8080/"
        },
        "outputId": "7e7210e1-032b-411d-9727-e1d76e3b5e12"
      },
      "source": [
        "# Versicolor\n",
        "pos = X[[y == 1]]\n",
        "# Setosa\n",
        "neg = X[[y == -1]]"
      ],
      "execution_count": 48,
      "outputs": [
        {
          "output_type": "stream",
          "name": "stderr",
          "text": [
            "/usr/local/lib/python3.7/dist-packages/ipykernel_launcher.py:2: FutureWarning: Using a non-tuple sequence for multidimensional indexing is deprecated; use `arr[tuple(seq)]` instead of `arr[seq]`. In the future this will be interpreted as an array index, `arr[np.array(seq)]`, which will result either in an error or a different result.\n",
            "  \n",
            "/usr/local/lib/python3.7/dist-packages/ipykernel_launcher.py:4: FutureWarning: Using a non-tuple sequence for multidimensional indexing is deprecated; use `arr[tuple(seq)]` instead of `arr[seq]`. In the future this will be interpreted as an array index, `arr[np.array(seq)]`, which will result either in an error or a different result.\n",
            "  after removing the cwd from sys.path.\n"
          ]
        }
      ]
    },
    {
      "cell_type": "code",
      "metadata": {
        "id": "L0HQlNkw0IUI",
        "colab": {
          "base_uri": "https://localhost:8080/"
        },
        "outputId": "afcd6638-2866-4cb8-db75-f13e24abb7ba"
      },
      "source": [
        "print(pos)"
      ],
      "execution_count": 49,
      "outputs": [
        {
          "output_type": "stream",
          "name": "stdout",
          "text": [
            "[[7.  4.7]\n",
            " [6.4 4.5]\n",
            " [6.9 4.9]\n",
            " [5.5 4. ]\n",
            " [6.5 4.6]\n",
            " [5.7 4.5]\n",
            " [6.3 4.7]\n",
            " [4.9 3.3]\n",
            " [6.6 4.6]\n",
            " [5.2 3.9]\n",
            " [5.  3.5]\n",
            " [5.9 4.2]\n",
            " [6.  4. ]\n",
            " [6.1 4.7]\n",
            " [5.6 3.6]\n",
            " [6.7 4.4]\n",
            " [5.6 4.5]\n",
            " [5.8 4.1]\n",
            " [6.2 4.5]\n",
            " [5.6 3.9]\n",
            " [5.9 4.8]\n",
            " [6.1 4. ]\n",
            " [6.3 4.9]\n",
            " [6.1 4.7]\n",
            " [6.4 4.3]\n",
            " [6.6 4.4]\n",
            " [6.8 4.8]\n",
            " [6.7 5. ]\n",
            " [6.  4.5]\n",
            " [5.7 3.5]\n",
            " [5.5 3.8]\n",
            " [5.5 3.7]\n",
            " [5.8 3.9]\n",
            " [6.  5.1]\n",
            " [5.4 4.5]\n",
            " [6.  4.5]\n",
            " [6.7 4.7]\n",
            " [6.3 4.4]\n",
            " [5.6 4.1]\n",
            " [5.5 4. ]\n",
            " [5.5 4.4]\n",
            " [6.1 4.6]\n",
            " [5.8 4. ]\n",
            " [5.  3.3]\n",
            " [5.6 4.2]\n",
            " [5.7 4.2]\n",
            " [5.7 4.2]\n",
            " [6.2 4.3]\n",
            " [5.1 3. ]\n",
            " [5.7 4.1]]\n"
          ]
        }
      ]
    },
    {
      "cell_type": "code",
      "metadata": {
        "id": "3SaHhqi20IUI",
        "colab": {
          "base_uri": "https://localhost:8080/"
        },
        "outputId": "2888bc04-4b93-47a3-a252-b18144a2850b"
      },
      "source": [
        "print(neg)"
      ],
      "execution_count": 50,
      "outputs": [
        {
          "output_type": "stream",
          "name": "stdout",
          "text": [
            "[[5.1 1.4]\n",
            " [4.9 1.4]\n",
            " [4.7 1.3]\n",
            " [4.6 1.5]\n",
            " [5.  1.4]\n",
            " [5.4 1.7]\n",
            " [4.6 1.4]\n",
            " [5.  1.5]\n",
            " [4.4 1.4]\n",
            " [4.9 1.5]\n",
            " [5.4 1.5]\n",
            " [4.8 1.6]\n",
            " [4.8 1.4]\n",
            " [4.3 1.1]\n",
            " [5.8 1.2]\n",
            " [5.7 1.5]\n",
            " [5.4 1.3]\n",
            " [5.1 1.4]\n",
            " [5.7 1.7]\n",
            " [5.1 1.5]\n",
            " [5.4 1.7]\n",
            " [5.1 1.5]\n",
            " [4.6 1. ]\n",
            " [5.1 1.7]\n",
            " [4.8 1.9]\n",
            " [5.  1.6]\n",
            " [5.  1.6]\n",
            " [5.2 1.5]\n",
            " [5.2 1.4]\n",
            " [4.7 1.6]\n",
            " [4.8 1.6]\n",
            " [5.4 1.5]\n",
            " [5.2 1.5]\n",
            " [5.5 1.4]\n",
            " [4.9 1.5]\n",
            " [5.  1.2]\n",
            " [5.5 1.3]\n",
            " [4.9 1.5]\n",
            " [4.4 1.3]\n",
            " [5.1 1.5]\n",
            " [5.  1.3]\n",
            " [4.5 1.3]\n",
            " [4.4 1.3]\n",
            " [5.  1.6]\n",
            " [5.1 1.9]\n",
            " [4.8 1.4]\n",
            " [5.1 1.6]\n",
            " [4.6 1.4]\n",
            " [5.3 1.5]\n",
            " [5.  1.4]]\n"
          ]
        }
      ]
    },
    {
      "cell_type": "code",
      "metadata": {
        "id": "Gs4v8H0B0IUJ",
        "colab": {
          "base_uri": "https://localhost:8080/",
          "height": 296
        },
        "outputId": "da53c285-a4ac-4336-d4e3-706af926060d"
      },
      "source": [
        "# versicolor with blue dots and setosa with red dots\n",
        "plt.scatter(pos[:,0], pos[:, 1], color='blue', label=\"pos\")\n",
        "plt.scatter(neg[:,0], neg[:, 1], color='red', label=\"neg\")\n",
        "plt.xlabel(\"x1\")\n",
        "plt.ylabel(\"x2\")\n",
        "plt.legend(loc=2, scatterpoints=1, fontsize=10)"
      ],
      "execution_count": 51,
      "outputs": [
        {
          "output_type": "execute_result",
          "data": {
            "text/plain": [
              "<matplotlib.legend.Legend at 0x7f5fa0cd6a50>"
            ]
          },
          "metadata": {},
          "execution_count": 51
        },
        {
          "output_type": "display_data",
          "data": {
            "image/png": "[encoded data removed]",
            "text/plain": [
              "<Figure size 432x288 with 1 Axes>"
            ]
          },
          "metadata": {
            "needs_background": "light"
          }
        }
      ]
    },
    {
      "cell_type": "code",
      "metadata": {
        "collapsed": true,
        "id": "daf08aSl0IUJ"
      },
      "source": [
        "def train(X, y, epochs=epochs, eta=eta):\n",
        "    global weights\n",
        "    global errors_log\n",
        "    weights = np.zeros(1 + X.shape[1])\n",
        "    print(\"Initial weights\", weights)\n",
        "    errors_log = []\n",
        "\n",
        "    for i in range(epochs):\n",
        "        errors = 0\n",
        "        print(\"EPOCHS\", i+1)\n",
        "        for xi, target in zip(X, y):\n",
        "            update = eta * (target - predict(xi))\n",
        "            #print(xi, \"target\", target, \"sum\", net_input(xi), \"update\", update)\n",
        "            if update != 0:\n",
        "                weights[1:] +=  update * xi\n",
        "                weights[0] +=  update\n",
        "                print(\"Updated WEIGHTS\", weights)\n",
        "                errors += int(update != 0.0)\n",
        "        errors_log.append(errors)\n",
        "    return\n",
        "\n",
        "def net_input(X):\n",
        "    global weights\n",
        "    return np.dot(X, weights[1:]) + weights[0]\n",
        "\n",
        "def predict(X):\n",
        "    return np.where(net_input(X) > 0.0, 1, -1)"
      ],
      "execution_count": 52,
      "outputs": []
    },
    {
      "cell_type": "code",
      "metadata": {
        "id": "tmGsfxDp0IUK",
        "colab": {
          "base_uri": "https://localhost:8080/"
        },
        "outputId": "e2fd56a6-55c1-445c-f84b-410b2145a243"
      },
      "source": [
        "train(X, y)"
      ],
      "execution_count": 53,
      "outputs": [
        {
          "output_type": "stream",
          "name": "stdout",
          "text": [
            "Initial weights [0. 0. 0.]\n",
            "EPOCHS 1\n",
            "Updated WEIGHTS [0.02  0.14  0.094]\n",
            "EPOCHS 2\n",
            "Updated WEIGHTS [0.    0.038 0.066]\n",
            "Updated WEIGHTS [-0.02  -0.06   0.038]\n",
            "Updated WEIGHTS [0.    0.08  0.132]\n",
            "EPOCHS 3\n",
            "Updated WEIGHTS [-0.02  -0.022  0.104]\n",
            "Updated WEIGHTS [-0.04  -0.12   0.076]\n",
            "Updated WEIGHTS [-0.02  0.02  0.17]\n",
            "EPOCHS 4\n",
            "Updated WEIGHTS [-0.04  -0.082  0.142]\n",
            "Updated WEIGHTS [-0.02   0.032  0.212]\n",
            "EPOCHS 5\n",
            "Updated WEIGHTS [-0.04  -0.07   0.184]\n",
            "EPOCHS 6\n",
            "EPOCHS 7\n",
            "EPOCHS 8\n",
            "EPOCHS 9\n",
            "EPOCHS 10\n",
            "EPOCHS 11\n",
            "EPOCHS 12\n",
            "EPOCHS 13\n",
            "EPOCHS 14\n",
            "EPOCHS 15\n",
            "EPOCHS 16\n",
            "EPOCHS 17\n",
            "EPOCHS 18\n",
            "EPOCHS 19\n",
            "EPOCHS 20\n"
          ]
        }
      ]
    },
    {
      "cell_type": "code",
      "metadata": {
        "id": "u-Kl9xaV0IUL",
        "colab": {
          "base_uri": "https://localhost:8080/"
        },
        "outputId": "90ceafbd-eea8-404e-dae0-8ecae759ae10"
      },
      "source": [
        "print(errors_log)"
      ],
      "execution_count": 54,
      "outputs": [
        {
          "output_type": "stream",
          "name": "stdout",
          "text": [
            "[1, 3, 3, 2, 1, 0, 0, 0, 0, 0, 0, 0, 0, 0, 0, 0, 0, 0, 0, 0]\n"
          ]
        }
      ]
    },
    {
      "cell_type": "code",
      "metadata": {
        "id": "I0E_i3WG0IUL",
        "colab": {
          "base_uri": "https://localhost:8080/"
        },
        "outputId": "818b5403-bfe9-4fc8-e01d-ff485adb103f"
      },
      "source": [
        "print(weights)"
      ],
      "execution_count": 55,
      "outputs": [
        {
          "output_type": "stream",
          "name": "stdout",
          "text": [
            "[-0.04  -0.07   0.184]\n"
          ]
        }
      ]
    },
    {
      "cell_type": "markdown",
      "metadata": {
        "id": "jRLg8XlwfaFj"
      },
      "source": [
        "$w_{1}x_{1} + w_{2}x_{2} + w_{0} = 0$  \n",
        "$x_{2} = - \\frac{w_{1}}{w_{2}}x_{1} - \\frac{w_{0}}{w_{2}}$"
      ]
    },
    {
      "cell_type": "code",
      "metadata": {
        "id": "-JwE4tS30IUL",
        "colab": {
          "base_uri": "https://localhost:8080/",
          "height": 279
        },
        "outputId": "007a35c3-8c05-4247-b283-6447f3d25a29"
      },
      "source": [
        "\n",
        "fig = plt.figure()\n",
        "ax = fig.add_subplot(111)\n",
        "\n",
        "# draw between 4 and 7 of x1\n",
        "point_x = np.array([4, 7])\n",
        "# x2 = -(w0 + w1 * x1) / w2\n",
        "point_y = np.array([- (weights[0] + weights[1] * 4) / weights[2], - (weights[0] + weights[1] * 7) / weights[2]])\n",
        "line, = ax.plot(point_x, point_y, 'b-', picker=5)\n",
        "\n",
        "ax.scatter(pos[:,0], pos[:, 1], color='blue', label=\"pos\")\n",
        "ax.scatter(neg[:,0], neg[:, 1], color='red', label=\"neg\")\n",
        "plt.xlabel(\"x1\")\n",
        "plt.ylabel(\"x2\")\n",
        "plt.legend(loc=2, scatterpoints=1, fontsize=10)\n",
        "\n",
        "plt.show()"
      ],
      "execution_count": 56,
      "outputs": [
        {
          "output_type": "display_data",
          "data": {
            "image/png": "[encoded data removed]",
            "text/plain": [
              "<Figure size 432x288 with 1 Axes>"
            ]
          },
          "metadata": {
            "needs_background": "light"
          }
        }
      ]
    },
    {
      "cell_type": "code",
      "metadata": {
        "collapsed": true,
        "id": "r5xDPH6d0IUM"
      },
      "source": [
        ""
      ],
      "execution_count": 56,
      "outputs": []
    }
  ]
}