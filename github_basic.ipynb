{
  "nbformat": 4,
  "nbformat_minor": 0,
  "metadata": {
    "colab": {
      "name": "github basic.ipynb",
      "provenance": [],
      "collapsed_sections": [],
      "authorship_tag": "ABX9TyP8RP41c6JRNiuyuEIxQwTY",
      "include_colab_link": true
    },
    "kernelspec": {
      "name": "python3",
      "display_name": "Python 3"
    },
    "language_info": {
      "name": "python"
    }
  },
  "cells": [
    {
      "cell_type": "markdown",
      "metadata": {
        "id": "view-in-github",
        "colab_type": "text"
      },
      "source": [
        "<a href=\"https://colab.research.google.com/github/skimaza/assist/blob/main/github_basic.ipynb\" target=\"_parent\"><img src=\"https://colab.research.google.com/assets/colab-badge.svg\" alt=\"Open In Colab\"/></a>"
      ]
    },
    {
      "cell_type": "markdown",
      "metadata": {
        "id": "FnN3OdnJto7v"
      },
      "source": [
        "# 처음으로 github에서 Colab을 연결했을 때 시험해보는 코드\n",
        "## .ipynb 파일을 오픈한 후 Open in Colab 버튼을 누르면 Colab에서 실행됨"
      ]
    },
    {
      "cell_type": "code",
      "metadata": {
        "id": "mnyrEcxel7ix"
      },
      "source": [
        "import sys\n",
        "import torch\n",
        "import numpy as np"
      ],
      "execution_count": null,
      "outputs": []
    },
    {
      "cell_type": "markdown",
      "metadata": {
        "id": "HBHRNqYJmefo"
      },
      "source": [
        "# Python version"
      ]
    },
    {
      "cell_type": "code",
      "metadata": {
        "colab": {
          "base_uri": "https://localhost:8080/"
        },
        "id": "WoGydNCFmZeL",
        "outputId": "2e8a96d5-e7ba-48be-a030-baf6341e1529"
      },
      "source": [
        "print(sys.version)"
      ],
      "execution_count": null,
      "outputs": [
        {
          "output_type": "stream",
          "text": [
            "3.7.11 (default, Jul  3 2021, 18:01:19) \n",
            "[GCC 7.5.0]\n"
          ],
          "name": "stdout"
        }
      ]
    },
    {
      "cell_type": "markdown",
      "metadata": {
        "id": "8z62ICF_nAmK"
      },
      "source": [
        "파이썬 버전은 3.7"
      ]
    },
    {
      "cell_type": "code",
      "metadata": {
        "colab": {
          "base_uri": "https://localhost:8080/"
        },
        "id": "rsi-YqtAmkCS",
        "outputId": "78632711-2f7b-4aa4-f77e-b449974a9506"
      },
      "source": [
        "print(torch.__version__)"
      ],
      "execution_count": null,
      "outputs": [
        {
          "output_type": "stream",
          "text": [
            "1.9.0+cu102\n"
          ],
          "name": "stdout"
        }
      ]
    },
    {
      "cell_type": "markdown",
      "metadata": {
        "id": "2MPMLjpqmsHc"
      },
      "source": [
        "1.9.0은 PyTorch 버전. cu102는 Cuda 라이브러리 버전. GPU를 지원하는 버전이라는 의미"
      ]
    },
    {
      "cell_type": "code",
      "metadata": {
        "colab": {
          "base_uri": "https://localhost:8080/"
        },
        "id": "qxsbYYP7mpz5",
        "outputId": "17151b0f-6194-4598-efbd-be4af300c06d"
      },
      "source": [
        "print(np.__version__)"
      ],
      "execution_count": null,
      "outputs": [
        {
          "output_type": "stream",
          "text": [
            "1.19.5\n"
          ],
          "name": "stdout"
        }
      ]
    },
    {
      "cell_type": "code",
      "metadata": {
        "id": "4WgTtqjlnGOq"
      },
      "source": [
        "hello = \"Hello, world!\""
      ],
      "execution_count": null,
      "outputs": []
    },
    {
      "cell_type": "code",
      "metadata": {
        "colab": {
          "base_uri": "https://localhost:8080/"
        },
        "id": "iSdCGxrMnrLR",
        "outputId": "9483beaa-605f-478e-b071-9ce038212acb"
      },
      "source": [
        "print(hello)"
      ],
      "execution_count": null,
      "outputs": [
        {
          "output_type": "stream",
          "text": [
            "Hello, world!\n"
          ],
          "name": "stdout"
        }
      ]
    },
    {
      "cell_type": "code",
      "metadata": {
        "colab": {
          "base_uri": "https://localhost:8080/",
          "height": 34
        },
        "id": "Sv42lITmntUU",
        "outputId": "db480d82-2432-4562-be11-20fa17965f9a"
      },
      "source": [
        "hello[:5]"
      ],
      "execution_count": null,
      "outputs": [
        {
          "output_type": "execute_result",
          "data": {
            "application/vnd.google.colaboratory.intrinsic+json": {
              "type": "string"
            },
            "text/plain": [
              "'Hello'"
            ]
          },
          "metadata": {
            "tags": []
          },
          "execution_count": 9
        }
      ]
    },
    {
      "cell_type": "markdown",
      "metadata": {
        "id": "B4TxH2bDnx7O"
      },
      "source": [
        "위의 'Hello'는 셀의 마지막 문장의 리턴값임"
      ]
    },
    {
      "cell_type": "code",
      "metadata": {
        "colab": {
          "base_uri": "https://localhost:8080/",
          "height": 51
        },
        "id": "j1jemVaNnwFC",
        "outputId": "c2387528-253a-4a09-e5c1-f3e5f8b11b57"
      },
      "source": [
        "print(hello[:2])\n",
        "hello[:5]"
      ],
      "execution_count": null,
      "outputs": [
        {
          "output_type": "stream",
          "text": [
            "He\n"
          ],
          "name": "stdout"
        },
        {
          "output_type": "execute_result",
          "data": {
            "application/vnd.google.colaboratory.intrinsic+json": {
              "type": "string"
            },
            "text/plain": [
              "'Hello'"
            ]
          },
          "metadata": {
            "tags": []
          },
          "execution_count": 10
        }
      ]
    },
    {
      "cell_type": "markdown",
      "metadata": {
        "id": "I9c5_3YaoK2R"
      },
      "source": [
        "명령의 마지막에 세미콜론 ';'을 붙이면 리턴값을 보이지 않게 할 수 있음"
      ]
    },
    {
      "cell_type": "code",
      "metadata": {
        "colab": {
          "base_uri": "https://localhost:8080/"
        },
        "id": "INY2Bx20oHwX",
        "outputId": "7d7a7e6e-cdb7-4963-ef5a-01e802f4251a"
      },
      "source": [
        "print(hello[:2])\n",
        "hello[:5];"
      ],
      "execution_count": null,
      "outputs": [
        {
          "output_type": "stream",
          "text": [
            "He\n"
          ],
          "name": "stdout"
        }
      ]
    },
    {
      "cell_type": "markdown",
      "metadata": {
        "id": "JlnVkbbboj86"
      },
      "source": [
        "print 결과만 표시됨"
      ]
    },
    {
      "cell_type": "markdown",
      "metadata": {
        "id": "nvPJZGIyo2C0"
      },
      "source": [
        "# 자주 쓰는 python 기능"
      ]
    },
    {
      "cell_type": "code",
      "metadata": {
        "colab": {
          "base_uri": "https://localhost:8080/"
        },
        "id": "L4qLFSY5obgH",
        "outputId": "9b386a39-0e75-460d-9b4b-2aebda3a4096"
      },
      "source": [
        "sample_text = \"Colaboratory를 사용하면 브라우저에서 Python 프로그램을 작성하고 실행할 수 있습니다.\"\n",
        "print(sample_text)\n",
        "print(\"위와 동일:\", sample_text[::])\n",
        "print(\"처음부터 10번째 문자까지:\", sample_text[:10])\n",
        "print(\"5번째에서 15번째 문자까지:\", sample_text[5:15])\n",
        "print(\"마지막 5개 문자:\", sample_text[-5:])"
      ],
      "execution_count": null,
      "outputs": [
        {
          "output_type": "stream",
          "text": [
            "Colaboratory를 사용하면 브라우저에서 Python을 작성하고 실행할 수 있습니다.\n",
            "위와 동일: Colaboratory를 사용하면 브라우저에서 Python을 작성하고 실행할 수 있습니다.\n",
            "처음부터 10번째 문자까지: Colaborato\n",
            "5번째에서 15번째 문자까지: oratory를 사\n",
            "마지막 5개 문자: 있습니다.\n"
          ],
          "name": "stdout"
        }
      ]
    },
    {
      "cell_type": "code",
      "metadata": {
        "colab": {
          "base_uri": "https://localhost:8080/"
        },
        "id": "Wb1R1eFTpzBw",
        "outputId": "ce534494-dee9-4127-ded5-2bc84cce80ae"
      },
      "source": [
        "print(\"한 칸씩 건너뛰기.\", sample_text[::2])"
      ],
      "execution_count": null,
      "outputs": [
        {
          "output_type": "stream",
          "text": [
            "한 칸씩 건너뛰기. Clbrtr를사하 라저서Pto을작하 행  습다\n"
          ],
          "name": "stdout"
        }
      ]
    },
    {
      "cell_type": "markdown",
      "metadata": {
        "id": "5aVa3gEOqTSS"
      },
      "source": [
        "위 기능은 문자열에선 의미없는 경우가 많지만 숫자 배열을 다룰 때 유용한 기능임"
      ]
    },
    {
      "cell_type": "code",
      "metadata": {
        "colab": {
          "base_uri": "https://localhost:8080/"
        },
        "id": "_a2CGg6sqEb6",
        "outputId": "aa5fea21-b248-48a0-ba07-3d467cc83111"
      },
      "source": [
        "sample_list = [1,2,3,4]\n",
        "print('sample_list', sample_list)\n",
        "print('len(sample_list):', len(sample_list))\n",
        "for x in range(len(sample_list)):\n",
        "    print(x)"
      ],
      "execution_count": null,
      "outputs": [
        {
          "output_type": "stream",
          "text": [
            "sample_list [1, 2, 3, 4]\n",
            "len(sample_list): 4\n",
            "0\n",
            "1\n",
            "2\n",
            "3\n"
          ],
          "name": "stdout"
        }
      ]
    },
    {
      "cell_type": "markdown",
      "metadata": {
        "id": "OK8MBmDpqmrH"
      },
      "source": [
        "# list comprehension"
      ]
    },
    {
      "cell_type": "code",
      "metadata": {
        "id": "kgS4GFSkqk5D"
      },
      "source": [
        "sample_list2 = [x for x in range(10)]"
      ],
      "execution_count": null,
      "outputs": []
    },
    {
      "cell_type": "code",
      "metadata": {
        "colab": {
          "base_uri": "https://localhost:8080/"
        },
        "id": "EDK5UN4zqtCc",
        "outputId": "a7f0a004-0040-4f15-eab3-3aa327fbfa90"
      },
      "source": [
        "print(len(sample_list2))"
      ],
      "execution_count": null,
      "outputs": [
        {
          "output_type": "stream",
          "text": [
            "10\n"
          ],
          "name": "stdout"
        }
      ]
    },
    {
      "cell_type": "code",
      "metadata": {
        "colab": {
          "base_uri": "https://localhost:8080/"
        },
        "id": "_XF4zG2xquCL",
        "outputId": "3ade10d2-2a88-42f8-d957-4bde81797ebd"
      },
      "source": [
        "sample_list2"
      ],
      "execution_count": null,
      "outputs": [
        {
          "output_type": "execute_result",
          "data": {
            "text/plain": [
              "[0, 1, 2, 3, 4, 5, 6, 7, 8, 9]"
            ]
          },
          "metadata": {
            "tags": []
          },
          "execution_count": 27
        }
      ]
    },
    {
      "cell_type": "code",
      "metadata": {
        "colab": {
          "base_uri": "https://localhost:8080/"
        },
        "id": "mFnPjB67rNbc",
        "outputId": "85640639-3d50-49fc-cf61-c4b31e798bee"
      },
      "source": [
        "print(sample_list2[::2])"
      ],
      "execution_count": null,
      "outputs": [
        {
          "output_type": "stream",
          "text": [
            "[0, 2, 4, 6, 8]\n"
          ],
          "name": "stdout"
        }
      ]
    },
    {
      "cell_type": "code",
      "metadata": {
        "colab": {
          "base_uri": "https://localhost:8080/"
        },
        "id": "RvDgWJynrRSG",
        "outputId": "5939e30a-1e74-490a-9cf8-bd29808f0005"
      },
      "source": [
        "print(sample_list2[1::2])"
      ],
      "execution_count": null,
      "outputs": [
        {
          "output_type": "stream",
          "text": [
            "[1, 3, 5, 7, 9]\n"
          ],
          "name": "stdout"
        }
      ]
    },
    {
      "cell_type": "markdown",
      "metadata": {
        "id": "7-xNinwXrx4A"
      },
      "source": [
        "# Shell 명령\n",
        "- colab 가상머신은 리눅스 운영체제를 사용\n",
        "- 리눅스 쉘 명령은 '!'를 앞에 붙여서 사용"
      ]
    },
    {
      "cell_type": "code",
      "metadata": {
        "colab": {
          "base_uri": "https://localhost:8080/"
        },
        "id": "y8SdJjrXrT2Y",
        "outputId": "0fff462d-c886-46e7-bcd5-cbf074e1f37c"
      },
      "source": [
        "!pwd"
      ],
      "execution_count": null,
      "outputs": [
        {
          "output_type": "stream",
          "text": [
            "/content\n"
          ],
          "name": "stdout"
        }
      ]
    },
    {
      "cell_type": "markdown",
      "metadata": {
        "id": "mHUD4ij1sSWG"
      },
      "source": [
        "Colab 가상머신의 홈 디렉토리"
      ]
    },
    {
      "cell_type": "code",
      "metadata": {
        "colab": {
          "base_uri": "https://localhost:8080/"
        },
        "id": "ZKQO8Bq0sKir",
        "outputId": "331eebee-116e-4172-e88f-964f1c080a97"
      },
      "source": [
        "!ls"
      ],
      "execution_count": null,
      "outputs": [
        {
          "output_type": "stream",
          "text": [
            "sample_data\n"
          ],
          "name": "stdout"
        }
      ]
    },
    {
      "cell_type": "code",
      "metadata": {
        "colab": {
          "base_uri": "https://localhost:8080/"
        },
        "id": "1giL7zXEsbXU",
        "outputId": "2357a379-e730-4c05-8c2f-1e17bc69ef28"
      },
      "source": [
        "!ls sample_data"
      ],
      "execution_count": null,
      "outputs": [
        {
          "output_type": "stream",
          "text": [
            "anscombe.json\t\t      mnist_test.csv\n",
            "california_housing_test.csv   mnist_train_small.csv\n",
            "california_housing_train.csv  README.md\n"
          ],
          "name": "stdout"
        }
      ]
    },
    {
      "cell_type": "markdown",
      "metadata": {
        "id": "yoTNhvt3sfa9"
      },
      "source": [
        "# sample_data 디렉토리에는 colab에서 기본으로 제공하는 연습용 데이터가 있음"
      ]
    },
    {
      "cell_type": "code",
      "metadata": {
        "colab": {
          "base_uri": "https://localhost:8080/"
        },
        "id": "HoN_AVJUsd5C",
        "outputId": "c314dd7b-5d28-4bd3-e78c-1c5a7246620d"
      },
      "source": [
        "!cat sample_data/README.md"
      ],
      "execution_count": null,
      "outputs": [
        {
          "output_type": "stream",
          "text": [
            "This directory includes a few sample datasets to get you started.\n",
            "\n",
            "*   `california_housing_data*.csv` is California housing data from the 1990 US\n",
            "    Census; more information is available at:\n",
            "    https://developers.google.com/machine-learning/crash-course/california-housing-data-description\n",
            "\n",
            "*   `mnist_*.csv` is a small sample of the\n",
            "    [MNIST database](https://en.wikipedia.org/wiki/MNIST_database), which is\n",
            "    described at: http://yann.lecun.com/exdb/mnist/\n",
            "\n",
            "*   `anscombe.json` contains a copy of\n",
            "    [Anscombe's quartet](https://en.wikipedia.org/wiki/Anscombe%27s_quartet); it\n",
            "    was originally described in\n",
            "\n",
            "    Anscombe, F. J. (1973). 'Graphs in Statistical Analysis'. American\n",
            "    Statistician. 27 (1): 17-21. JSTOR 2682899.\n",
            "\n",
            "    and our copy was prepared by the\n",
            "    [vega_datasets library](https://github.com/altair-viz/vega_datasets/blob/4f67bdaad10f45e3549984e17e1b3088c731503d/vega_datasets/_data/anscombe.json).\n"
          ],
          "name": "stdout"
        }
      ]
    },
    {
      "cell_type": "code",
      "metadata": {
        "id": "6YUjR09isnU9"
      },
      "source": [
        ""
      ],
      "execution_count": null,
      "outputs": []
    }
  ]
}