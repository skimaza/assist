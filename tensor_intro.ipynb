{
  "nbformat": 4,
  "nbformat_minor": 0,
  "metadata": {
    "kernelspec": {
      "display_name": "Python 3",
      "language": "python",
      "name": "python3"
    },
    "language_info": {
      "codemirror_mode": {
        "name": "ipython",
        "version": 3
      },
      "file_extension": ".py",
      "mimetype": "text/x-python",
      "name": "python",
      "nbconvert_exporter": "python",
      "pygments_lexer": "ipython3",
      "version": "3.6.8"
    },
    "colab": {
      "name": "tensor_intro",
      "provenance": [],
      "collapsed_sections": [],
      "include_colab_link": true
    },
    "accelerator": "GPU"
  },
  "cells": [
    {
      "cell_type": "markdown",
      "metadata": {
        "id": "view-in-github",
        "colab_type": "text"
      },
      "source": [
        "<a href=\"https://colab.research.google.com/github/skimaza/assist/blob/main/tensor_intro.ipynb\" target=\"_parent\"><img src=\"https://colab.research.google.com/assets/colab-badge.svg\" alt=\"Open In Colab\"/></a>"
      ]
    },
    {
      "cell_type": "markdown",
      "metadata": {
        "id": "3YsVosR9RLd-"
      },
      "source": [
        "# 참고 문서\n",
        "https://pytorch.org/tutorials/beginner/blitz/tensor_tutorial.html#sphx-glr-beginner-blitz-tensor-tutorial-py   \n",
        "https://pytorch.org/tutorials/beginner/blitz/autograd_tutorial.html  \n",
        "\n",
        "\n",
        "Deep Learning with PyTorch"
      ]
    },
    {
      "cell_type": "markdown",
      "metadata": {
        "id": "XB7Ek_VE7Ukx"
      },
      "source": [
        "\n",
        "What is PyTorch?\n",
        "================\n",
        "\n",
        "It’s a Python-based scientific computing package targeted at two sets of\n",
        "audiences:\n",
        "\n",
        "-  A replacement for NumPy to use the power of GPUs\n",
        "-  a deep learning research platform that provides maximum flexibility\n",
        "   and speed\n",
        "\n",
        "Getting Started\n",
        "---------------\n",
        "\n",
        "Tensors\n",
        "^^^^^^^\n",
        "\n",
        "Tensors are similar to NumPy’s ndarrays, with the addition being that\n",
        "Tensors can also be used on a GPU to accelerate computing.\n",
        "\n"
      ]
    },
    {
      "cell_type": "code",
      "metadata": {
        "id": "d1MYO7Au7Uky"
      },
      "source": [
        "from __future__ import print_function\n",
        "import torch"
      ],
      "execution_count": 1,
      "outputs": []
    },
    {
      "cell_type": "code",
      "metadata": {
        "id": "0nG6e-Tum0Fl",
        "colab": {
          "base_uri": "https://localhost:8080/"
        },
        "outputId": "bc5ae060-8dbf-44e9-f8fa-3ddc38d96837"
      },
      "source": [
        "x = torch.empty(5, 3) # 5행, 3열의 텐서. 값은 모두 garbage\n",
        "print(x)"
      ],
      "execution_count": 2,
      "outputs": [
        {
          "output_type": "stream",
          "name": "stdout",
          "text": [
            "tensor([[-1.7494e+15,  3.0658e-41,  3.3631e-44],\n",
            "        [ 0.0000e+00,         nan,  3.0658e-41],\n",
            "        [ 1.1578e+27,  1.1362e+30,  7.1547e+22],\n",
            "        [ 4.5828e+30,  1.2121e+04,  7.1846e+22],\n",
            "        [ 9.2198e-39,  7.0374e+22, -4.7380e+14]])\n"
          ]
        }
      ]
    },
    {
      "cell_type": "code",
      "metadata": {
        "id": "ByQ9aUGDm3Hb",
        "colab": {
          "base_uri": "https://localhost:8080/"
        },
        "outputId": "e944e3dd-e434-4425-cfcc-d48e90a73eee"
      },
      "source": [
        "print(x.size()) # size, shape"
      ],
      "execution_count": 3,
      "outputs": [
        {
          "output_type": "stream",
          "name": "stdout",
          "text": [
            "torch.Size([5, 3])\n"
          ]
        }
      ]
    },
    {
      "cell_type": "code",
      "metadata": {
        "id": "0O7eqkb-m-kT",
        "colab": {
          "base_uri": "https://localhost:8080/"
        },
        "outputId": "a7d5f61d-a096-4a08-a06c-3990c5972a6f"
      },
      "source": [
        "print(x.shape)"
      ],
      "execution_count": 4,
      "outputs": [
        {
          "output_type": "stream",
          "name": "stdout",
          "text": [
            "torch.Size([5, 3])\n"
          ]
        }
      ]
    },
    {
      "cell_type": "markdown",
      "metadata": {
        "id": "TvWXxh1S7Uk2"
      },
      "source": [
        "<div class=\"alert alert-info\"><h1>Uninitialized vs random</h1><p>An uninitialized matrix is declared,\n",
        "    but does not contain definite known\n",
        "    values before it is used. When an\n",
        "    uninitialized matrix is created,\n",
        "    whatever values were in the allocated\n",
        "    memory at the time will appear as the initial values.</p></div>\n",
        "\n",
        "\n",
        "---\n",
        "\n",
        "\n"
      ]
    },
    {
      "cell_type": "markdown",
      "metadata": {
        "id": "VMnBfPn47Uk3"
      },
      "source": [
        "Construct a 5x3 matrix, uninitialized:\n",
        "\n",
        "즉 값이 garbage임. random이 아님.\n",
        "\n"
      ]
    },
    {
      "cell_type": "code",
      "metadata": {
        "id": "tLy26cTZ7Uk3",
        "colab": {
          "base_uri": "https://localhost:8080/"
        },
        "outputId": "d4f74238-a592-47ba-cf9a-c140263944a5"
      },
      "source": [
        "x = torch.empty(5, 3)\n",
        "print(x)"
      ],
      "execution_count": 5,
      "outputs": [
        {
          "output_type": "stream",
          "name": "stdout",
          "text": [
            "tensor([[-1.7494e+15,  3.0658e-41,  3.3631e-44],\n",
            "        [ 0.0000e+00,         nan,  0.0000e+00],\n",
            "        [ 4.4721e+21,  1.5956e+25,  4.7399e+16],\n",
            "        [ 3.7293e-08,  3.9664e+28,  6.9397e+22],\n",
            "        [ 1.7260e+25,  2.2856e+20,  5.0948e-14]])\n"
          ]
        }
      ]
    },
    {
      "cell_type": "code",
      "metadata": {
        "id": "pNr5QHrK8qrg",
        "colab": {
          "base_uri": "https://localhost:8080/"
        },
        "outputId": "7d210878-4135-47b2-a564-fff87c28651f"
      },
      "source": [
        "print(torch.get_default_dtype())"
      ],
      "execution_count": 6,
      "outputs": [
        {
          "output_type": "stream",
          "name": "stdout",
          "text": [
            "torch.float32\n"
          ]
        }
      ]
    },
    {
      "cell_type": "code",
      "metadata": {
        "id": "R9Ne2vxg82U1",
        "colab": {
          "base_uri": "https://localhost:8080/"
        },
        "outputId": "0f41093b-88bf-40d6-bc1c-355f79fcd753"
      },
      "source": [
        "print(x.dtype)"
      ],
      "execution_count": 7,
      "outputs": [
        {
          "output_type": "stream",
          "name": "stdout",
          "text": [
            "torch.float32\n"
          ]
        }
      ]
    },
    {
      "cell_type": "markdown",
      "metadata": {
        "id": "bAh3IuFA89wL"
      },
      "source": [
        "torch.empty는 torch의 global default dtype 이면서 garbage 값을 가지는 원소가 채워진 텐서를 생성.\n",
        "\n",
        "즉 디폴트 타입을 갖는 빈 텐서를 생성."
      ]
    },
    {
      "cell_type": "code",
      "metadata": {
        "id": "DTWE-5Cp7a-M",
        "colab": {
          "base_uri": "https://localhost:8080/"
        },
        "outputId": "b57310cb-ca9c-4fdb-b950-d36bbfbdd65a"
      },
      "source": [
        "x = torch.FloatTensor(5,3)\n",
        "print(x)"
      ],
      "execution_count": 8,
      "outputs": [
        {
          "output_type": "stream",
          "name": "stdout",
          "text": [
            "tensor([[-1.7494e+15,  3.0658e-41,  3.7835e-44],\n",
            "        [ 0.0000e+00,         nan,  1.1362e+30],\n",
            "        [ 1.3733e-14,  6.4069e+02,  4.3066e+21],\n",
            "        [ 1.1824e+22,  4.3066e+21,  6.3828e+28],\n",
            "        [ 3.8016e-39,  0.0000e+00,  0.0000e+00]])\n"
          ]
        }
      ]
    },
    {
      "cell_type": "markdown",
      "metadata": {
        "id": "jl2V2i5DCHBY"
      },
      "source": [
        "<h1>주의) torch.Tensor와 torch.tensor 사용 예.</h1>\n",
        "\n",
        "torch.Tensor는 Tensor 클래스를 instantiation. 즉 torch.empty와 같은 동작.\n",
        "\n",
        "torch.tensor는 인자로 받는 데이터 값을 복제. 인자는 리스트, 튜플, ndarray, 스칼라 값 등 다양한 형태. 텐서를 만드는 가장 일반적 형태임."
      ]
    },
    {
      "cell_type": "code",
      "metadata": {
        "id": "_sgjVeEt7bbM",
        "colab": {
          "base_uri": "https://localhost:8080/"
        },
        "outputId": "add66efa-2086-42a9-d946-9e941896621f"
      },
      "source": [
        "x = torch.Tensor(5,3)\n",
        "print(x, x.dtype) # 의미없는 값."
      ],
      "execution_count": 9,
      "outputs": [
        {
          "output_type": "stream",
          "name": "stdout",
          "text": [
            "tensor([[-1.7495e+15,  3.0658e-41,  2.3694e-38],\n",
            "        [ 9.2196e-41, -1.7494e+15,  3.0658e-41],\n",
            "        [-1.8418e+15,  3.0658e-41, -1.8247e+15],\n",
            "        [ 3.0658e-41, -1.8247e+15,  3.0658e-41],\n",
            "        [-1.8247e+15,  3.0658e-41,  5.0948e-14]]) torch.float32\n"
          ]
        }
      ]
    },
    {
      "cell_type": "code",
      "metadata": {
        "id": "tl2GY_O5C6IK",
        "colab": {
          "base_uri": "https://localhost:8080/"
        },
        "outputId": "8aa85540-bc41-4db0-df2a-a27e070d6d22"
      },
      "source": [
        "x = torch.tensor([[0.1, 1.2], [2.2, 3.1], [4.9, 5.2]])\n",
        "print(x, x.dtype)"
      ],
      "execution_count": 10,
      "outputs": [
        {
          "output_type": "stream",
          "name": "stdout",
          "text": [
            "tensor([[0.1000, 1.2000],\n",
            "        [2.2000, 3.1000],\n",
            "        [4.9000, 5.2000]]) torch.float32\n"
          ]
        }
      ]
    },
    {
      "cell_type": "code",
      "metadata": {
        "id": "cW6la-yPDH9J",
        "colab": {
          "base_uri": "https://localhost:8080/"
        },
        "outputId": "7411261a-164a-4a00-98ce-c3d8fe3d96db"
      },
      "source": [
        "x = torch.tensor([0, 1]) # dtype을 인자의 값에서 유추하여 설정\n",
        "print(x, x.dtype) "
      ],
      "execution_count": 11,
      "outputs": [
        {
          "output_type": "stream",
          "name": "stdout",
          "text": [
            "tensor([0, 1]) torch.int64\n"
          ]
        }
      ]
    },
    {
      "cell_type": "code",
      "metadata": {
        "id": "XiIAEMsfDhnD",
        "colab": {
          "base_uri": "https://localhost:8080/"
        },
        "outputId": "0a1516ff-cf66-4934-90b3-ce328df6083b"
      },
      "source": [
        "y = torch.tensor([0.0, 1.0])\n",
        "print(y, y.dtype)"
      ],
      "execution_count": 12,
      "outputs": [
        {
          "output_type": "stream",
          "name": "stdout",
          "text": [
            "tensor([0., 1.]) torch.float32\n"
          ]
        }
      ]
    },
    {
      "cell_type": "code",
      "metadata": {
        "id": "uXESm1NKDuRb",
        "colab": {
          "base_uri": "https://localhost:8080/"
        },
        "outputId": "3abb3b48-3285-4b02-b4b9-c76739425fc0"
      },
      "source": [
        "try:\n",
        "    z = torch.tensor([[0.11111, 0.222222, 0.3333333]], dtype=torch.float64, device=torch.device('cuda:0'))  # creates a torch.cuda.DoubleTensor\n",
        "    print(z, z.dtype)\n",
        "except Exception as e:\n",
        "    print('Error:', e)"
      ],
      "execution_count": 13,
      "outputs": [
        {
          "output_type": "stream",
          "name": "stdout",
          "text": [
            "tensor([[0.1111, 0.2222, 0.3333]], device='cuda:0', dtype=torch.float64) torch.float64\n"
          ]
        }
      ]
    },
    {
      "cell_type": "markdown",
      "metadata": {
        "id": "lQEuNy5vD-pg"
      },
      "source": [
        "CPU 환경에선 위 문장이 오류 발생.\n",
        "\n",
        "GPU 환경으로 런타임 변경 후 실행.\n",
        "\n"
      ]
    },
    {
      "cell_type": "code",
      "metadata": {
        "id": "dwa8thBDEfru",
        "colab": {
          "base_uri": "https://localhost:8080/"
        },
        "outputId": "b2a70b7c-9d31-43df-e368-63aa04672952"
      },
      "source": [
        "x = torch.tensor(3.14159)  # Create a scalar (zero-dimensional tensor)\n",
        "print(x, x.dtype)"
      ],
      "execution_count": 14,
      "outputs": [
        {
          "output_type": "stream",
          "name": "stdout",
          "text": [
            "tensor(3.1416) torch.float32\n"
          ]
        }
      ]
    },
    {
      "cell_type": "code",
      "metadata": {
        "id": "nZWFXSYfEokb",
        "colab": {
          "base_uri": "https://localhost:8080/"
        },
        "outputId": "36bb343a-2090-482c-925a-3a323d888f61"
      },
      "source": [
        "x = torch.tensor([])  # Create an empty tensor (of size (0,))\n",
        "print(x, x.dtype)"
      ],
      "execution_count": 15,
      "outputs": [
        {
          "output_type": "stream",
          "name": "stdout",
          "text": [
            "tensor([]) torch.float32\n"
          ]
        }
      ]
    },
    {
      "cell_type": "code",
      "metadata": {
        "id": "aA5SyF_4EwJ4",
        "colab": {
          "base_uri": "https://localhost:8080/"
        },
        "outputId": "391f093b-56d6-4afa-daa0-e4576ad6c3a4"
      },
      "source": [
        "try:\n",
        "    x = torch.tensor(3,2) # 인자가 매치하지 않으므로 오류가 나야 함.\n",
        "    print(x, x.dtype)\n",
        "except Exception as e:\n",
        "    print('Error:', e)"
      ],
      "execution_count": 16,
      "outputs": [
        {
          "output_type": "stream",
          "name": "stdout",
          "text": [
            "Error: tensor() takes 1 positional argument but 2 were given\n"
          ]
        }
      ]
    },
    {
      "cell_type": "markdown",
      "metadata": {
        "id": "gBo_tUJDD-d-"
      },
      "source": [
        "\n",
        "\n",
        "---\n",
        "\n"
      ]
    },
    {
      "cell_type": "markdown",
      "metadata": {
        "id": "EvjOIQ1R7Uk7"
      },
      "source": [
        "<h1>Random</h1>\n",
        "Construct a randomly initialized matrix:\n",
        "\n"
      ]
    },
    {
      "cell_type": "code",
      "metadata": {
        "id": "l2dA27aS7Uk8",
        "colab": {
          "base_uri": "https://localhost:8080/"
        },
        "outputId": "66ce34a7-96e1-411d-ba4b-301241c86e47"
      },
      "source": [
        "x = torch.rand(5, 3)\n",
        "print(x)"
      ],
      "execution_count": 17,
      "outputs": [
        {
          "output_type": "stream",
          "name": "stdout",
          "text": [
            "tensor([[0.8094, 0.0429, 0.2155],\n",
            "        [0.5168, 0.0996, 0.3452],\n",
            "        [0.9604, 0.8239, 0.3854],\n",
            "        [0.1170, 0.4642, 0.7428],\n",
            "        [0.0502, 0.6915, 0.2721]])\n"
          ]
        }
      ]
    },
    {
      "cell_type": "markdown",
      "metadata": {
        "id": "dO-ILBPF7UlA"
      },
      "source": [
        "Construct a matrix filled zeros and of dtype long:\n",
        "\n"
      ]
    },
    {
      "cell_type": "code",
      "metadata": {
        "id": "BXrPPioi7UlB",
        "colab": {
          "base_uri": "https://localhost:8080/"
        },
        "outputId": "67ebaacc-8b38-40fd-9465-7a5cb09ae5eb"
      },
      "source": [
        "x = torch.zeros(5, 3, dtype=torch.long)\n",
        "print(x)"
      ],
      "execution_count": 18,
      "outputs": [
        {
          "output_type": "stream",
          "name": "stdout",
          "text": [
            "tensor([[0, 0, 0],\n",
            "        [0, 0, 0],\n",
            "        [0, 0, 0],\n",
            "        [0, 0, 0],\n",
            "        [0, 0, 0]])\n"
          ]
        }
      ]
    },
    {
      "cell_type": "markdown",
      "metadata": {
        "id": "8uUvcySc7UlF"
      },
      "source": [
        "<h1>데이터를 인자로 주어 텐서 생성</h1>\n",
        "Construct a tensor directly from data:\n",
        "\n"
      ]
    },
    {
      "cell_type": "code",
      "metadata": {
        "id": "u7P031Pw7UlF",
        "colab": {
          "base_uri": "https://localhost:8080/"
        },
        "outputId": "552b6b80-3c83-4ef8-e7c4-35acd8231abb"
      },
      "source": [
        "x = torch.tensor([5.5, 3])\n",
        "print(x)"
      ],
      "execution_count": 19,
      "outputs": [
        {
          "output_type": "stream",
          "name": "stdout",
          "text": [
            "tensor([5.5000, 3.0000])\n"
          ]
        }
      ]
    },
    {
      "cell_type": "markdown",
      "metadata": {
        "id": "PnzSuXOJ7UlK"
      },
      "source": [
        "or create a tensor based on an existing tensor. These methods\n",
        "will reuse properties of the input tensor, e.g. dtype, unless\n",
        "new values are provided by user\n",
        "\n"
      ]
    },
    {
      "cell_type": "code",
      "metadata": {
        "id": "hmpu5pfc7UlL",
        "colab": {
          "base_uri": "https://localhost:8080/"
        },
        "outputId": "daf7f2ec-a0e2-453a-ee2e-bb2850bc1c27"
      },
      "source": [
        "x  = x.new_ones(5, 3)      # new_* methods take in sizes\n",
        "print(x, x.dtype)"
      ],
      "execution_count": 20,
      "outputs": [
        {
          "output_type": "stream",
          "name": "stdout",
          "text": [
            "tensor([[1., 1., 1.],\n",
            "        [1., 1., 1.],\n",
            "        [1., 1., 1.],\n",
            "        [1., 1., 1.],\n",
            "        [1., 1., 1.]]) torch.float32\n"
          ]
        }
      ]
    },
    {
      "cell_type": "code",
      "metadata": {
        "colab": {
          "base_uri": "https://localhost:8080/"
        },
        "id": "lh9b_NibqXZc",
        "outputId": "04cb2da6-d23e-4b62-a0bf-425967516ba4"
      },
      "source": [
        "x  = x.new_ones(5, 3, dtype=torch.double)      # new_* methods take in sizes\n",
        "print(x, x.dtype)"
      ],
      "execution_count": 21,
      "outputs": [
        {
          "output_type": "stream",
          "name": "stdout",
          "text": [
            "tensor([[1., 1., 1.],\n",
            "        [1., 1., 1.],\n",
            "        [1., 1., 1.],\n",
            "        [1., 1., 1.],\n",
            "        [1., 1., 1.]], dtype=torch.float64) torch.float64\n"
          ]
        }
      ]
    },
    {
      "cell_type": "code",
      "metadata": {
        "colab": {
          "base_uri": "https://localhost:8080/"
        },
        "id": "LaFFU2erqaIL",
        "outputId": "624c68f3-8138-4c4f-a625-39502a9f48a2"
      },
      "source": [
        "x = torch.randn_like(x, dtype=torch.float)    # override dtype!\n",
        "print(x, x.dtype)                                      # result has the same size"
      ],
      "execution_count": 22,
      "outputs": [
        {
          "output_type": "stream",
          "name": "stdout",
          "text": [
            "tensor([[ 1.3166, -1.7305,  0.7656],\n",
            "        [-1.4310,  1.0884, -0.1551],\n",
            "        [-1.0313,  0.8847, -0.4714],\n",
            "        [ 0.4703, -0.3116,  0.2227],\n",
            "        [ 0.7607, -1.3162,  0.3821]]) torch.float32\n"
          ]
        }
      ]
    },
    {
      "cell_type": "markdown",
      "metadata": {
        "id": "OCyOMo9A7UlP"
      },
      "source": [
        "Get its size: size() or shape\n",
        "\n"
      ]
    },
    {
      "cell_type": "code",
      "metadata": {
        "id": "1EkFiBDE7UlQ",
        "colab": {
          "base_uri": "https://localhost:8080/"
        },
        "outputId": "ad33213f-fa02-485d-dead-528781468302"
      },
      "source": [
        "print(x.size())\n",
        "print(x.shape)"
      ],
      "execution_count": 23,
      "outputs": [
        {
          "output_type": "stream",
          "name": "stdout",
          "text": [
            "torch.Size([5, 3])\n",
            "torch.Size([5, 3])\n"
          ]
        }
      ]
    },
    {
      "cell_type": "markdown",
      "metadata": {
        "id": "mxQHa5en7UlT"
      },
      "source": [
        "<div class=\"alert alert-info\"><h4>Note</h4><p>``torch.Size`` is in fact a tuple, so it supports all tuple operations.</p></div>\n",
        "\n",
        "Operations\n",
        "^^^^^^^^^^\n",
        "There are multiple syntaxes for operations. In the following\n",
        "example, we will take a look at the addition operation.\n",
        "\n",
        "<h1>텐서 더하기</h1>\n",
        "\n",
        "Addition: syntax 1\n",
        "\n"
      ]
    },
    {
      "cell_type": "code",
      "metadata": {
        "id": "Sz1xU4YK7UlT",
        "colab": {
          "base_uri": "https://localhost:8080/"
        },
        "outputId": "3b60e911-0a1a-4683-af6b-417ee3b39592"
      },
      "source": [
        "y = torch.rand(5, 3)\n",
        "print('x\\n', x)\n",
        "print('y\\n', y)\n",
        "print('x+y\\n', x + y)"
      ],
      "execution_count": 24,
      "outputs": [
        {
          "output_type": "stream",
          "name": "stdout",
          "text": [
            "x\n",
            " tensor([[ 1.3166, -1.7305,  0.7656],\n",
            "        [-1.4310,  1.0884, -0.1551],\n",
            "        [-1.0313,  0.8847, -0.4714],\n",
            "        [ 0.4703, -0.3116,  0.2227],\n",
            "        [ 0.7607, -1.3162,  0.3821]])\n",
            "y\n",
            " tensor([[0.8318, 0.3397, 0.2212],\n",
            "        [0.5182, 0.7407, 0.7678],\n",
            "        [0.5206, 0.1094, 0.2323],\n",
            "        [0.5380, 0.8538, 0.3870],\n",
            "        [0.4884, 0.7336, 0.0331]])\n",
            "x+y\n",
            " tensor([[ 2.1483, -1.3908,  0.9868],\n",
            "        [-0.9128,  1.8290,  0.6127],\n",
            "        [-0.5107,  0.9942, -0.2391],\n",
            "        [ 1.0083,  0.5423,  0.6097],\n",
            "        [ 1.2491, -0.5826,  0.4153]])\n"
          ]
        }
      ]
    },
    {
      "cell_type": "markdown",
      "metadata": {
        "id": "zaiOY_rI7UlX"
      },
      "source": [
        "Addition: syntax 2\n",
        "\n"
      ]
    },
    {
      "cell_type": "code",
      "metadata": {
        "id": "7Q7F5VqH7UlX",
        "colab": {
          "base_uri": "https://localhost:8080/"
        },
        "outputId": "f4a1765f-7f8d-4501-cdd1-514f64398dcd"
      },
      "source": [
        "print(torch.add(x, y))"
      ],
      "execution_count": 25,
      "outputs": [
        {
          "output_type": "stream",
          "name": "stdout",
          "text": [
            "tensor([[ 2.1483, -1.3908,  0.9868],\n",
            "        [-0.9128,  1.8290,  0.6127],\n",
            "        [-0.5107,  0.9942, -0.2391],\n",
            "        [ 1.0083,  0.5423,  0.6097],\n",
            "        [ 1.2491, -0.5826,  0.4153]])\n"
          ]
        }
      ]
    },
    {
      "cell_type": "markdown",
      "metadata": {
        "id": "IBAdBU5B7Ulc"
      },
      "source": [
        "Addition: providing an output tensor as argument\n",
        "\n"
      ]
    },
    {
      "cell_type": "code",
      "metadata": {
        "id": "O-6NBGio7Uld",
        "colab": {
          "base_uri": "https://localhost:8080/"
        },
        "outputId": "c8cd1fde-fd96-4358-8ac0-94a2e863714f"
      },
      "source": [
        "result = torch.empty(5, 3)\n",
        "print(result)"
      ],
      "execution_count": 26,
      "outputs": [
        {
          "output_type": "stream",
          "name": "stdout",
          "text": [
            "tensor([[-1.7494e+15,  3.0658e-41,  9.8682e-01],\n",
            "        [-9.1280e-01,  1.8290e+00,  6.1274e-01],\n",
            "        [-5.1067e-01,  9.9417e-01, -2.3908e-01],\n",
            "        [ 1.0083e+00,  5.4226e-01,  6.0968e-01],\n",
            "        [ 1.2491e+00, -5.8257e-01,  4.1526e-01]])\n"
          ]
        }
      ]
    },
    {
      "cell_type": "code",
      "metadata": {
        "colab": {
          "base_uri": "https://localhost:8080/"
        },
        "id": "glI444FiqvVW",
        "outputId": "85b8832a-b450-466a-8b75-3dd56b6d31dc"
      },
      "source": [
        "torch.add(x, y, out=result)\n",
        "print(result)"
      ],
      "execution_count": 27,
      "outputs": [
        {
          "output_type": "stream",
          "name": "stdout",
          "text": [
            "tensor([[ 2.1483, -1.3908,  0.9868],\n",
            "        [-0.9128,  1.8290,  0.6127],\n",
            "        [-0.5107,  0.9942, -0.2391],\n",
            "        [ 1.0083,  0.5423,  0.6097],\n",
            "        [ 1.2491, -0.5826,  0.4153]])\n"
          ]
        }
      ]
    },
    {
      "cell_type": "code",
      "metadata": {
        "colab": {
          "base_uri": "https://localhost:8080/"
        },
        "id": "wlH03p4Mqx8B",
        "outputId": "ca6140f8-b516-46c0-f0d5-1bed2bb91763"
      },
      "source": [
        "res = x + y\n",
        "print(res)"
      ],
      "execution_count": 28,
      "outputs": [
        {
          "output_type": "stream",
          "name": "stdout",
          "text": [
            "tensor([[ 2.1483, -1.3908,  0.9868],\n",
            "        [-0.9128,  1.8290,  0.6127],\n",
            "        [-0.5107,  0.9942, -0.2391],\n",
            "        [ 1.0083,  0.5423,  0.6097],\n",
            "        [ 1.2491, -0.5826,  0.4153]])\n"
          ]
        }
      ]
    },
    {
      "cell_type": "markdown",
      "metadata": {
        "id": "BiQ9CkpD7Ulj"
      },
      "source": [
        "Addition: in-place\n",
        "\n"
      ]
    },
    {
      "cell_type": "code",
      "metadata": {
        "id": "5SaaMGTg7Ulj",
        "colab": {
          "base_uri": "https://localhost:8080/"
        },
        "outputId": "44eb3a51-0c4a-47cb-fbfd-980d82d4224e"
      },
      "source": [
        "# adds x to y\n",
        "y.add_(x)\n",
        "print(y)"
      ],
      "execution_count": 29,
      "outputs": [
        {
          "output_type": "stream",
          "name": "stdout",
          "text": [
            "tensor([[ 2.1483, -1.3908,  0.9868],\n",
            "        [-0.9128,  1.8290,  0.6127],\n",
            "        [-0.5107,  0.9942, -0.2391],\n",
            "        [ 1.0083,  0.5423,  0.6097],\n",
            "        [ 1.2491, -0.5826,  0.4153]])\n"
          ]
        }
      ]
    },
    {
      "cell_type": "markdown",
      "metadata": {
        "id": "5_0dSJ9E7Uln"
      },
      "source": [
        "# **_로 끝나는 operation은 in-place**\n",
        "<div class=\"alert alert-info\"><h4>Note</h4><p>Any operation that mutates a tensor in-place is post-fixed with an ``_``.\n",
        "    For example: ``x.copy_(y)``, ``x.t_()``, will change ``x``.</p></div>\n",
        "\n",
        "You can use standard NumPy-like indexing with all bells and whistles!\n",
        "\n",
        "\n",
        "\n"
      ]
    },
    {
      "cell_type": "code",
      "metadata": {
        "id": "nk0DsKFJy0Ws"
      },
      "source": [
        ""
      ],
      "execution_count": 29,
      "outputs": []
    },
    {
      "cell_type": "markdown",
      "metadata": {
        "id": "teuYmB1Jw1fF"
      },
      "source": [
        "# autograd"
      ]
    },
    {
      "cell_type": "code",
      "metadata": {
        "id": "-0z1fKfpw2Sp"
      },
      "source": [
        "import torch\n",
        "\n",
        "a = torch.tensor([2., 3.], requires_grad=True)\n",
        "b = torch.tensor([6., 4.], requires_grad=True)"
      ],
      "execution_count": 30,
      "outputs": []
    },
    {
      "cell_type": "code",
      "metadata": {
        "colab": {
          "base_uri": "https://localhost:8080/"
        },
        "id": "ZQFbR9RgxgGq",
        "outputId": "6d804531-dabe-456b-b014-7fd45a690f90"
      },
      "source": [
        "a"
      ],
      "execution_count": 31,
      "outputs": [
        {
          "output_type": "execute_result",
          "data": {
            "text/plain": [
              "tensor([2., 3.], requires_grad=True)"
            ]
          },
          "metadata": {},
          "execution_count": 31
        }
      ]
    },
    {
      "cell_type": "code",
      "metadata": {
        "colab": {
          "base_uri": "https://localhost:8080/"
        },
        "id": "4m6Zadccxhmk",
        "outputId": "58876bfa-6d3f-4d05-a0c6-a121dfefe424"
      },
      "source": [
        "b"
      ],
      "execution_count": 32,
      "outputs": [
        {
          "output_type": "execute_result",
          "data": {
            "text/plain": [
              "tensor([6., 4.], requires_grad=True)"
            ]
          },
          "metadata": {},
          "execution_count": 32
        }
      ]
    },
    {
      "cell_type": "code",
      "metadata": {
        "id": "DwN2O6wXw3gO"
      },
      "source": [
        "Q = 3*a**3 - b**2"
      ],
      "execution_count": 33,
      "outputs": []
    },
    {
      "cell_type": "markdown",
      "metadata": {
        "id": "V7bbwCoqx9Qf"
      },
      "source": [
        "\\begin{align}Q=3a^{3}-b^{3}\\end{align}"
      ]
    },
    {
      "cell_type": "code",
      "metadata": {
        "colab": {
          "base_uri": "https://localhost:8080/"
        },
        "id": "3j749vPTw7uP",
        "outputId": "8070af63-33e0-42d3-cb09-e0c29e6b1b8b"
      },
      "source": [
        "Q"
      ],
      "execution_count": 34,
      "outputs": [
        {
          "output_type": "execute_result",
          "data": {
            "text/plain": [
              "tensor([-12.,  65.], grad_fn=<SubBackward0>)"
            ]
          },
          "metadata": {},
          "execution_count": 34
        }
      ]
    },
    {
      "cell_type": "markdown",
      "metadata": {
        "id": "zekUytw1xzY0"
      },
      "source": [
        "\\begin{align}\\frac{\\partial Q}{\\partial a} = 9a^2\\end{align}\n",
        "\n",
        "\\begin{align}\\frac{\\partial Q}{\\partial b} = -2b\\end{align}\n",
        "\n",
        "\\begin{align}\\frac{dQ}{dQ} = 1\\end{align}"
      ]
    },
    {
      "cell_type": "code",
      "metadata": {
        "id": "zXIp1_T8w98v"
      },
      "source": [
        "external_grad = torch.tensor([1., 1.])\n",
        "Q.backward(gradient=external_grad)"
      ],
      "execution_count": 35,
      "outputs": []
    },
    {
      "cell_type": "code",
      "metadata": {
        "colab": {
          "base_uri": "https://localhost:8080/"
        },
        "id": "fJykvbU7xOFT",
        "outputId": "b5222e95-4b83-4e17-ccef-1e09e8becc9e"
      },
      "source": [
        "Q"
      ],
      "execution_count": 36,
      "outputs": [
        {
          "output_type": "execute_result",
          "data": {
            "text/plain": [
              "tensor([-12.,  65.], grad_fn=<SubBackward0>)"
            ]
          },
          "metadata": {},
          "execution_count": 36
        }
      ]
    },
    {
      "cell_type": "code",
      "metadata": {
        "colab": {
          "base_uri": "https://localhost:8080/"
        },
        "id": "pbA_cV2KxUrj",
        "outputId": "02c944fb-0e28-4bb2-d142-e3eb125d466a"
      },
      "source": [
        "a.grad, b.grad"
      ],
      "execution_count": 37,
      "outputs": [
        {
          "output_type": "execute_result",
          "data": {
            "text/plain": [
              "(tensor([36., 81.]), tensor([-12.,  -8.]))"
            ]
          },
          "metadata": {},
          "execution_count": 37
        }
      ]
    },
    {
      "cell_type": "code",
      "metadata": {
        "colab": {
          "base_uri": "https://localhost:8080/"
        },
        "id": "Sspy02QExPO1",
        "outputId": "5eaf6b36-5749-4d50-db5b-0b7a7678a5b8"
      },
      "source": [
        "# check if collected gradients are correct\n",
        "print(9*a**2 == a.grad)\n",
        "print(-2*b == b.grad)"
      ],
      "execution_count": 38,
      "outputs": [
        {
          "output_type": "stream",
          "name": "stdout",
          "text": [
            "tensor([True, True])\n",
            "tensor([True, True])\n"
          ]
        }
      ]
    },
    {
      "cell_type": "code",
      "metadata": {
        "id": "dZXXV-i4yh70"
      },
      "source": [
        ""
      ],
      "execution_count": 38,
      "outputs": []
    },
    {
      "cell_type": "markdown",
      "metadata": {
        "id": "K9vXS6Q2y9KS"
      },
      "source": [
        "# 일반적으로는 Numpy 배열과 유사한 신택스를 가진다"
      ]
    },
    {
      "cell_type": "markdown",
      "metadata": {
        "id": "AiYbw0VVDURl"
      },
      "source": [
        "# Indexing tensors\n",
        "\n",
        "## Python slicing 과 유사\n",
        "\n",
        "https://drive.google.com/file/d/1qYbFGElZiXcB4VgUiolBp0f2YZS1pzGw/view?usp=sharing\n",
        "\n"
      ]
    },
    {
      "cell_type": "code",
      "metadata": {
        "id": "P-ErepKhQUCw",
        "colab": {
          "base_uri": "https://localhost:8080/"
        },
        "outputId": "eab179cd-e8b8-443e-8cee-decd6376833c"
      },
      "source": [
        "some_list = list(range(6))\n",
        "some_list[:]"
      ],
      "execution_count": 39,
      "outputs": [
        {
          "output_type": "execute_result",
          "data": {
            "text/plain": [
              "[0, 1, 2, 3, 4, 5]"
            ]
          },
          "metadata": {},
          "execution_count": 39
        }
      ]
    },
    {
      "cell_type": "code",
      "metadata": {
        "id": "mz0aXCjAQgSC",
        "colab": {
          "base_uri": "https://localhost:8080/"
        },
        "outputId": "cbf0d028-dd73-42a3-fdfb-f9bb8fc94974"
      },
      "source": [
        "print(some_list[1:4])\n",
        "print(some_list[1:])\n",
        "print(some_list[:4])\n",
        "print(some_list[:-1])\n",
        "print(some_list[1:4:2]) # 1 to 3 ([1,2,3]), step 2 ([1,3])"
      ],
      "execution_count": 40,
      "outputs": [
        {
          "output_type": "stream",
          "name": "stdout",
          "text": [
            "[1, 2, 3]\n",
            "[1, 2, 3, 4, 5]\n",
            "[0, 1, 2, 3]\n",
            "[0, 1, 2, 3, 4]\n",
            "[1, 3]\n"
          ]
        }
      ]
    },
    {
      "cell_type": "code",
      "metadata": {
        "id": "TaUthXxcRUSD",
        "colab": {
          "base_uri": "https://localhost:8080/"
        },
        "outputId": "89f8b51d-8019-4b3b-878f-44bcceab6d3d"
      },
      "source": [
        "points = torch.tensor([[4.0, 1.0], [5.0, 3.0], [2.0, 1.0]])\n",
        "print(points)\n",
        "print(points.shape)\n"
      ],
      "execution_count": 41,
      "outputs": [
        {
          "output_type": "stream",
          "name": "stdout",
          "text": [
            "tensor([[4., 1.],\n",
            "        [5., 3.],\n",
            "        [2., 1.]])\n",
            "torch.Size([3, 2])\n"
          ]
        }
      ]
    },
    {
      "cell_type": "code",
      "metadata": {
        "id": "4H6jBblIRmur",
        "colab": {
          "base_uri": "https://localhost:8080/"
        },
        "outputId": "5b975ef2-45fe-4143-d5a6-ca1cc7d303b7"
      },
      "source": [
        "print(points[1:])"
      ],
      "execution_count": 42,
      "outputs": [
        {
          "output_type": "stream",
          "name": "stdout",
          "text": [
            "tensor([[5., 3.],\n",
            "        [2., 1.]])\n"
          ]
        }
      ]
    },
    {
      "cell_type": "code",
      "metadata": {
        "id": "LbjyBa6yRe3L",
        "colab": {
          "base_uri": "https://localhost:8080/"
        },
        "outputId": "861763bd-df34-40c5-8d11-1ced7768bbf9"
      },
      "source": [
        "print(points[1:, :])"
      ],
      "execution_count": 43,
      "outputs": [
        {
          "output_type": "stream",
          "name": "stdout",
          "text": [
            "tensor([[5., 3.],\n",
            "        [2., 1.]])\n"
          ]
        }
      ]
    },
    {
      "cell_type": "code",
      "metadata": {
        "id": "Zlsad4loRxr8",
        "colab": {
          "base_uri": "https://localhost:8080/"
        },
        "outputId": "0fc0c9b5-35aa-4a8d-c777-f5690dbc99c3"
      },
      "source": [
        "print(points[1:, 0])"
      ],
      "execution_count": 44,
      "outputs": [
        {
          "output_type": "stream",
          "name": "stdout",
          "text": [
            "tensor([5., 2.])\n"
          ]
        }
      ]
    },
    {
      "cell_type": "code",
      "metadata": {
        "id": "74gXkYgRR4DZ",
        "colab": {
          "base_uri": "https://localhost:8080/"
        },
        "outputId": "5a20b433-c409-4485-c91c-641c91bdc2e6"
      },
      "source": [
        "print(points[None])"
      ],
      "execution_count": 45,
      "outputs": [
        {
          "output_type": "stream",
          "name": "stdout",
          "text": [
            "tensor([[[4., 1.],\n",
            "         [5., 3.],\n",
            "         [2., 1.]]])\n"
          ]
        }
      ]
    },
    {
      "cell_type": "code",
      "metadata": {
        "id": "KusDoy97R-Xp",
        "colab": {
          "base_uri": "https://localhost:8080/"
        },
        "outputId": "f768e2e8-57e4-4ed1-859d-52b6a2a618d0"
      },
      "source": [
        "print(points[None].size())"
      ],
      "execution_count": 46,
      "outputs": [
        {
          "output_type": "stream",
          "name": "stdout",
          "text": [
            "torch.Size([1, 3, 2])\n"
          ]
        }
      ]
    },
    {
      "cell_type": "code",
      "metadata": {
        "id": "OZbNsSvrtCE3"
      },
      "source": [
        ""
      ],
      "execution_count": 46,
      "outputs": []
    },
    {
      "cell_type": "markdown",
      "metadata": {
        "id": "SsxberTPsshC"
      },
      "source": [
        "# unsqueeze - dimension 확장"
      ]
    },
    {
      "cell_type": "code",
      "metadata": {
        "id": "G4ruWO_ASEr7",
        "colab": {
          "base_uri": "https://localhost:8080/"
        },
        "outputId": "9c2eed33-d38e-477c-8504-d7b4e38eeab6"
      },
      "source": [
        "print(points.unsqueeze(dim=0))\n",
        "print(points.unsqueeze(dim=0).size())"
      ],
      "execution_count": 47,
      "outputs": [
        {
          "output_type": "stream",
          "name": "stdout",
          "text": [
            "tensor([[[4., 1.],\n",
            "         [5., 3.],\n",
            "         [2., 1.]]])\n",
            "torch.Size([1, 3, 2])\n"
          ]
        }
      ]
    },
    {
      "cell_type": "code",
      "metadata": {
        "colab": {
          "base_uri": "https://localhost:8080/"
        },
        "id": "lyWm4Qu0tSTv",
        "outputId": "279c2b0f-1082-47ac-e20b-e3a30653b6f9"
      },
      "source": [
        "unsq_points = points.unsqueeze(dim=0)\n",
        "print(unsq_points)\n",
        "print(unsq_points.size())"
      ],
      "execution_count": 48,
      "outputs": [
        {
          "output_type": "stream",
          "name": "stdout",
          "text": [
            "tensor([[[4., 1.],\n",
            "         [5., 3.],\n",
            "         [2., 1.]]])\n",
            "torch.Size([1, 3, 2])\n"
          ]
        }
      ]
    },
    {
      "cell_type": "markdown",
      "metadata": {
        "id": "wEHQe821tFe4"
      },
      "source": [
        "# squeeze - dimension 축소\n",
        "### 원소 1개짜리 dimension을 제거"
      ]
    },
    {
      "cell_type": "code",
      "metadata": {
        "colab": {
          "base_uri": "https://localhost:8080/"
        },
        "id": "59O0LospteVe",
        "outputId": "a9c06817-0195-4823-ee68-6f7093099150"
      },
      "source": [
        "sq_points = unsq_points.squeeze()\n",
        "print(sq_points)\n",
        "print(sq_points.size())"
      ],
      "execution_count": 49,
      "outputs": [
        {
          "output_type": "stream",
          "name": "stdout",
          "text": [
            "tensor([[4., 1.],\n",
            "        [5., 3.],\n",
            "        [2., 1.]])\n",
            "torch.Size([3, 2])\n"
          ]
        }
      ]
    },
    {
      "cell_type": "markdown",
      "metadata": {
        "id": "PtM1p8247Ulq"
      },
      "source": [
        "\n",
        "\n",
        "---\n",
        "\n",
        "Resizing: If you want to resize/reshape tensor, you can use ``torch.view``:\n",
        "\n"
      ]
    },
    {
      "cell_type": "code",
      "metadata": {
        "id": "haFkaiMr7Ulr",
        "colab": {
          "base_uri": "https://localhost:8080/"
        },
        "outputId": "677fd9b4-e938-4a06-dd46-dd8840255099"
      },
      "source": [
        "x = torch.randn(4, 4)\n",
        "y = x.view(16)\n",
        "z = x.view(-1, 8)  # the size -1 is inferred from other dimensions\n",
        "print('x.size()=', x.size(), '\\ny.size()=', y.size(), '\\nz.size()=', z.size())\n",
        "print(x, '\\n', y, '\\n', z)"
      ],
      "execution_count": 50,
      "outputs": [
        {
          "output_type": "stream",
          "name": "stdout",
          "text": [
            "x.size()= torch.Size([4, 4]) \n",
            "y.size()= torch.Size([16]) \n",
            "z.size()= torch.Size([2, 8])\n",
            "tensor([[-0.0413, -0.1832,  2.0176, -1.2004],\n",
            "        [-0.2057,  0.6926, -0.7840, -1.0130],\n",
            "        [ 0.8024, -1.2635, -0.2437, -0.2654],\n",
            "        [-0.3682, -0.4783,  0.2725,  0.0376]]) \n",
            " tensor([-0.0413, -0.1832,  2.0176, -1.2004, -0.2057,  0.6926, -0.7840, -1.0130,\n",
            "         0.8024, -1.2635, -0.2437, -0.2654, -0.3682, -0.4783,  0.2725,  0.0376]) \n",
            " tensor([[-0.0413, -0.1832,  2.0176, -1.2004, -0.2057,  0.6926, -0.7840, -1.0130],\n",
            "        [ 0.8024, -1.2635, -0.2437, -0.2654, -0.3682, -0.4783,  0.2725,  0.0376]])\n"
          ]
        }
      ]
    },
    {
      "cell_type": "markdown",
      "metadata": {
        "id": "y4YovVqK_0mo"
      },
      "source": [
        "---\n",
        "# transpose"
      ]
    },
    {
      "cell_type": "code",
      "metadata": {
        "id": "5tIjw-kzXUyH",
        "colab": {
          "base_uri": "https://localhost:8080/"
        },
        "outputId": "7987b466-d860-4f55-e875-4b6f55bdc1df"
      },
      "source": [
        "points = torch.tensor([[3.0, 1.0, 2.0], [4.0, 1.0, 7.0]])\n",
        "print(points)"
      ],
      "execution_count": 51,
      "outputs": [
        {
          "output_type": "stream",
          "name": "stdout",
          "text": [
            "tensor([[3., 1., 2.],\n",
            "        [4., 1., 7.]])\n"
          ]
        }
      ]
    },
    {
      "cell_type": "markdown",
      "metadata": {
        "id": "lAKezqKzuTcr"
      },
      "source": [
        "## 서로 바꿀 두 디멘션을 지정"
      ]
    },
    {
      "cell_type": "code",
      "metadata": {
        "id": "MM_rl3L6XUvW"
      },
      "source": [
        "points_tr = points.transpose(0, 1)"
      ],
      "execution_count": 52,
      "outputs": []
    },
    {
      "cell_type": "code",
      "metadata": {
        "id": "n8zohU17XUdN",
        "colab": {
          "base_uri": "https://localhost:8080/"
        },
        "outputId": "99f3f989-df1d-468e-ce69-dcd959df3307"
      },
      "source": [
        "points_tr"
      ],
      "execution_count": 53,
      "outputs": [
        {
          "output_type": "execute_result",
          "data": {
            "text/plain": [
              "tensor([[3., 4.],\n",
              "        [1., 1.],\n",
              "        [2., 7.]])"
            ]
          },
          "metadata": {},
          "execution_count": 53
        }
      ]
    },
    {
      "cell_type": "code",
      "metadata": {
        "id": "QXYiybxH-Ny2",
        "colab": {
          "base_uri": "https://localhost:8080/"
        },
        "outputId": "3e8ef655-bf6a-45b7-b452-2b1b6f49c0be"
      },
      "source": [
        "points"
      ],
      "execution_count": 54,
      "outputs": [
        {
          "output_type": "execute_result",
          "data": {
            "text/plain": [
              "tensor([[3., 1., 2.],\n",
              "        [4., 1., 7.]])"
            ]
          },
          "metadata": {},
          "execution_count": 54
        }
      ]
    },
    {
      "cell_type": "code",
      "metadata": {
        "id": "24htwWmM-9__",
        "colab": {
          "base_uri": "https://localhost:8080/"
        },
        "outputId": "db873985-d31d-4479-826b-d8f21fb56289"
      },
      "source": [
        "points_t = points.t() # 2D or less dimension\n",
        "print(points_t)"
      ],
      "execution_count": 55,
      "outputs": [
        {
          "output_type": "stream",
          "name": "stdout",
          "text": [
            "tensor([[3., 4.],\n",
            "        [1., 1.],\n",
            "        [2., 7.]])\n"
          ]
        }
      ]
    },
    {
      "cell_type": "markdown",
      "metadata": {
        "id": "nvEXhWvQuNZX"
      },
      "source": [
        "## Multidimensional"
      ]
    },
    {
      "cell_type": "code",
      "metadata": {
        "id": "1HceVTdXt_Ad",
        "colab": {
          "base_uri": "https://localhost:8080/"
        },
        "outputId": "26a4344f-13d9-4f49-b94b-979a2adb0949"
      },
      "source": [
        "some_t = torch.ones(3, 4, 5)\n",
        "transpose_t = some_t.transpose(0, 2) # 0번째와 2번째 디멘션을 transpose\n",
        "some_t.shape"
      ],
      "execution_count": 56,
      "outputs": [
        {
          "output_type": "execute_result",
          "data": {
            "text/plain": [
              "torch.Size([3, 4, 5])"
            ]
          },
          "metadata": {},
          "execution_count": 56
        }
      ]
    },
    {
      "cell_type": "code",
      "metadata": {
        "id": "zCrT03VjCB-3",
        "colab": {
          "base_uri": "https://localhost:8080/"
        },
        "outputId": "fccfe87a-0d8e-402d-bb72-f89ad2c07711"
      },
      "source": [
        "some_t"
      ],
      "execution_count": 57,
      "outputs": [
        {
          "output_type": "execute_result",
          "data": {
            "text/plain": [
              "tensor([[[1., 1., 1., 1., 1.],\n",
              "         [1., 1., 1., 1., 1.],\n",
              "         [1., 1., 1., 1., 1.],\n",
              "         [1., 1., 1., 1., 1.]],\n",
              "\n",
              "        [[1., 1., 1., 1., 1.],\n",
              "         [1., 1., 1., 1., 1.],\n",
              "         [1., 1., 1., 1., 1.],\n",
              "         [1., 1., 1., 1., 1.]],\n",
              "\n",
              "        [[1., 1., 1., 1., 1.],\n",
              "         [1., 1., 1., 1., 1.],\n",
              "         [1., 1., 1., 1., 1.],\n",
              "         [1., 1., 1., 1., 1.]]])"
            ]
          },
          "metadata": {},
          "execution_count": 57
        }
      ]
    },
    {
      "cell_type": "code",
      "metadata": {
        "id": "KuzPbyUMvQZS",
        "colab": {
          "base_uri": "https://localhost:8080/"
        },
        "outputId": "91724a67-12dc-4466-a538-a9f66f4b4f8f"
      },
      "source": [
        "transpose_t.shape"
      ],
      "execution_count": 58,
      "outputs": [
        {
          "output_type": "execute_result",
          "data": {
            "text/plain": [
              "torch.Size([5, 4, 3])"
            ]
          },
          "metadata": {},
          "execution_count": 58
        }
      ]
    },
    {
      "cell_type": "markdown",
      "metadata": {
        "id": "tJ7sFdGoCo0N"
      },
      "source": [
        "# Contiguous\n",
        "\n",
        "가장 오른쪽 차원이 순차적으로 저장된 텐서"
      ]
    },
    {
      "cell_type": "code",
      "metadata": {
        "id": "gvqjqRcLv5_9",
        "colab": {
          "base_uri": "https://localhost:8080/"
        },
        "outputId": "9391fd1b-7963-4eac-c398-7c9886b461b6"
      },
      "source": [
        "some_t.is_contiguous()"
      ],
      "execution_count": 59,
      "outputs": [
        {
          "output_type": "execute_result",
          "data": {
            "text/plain": [
              "True"
            ]
          },
          "metadata": {},
          "execution_count": 59
        }
      ]
    },
    {
      "cell_type": "code",
      "metadata": {
        "id": "y6Mt2o_8v-Fx",
        "colab": {
          "base_uri": "https://localhost:8080/"
        },
        "outputId": "97b75250-3dd3-426c-b8fd-e36204322b1c"
      },
      "source": [
        "transpose_t.is_contiguous()"
      ],
      "execution_count": 60,
      "outputs": [
        {
          "output_type": "execute_result",
          "data": {
            "text/plain": [
              "False"
            ]
          },
          "metadata": {},
          "execution_count": 60
        }
      ]
    },
    {
      "cell_type": "markdown",
      "metadata": {
        "id": "J_v9KcvhwBn3"
      },
      "source": [
        "## Contiguous로 변환하기"
      ]
    },
    {
      "cell_type": "code",
      "metadata": {
        "id": "fi-yNKOEEFuv"
      },
      "source": [
        "points = torch.tensor([[4.0, 1.0], [5.0, 3.0], [2.0, 1.0]])"
      ],
      "execution_count": 61,
      "outputs": []
    },
    {
      "cell_type": "code",
      "metadata": {
        "id": "gWUp1qQUELF8"
      },
      "source": [
        "points_t = points.t()"
      ],
      "execution_count": 62,
      "outputs": []
    },
    {
      "cell_type": "code",
      "metadata": {
        "id": "bPP0WsVaEOqO",
        "colab": {
          "base_uri": "https://localhost:8080/"
        },
        "outputId": "558753de-273f-4d34-8284-6544354c6b9e"
      },
      "source": [
        "points_t"
      ],
      "execution_count": 63,
      "outputs": [
        {
          "output_type": "execute_result",
          "data": {
            "text/plain": [
              "tensor([[4., 5., 2.],\n",
              "        [1., 3., 1.]])"
            ]
          },
          "metadata": {},
          "execution_count": 63
        }
      ]
    },
    {
      "cell_type": "code",
      "metadata": {
        "colab": {
          "base_uri": "https://localhost:8080/"
        },
        "id": "G22ruXQkucma",
        "outputId": "fe2b661b-db57-457a-c230-c329daa07cd7"
      },
      "source": [
        "points_t.is_contiguous()"
      ],
      "execution_count": 64,
      "outputs": [
        {
          "output_type": "execute_result",
          "data": {
            "text/plain": [
              "False"
            ]
          },
          "metadata": {},
          "execution_count": 64
        }
      ]
    },
    {
      "cell_type": "code",
      "metadata": {
        "id": "PP7BAMQSEOIp"
      },
      "source": [
        "points_t_cont = points_t.contiguous()"
      ],
      "execution_count": 65,
      "outputs": []
    },
    {
      "cell_type": "code",
      "metadata": {
        "id": "DwolUv9eEgs3",
        "colab": {
          "base_uri": "https://localhost:8080/"
        },
        "outputId": "130bd89a-d5ca-4188-c8b5-681d39bc7053"
      },
      "source": [
        "points_t_cont"
      ],
      "execution_count": 66,
      "outputs": [
        {
          "output_type": "execute_result",
          "data": {
            "text/plain": [
              "tensor([[4., 5., 2.],\n",
              "        [1., 3., 1.]])"
            ]
          },
          "metadata": {},
          "execution_count": 66
        }
      ]
    },
    {
      "cell_type": "code",
      "metadata": {
        "id": "5QaBSQD83EMD",
        "colab": {
          "base_uri": "https://localhost:8080/"
        },
        "outputId": "3bf73917-eea1-4c8f-facd-f52a417a90e1"
      },
      "source": [
        "points_t_cont.contiguous()"
      ],
      "execution_count": 67,
      "outputs": [
        {
          "output_type": "execute_result",
          "data": {
            "text/plain": [
              "tensor([[4., 5., 2.],\n",
              "        [1., 3., 1.]])"
            ]
          },
          "metadata": {},
          "execution_count": 67
        }
      ]
    },
    {
      "cell_type": "markdown",
      "metadata": {
        "id": "9ckbojEe8GoO"
      },
      "source": [
        "## tensor view()\n",
        "\n",
        "같은 storage 에서 보는 관점 (shape)만 다르게 함"
      ]
    },
    {
      "cell_type": "code",
      "metadata": {
        "id": "TQyd096Q661s",
        "colab": {
          "base_uri": "https://localhost:8080/"
        },
        "outputId": "09cb6324-79b6-4650-80f8-e7ac0749a56c"
      },
      "source": [
        "t = torch.rand(4, 4)\n",
        "b = t.view(2, 8)\n",
        "print(t, t.shape)\n",
        "print(b, b.shape)"
      ],
      "execution_count": 68,
      "outputs": [
        {
          "output_type": "stream",
          "name": "stdout",
          "text": [
            "tensor([[0.0195, 0.0300, 0.8736, 0.1998],\n",
            "        [0.9666, 0.4413, 0.6896, 0.7896],\n",
            "        [0.2183, 0.4706, 0.4858, 0.0434],\n",
            "        [0.0599, 0.6883, 0.6222, 0.3606]]) torch.Size([4, 4])\n",
            "tensor([[0.0195, 0.0300, 0.8736, 0.1998, 0.9666, 0.4413, 0.6896, 0.7896],\n",
            "        [0.2183, 0.4706, 0.4858, 0.0434, 0.0599, 0.6883, 0.6222, 0.3606]]) torch.Size([2, 8])\n"
          ]
        }
      ]
    },
    {
      "cell_type": "code",
      "metadata": {
        "id": "DRaO6Dmf66zN",
        "colab": {
          "base_uri": "https://localhost:8080/"
        },
        "outputId": "ecacd758-b628-4b75-98aa-c07d62c2d87b"
      },
      "source": [
        "t.is_contiguous()"
      ],
      "execution_count": 69,
      "outputs": [
        {
          "output_type": "execute_result",
          "data": {
            "text/plain": [
              "True"
            ]
          },
          "metadata": {},
          "execution_count": 69
        }
      ]
    },
    {
      "cell_type": "code",
      "metadata": {
        "id": "f2L2fmny66wm",
        "colab": {
          "base_uri": "https://localhost:8080/"
        },
        "outputId": "e9495cce-14da-465a-be58-5edca8030195"
      },
      "source": [
        "b.is_contiguous()"
      ],
      "execution_count": 70,
      "outputs": [
        {
          "output_type": "execute_result",
          "data": {
            "text/plain": [
              "True"
            ]
          },
          "metadata": {},
          "execution_count": 70
        }
      ]
    },
    {
      "cell_type": "markdown",
      "metadata": {
        "id": "dRTgmMLP1Yw-"
      },
      "source": [
        "## view 같은 operation은 contiguous tensor에서만 동작"
      ]
    },
    {
      "cell_type": "code",
      "metadata": {
        "id": "qVG0KL8gDQfk",
        "colab": {
          "base_uri": "https://localhost:8080/"
        },
        "outputId": "a66c5904-32a2-4e8e-b4fb-33be73a4ca43"
      },
      "source": [
        "x = torch.tensor([[1,2,3], [4,5,6]])\n",
        "x"
      ],
      "execution_count": 71,
      "outputs": [
        {
          "output_type": "execute_result",
          "data": {
            "text/plain": [
              "tensor([[1, 2, 3],\n",
              "        [4, 5, 6]])"
            ]
          },
          "metadata": {},
          "execution_count": 71
        }
      ]
    },
    {
      "cell_type": "code",
      "metadata": {
        "id": "Xx89aWShDcCn",
        "colab": {
          "base_uri": "https://localhost:8080/"
        },
        "outputId": "9f06e453-7f20-49a8-c0ac-11dd14b97b47"
      },
      "source": [
        "x.shape"
      ],
      "execution_count": 72,
      "outputs": [
        {
          "output_type": "execute_result",
          "data": {
            "text/plain": [
              "torch.Size([2, 3])"
            ]
          },
          "metadata": {},
          "execution_count": 72
        }
      ]
    },
    {
      "cell_type": "code",
      "metadata": {
        "id": "u30FE9OeDcAh",
        "colab": {
          "base_uri": "https://localhost:8080/"
        },
        "outputId": "566f2897-0e2f-477b-8c47-b661e2012734"
      },
      "source": [
        "x_t = x.t()\n",
        "x_t"
      ],
      "execution_count": 73,
      "outputs": [
        {
          "output_type": "execute_result",
          "data": {
            "text/plain": [
              "tensor([[1, 4],\n",
              "        [2, 5],\n",
              "        [3, 6]])"
            ]
          },
          "metadata": {},
          "execution_count": 73
        }
      ]
    },
    {
      "cell_type": "code",
      "metadata": {
        "id": "hRxxELDcDb-S",
        "colab": {
          "base_uri": "https://localhost:8080/"
        },
        "outputId": "2932d9ef-2196-4976-9f20-7a6ee35cc21e"
      },
      "source": [
        "y = x.view(3,2) # transpose가 아님\n",
        "y"
      ],
      "execution_count": 74,
      "outputs": [
        {
          "output_type": "execute_result",
          "data": {
            "text/plain": [
              "tensor([[1, 2],\n",
              "        [3, 4],\n",
              "        [5, 6]])"
            ]
          },
          "metadata": {},
          "execution_count": 74
        }
      ]
    },
    {
      "cell_type": "code",
      "metadata": {
        "id": "TP3COx6sDb7U",
        "colab": {
          "base_uri": "https://localhost:8080/"
        },
        "outputId": "5d1a5d89-8eda-4b54-af87-7f8b5f468bcb"
      },
      "source": [
        "y.is_contiguous()"
      ],
      "execution_count": 75,
      "outputs": [
        {
          "output_type": "execute_result",
          "data": {
            "text/plain": [
              "True"
            ]
          },
          "metadata": {},
          "execution_count": 75
        }
      ]
    },
    {
      "cell_type": "code",
      "metadata": {
        "id": "99UFRC-6D956",
        "colab": {
          "base_uri": "https://localhost:8080/"
        },
        "outputId": "0af4ccb0-9775-4228-ee80-e2abafe1a8ae"
      },
      "source": [
        "x_t.is_contiguous()"
      ],
      "execution_count": 76,
      "outputs": [
        {
          "output_type": "execute_result",
          "data": {
            "text/plain": [
              "False"
            ]
          },
          "metadata": {},
          "execution_count": 76
        }
      ]
    },
    {
      "cell_type": "code",
      "metadata": {
        "id": "lRWGogIRDb3R",
        "colab": {
          "base_uri": "https://localhost:8080/"
        },
        "outputId": "ec97e3d1-4208-40a0-c409-985c21a6e71d"
      },
      "source": [
        "try:\n",
        "    x_t.view(2, 3) # error\n",
        "except Exception as e:\n",
        "    print('Error:', e)"
      ],
      "execution_count": 77,
      "outputs": [
        {
          "output_type": "stream",
          "name": "stdout",
          "text": [
            "Error: view size is not compatible with input tensor's size and stride (at least one dimension spans across two contiguous subspaces). Use .reshape(...) instead.\n"
          ]
        }
      ]
    },
    {
      "cell_type": "code",
      "metadata": {
        "id": "iFy-RCktEDHS",
        "colab": {
          "base_uri": "https://localhost:8080/"
        },
        "outputId": "b2e647fc-ee50-4e15-b487-f4d6a64f529c"
      },
      "source": [
        "x_t_cont = x_t.contiguous()\n",
        "x_t_cont"
      ],
      "execution_count": 78,
      "outputs": [
        {
          "output_type": "execute_result",
          "data": {
            "text/plain": [
              "tensor([[1, 4],\n",
              "        [2, 5],\n",
              "        [3, 6]])"
            ]
          },
          "metadata": {},
          "execution_count": 78
        }
      ]
    },
    {
      "cell_type": "code",
      "metadata": {
        "id": "lkpz0Q95EGyB",
        "colab": {
          "base_uri": "https://localhost:8080/"
        },
        "outputId": "96ba334f-6a56-452c-cdaa-0de02f658188"
      },
      "source": [
        "x_t_cont.view(2, 3)"
      ],
      "execution_count": 79,
      "outputs": [
        {
          "output_type": "execute_result",
          "data": {
            "text/plain": [
              "tensor([[1, 4, 2],\n",
              "        [5, 3, 6]])"
            ]
          },
          "metadata": {},
          "execution_count": 79
        }
      ]
    },
    {
      "cell_type": "code",
      "metadata": {
        "id": "D1H-Y-cyEXFs",
        "colab": {
          "base_uri": "https://localhost:8080/"
        },
        "outputId": "377e5e72-2438-433b-912a-be037414956e"
      },
      "source": [
        "x_t"
      ],
      "execution_count": 80,
      "outputs": [
        {
          "output_type": "execute_result",
          "data": {
            "text/plain": [
              "tensor([[1, 4],\n",
              "        [2, 5],\n",
              "        [3, 6]])"
            ]
          },
          "metadata": {},
          "execution_count": 80
        }
      ]
    },
    {
      "cell_type": "code",
      "metadata": {
        "id": "4kyjDHqj1XE6",
        "colab": {
          "base_uri": "https://localhost:8080/"
        },
        "outputId": "73e50f0c-9d72-4ea3-93c5-3c20959dfdab"
      },
      "source": [
        "x = torch.randn(2,3,4)\n",
        "x_t = x.transpose(0, 2)\n",
        "print(x.shape)\n",
        "print(x_t.shape)\n"
      ],
      "execution_count": 81,
      "outputs": [
        {
          "output_type": "stream",
          "name": "stdout",
          "text": [
            "torch.Size([2, 3, 4])\n",
            "torch.Size([4, 3, 2])\n"
          ]
        }
      ]
    },
    {
      "cell_type": "code",
      "metadata": {
        "id": "njuxOG5GDJJO",
        "colab": {
          "base_uri": "https://localhost:8080/"
        },
        "outputId": "67ba7698-a5b4-4dd9-f426-680c8146e317"
      },
      "source": [
        "x"
      ],
      "execution_count": 82,
      "outputs": [
        {
          "output_type": "execute_result",
          "data": {
            "text/plain": [
              "tensor([[[ 0.3393,  1.3988, -0.8127,  0.6651],\n",
              "         [-0.3669,  1.7391,  0.5760,  0.6174],\n",
              "         [-0.1857, -0.2307,  1.4841,  0.0666]],\n",
              "\n",
              "        [[ 1.6562, -0.1020, -0.6314, -0.0970],\n",
              "         [-0.0202,  0.5436, -1.7030,  1.3969],\n",
              "         [-0.7071, -0.3885,  0.7472,  1.7509]]])"
            ]
          },
          "metadata": {},
          "execution_count": 82
        }
      ]
    },
    {
      "cell_type": "code",
      "metadata": {
        "id": "YXTg7MDLDGJe",
        "colab": {
          "base_uri": "https://localhost:8080/"
        },
        "outputId": "2681bd62-af8d-4974-8c36-c19a8b0e3798"
      },
      "source": [
        "x.view(2, 12)"
      ],
      "execution_count": 83,
      "outputs": [
        {
          "output_type": "execute_result",
          "data": {
            "text/plain": [
              "tensor([[ 0.3393,  1.3988, -0.8127,  0.6651, -0.3669,  1.7391,  0.5760,  0.6174,\n",
              "         -0.1857, -0.2307,  1.4841,  0.0666],\n",
              "        [ 1.6562, -0.1020, -0.6314, -0.0970, -0.0202,  0.5436, -1.7030,  1.3969,\n",
              "         -0.7071, -0.3885,  0.7472,  1.7509]])"
            ]
          },
          "metadata": {},
          "execution_count": 83
        }
      ]
    },
    {
      "cell_type": "code",
      "metadata": {
        "id": "sg6dlz0LCqy9",
        "colab": {
          "base_uri": "https://localhost:8080/"
        },
        "outputId": "3e9e9697-f1b4-480e-fb88-56d980ab4ce9"
      },
      "source": [
        "try:\n",
        "    x_t.view(4,6) # Error\n",
        "except Exception as e:\n",
        "    print('Error:', e)"
      ],
      "execution_count": 84,
      "outputs": [
        {
          "output_type": "stream",
          "name": "stdout",
          "text": [
            "Error: view size is not compatible with input tensor's size and stride (at least one dimension spans across two contiguous subspaces). Use .reshape(...) instead.\n"
          ]
        }
      ]
    },
    {
      "cell_type": "markdown",
      "metadata": {
        "id": "JVGKBZbkNSMM"
      },
      "source": [
        "## reshape()"
      ]
    },
    {
      "cell_type": "code",
      "metadata": {
        "id": "SpgwpF8RIN83"
      },
      "source": [
        "y = x.reshape((2, 12))"
      ],
      "execution_count": 85,
      "outputs": []
    },
    {
      "cell_type": "code",
      "metadata": {
        "id": "OoP0SjpCIN6q",
        "colab": {
          "base_uri": "https://localhost:8080/"
        },
        "outputId": "83f99c0c-ad7d-45d8-8960-1951ac3732e7"
      },
      "source": [
        "print(y.size())\n",
        "y"
      ],
      "execution_count": 86,
      "outputs": [
        {
          "output_type": "stream",
          "name": "stdout",
          "text": [
            "torch.Size([2, 12])\n"
          ]
        },
        {
          "output_type": "execute_result",
          "data": {
            "text/plain": [
              "tensor([[ 0.3393,  1.3988, -0.8127,  0.6651, -0.3669,  1.7391,  0.5760,  0.6174,\n",
              "         -0.1857, -0.2307,  1.4841,  0.0666],\n",
              "        [ 1.6562, -0.1020, -0.6314, -0.0970, -0.0202,  0.5436, -1.7030,  1.3969,\n",
              "         -0.7071, -0.3885,  0.7472,  1.7509]])"
            ]
          },
          "metadata": {},
          "execution_count": 86
        }
      ]
    },
    {
      "cell_type": "code",
      "metadata": {
        "id": "gefPps_yIN2z"
      },
      "source": [
        "z = x.reshape((6, -1)) # -1 은 알아서 맞추라는 의미"
      ],
      "execution_count": 87,
      "outputs": []
    },
    {
      "cell_type": "code",
      "metadata": {
        "id": "gKTV0NSYIN0G",
        "colab": {
          "base_uri": "https://localhost:8080/"
        },
        "outputId": "39596a8e-edb9-4f75-cd66-42dd0de451f9"
      },
      "source": [
        "z"
      ],
      "execution_count": 88,
      "outputs": [
        {
          "output_type": "execute_result",
          "data": {
            "text/plain": [
              "tensor([[ 0.3393,  1.3988, -0.8127,  0.6651],\n",
              "        [-0.3669,  1.7391,  0.5760,  0.6174],\n",
              "        [-0.1857, -0.2307,  1.4841,  0.0666],\n",
              "        [ 1.6562, -0.1020, -0.6314, -0.0970],\n",
              "        [-0.0202,  0.5436, -1.7030,  1.3969],\n",
              "        [-0.7071, -0.3885,  0.7472,  1.7509]])"
            ]
          },
          "metadata": {},
          "execution_count": 88
        }
      ]
    },
    {
      "cell_type": "code",
      "metadata": {
        "id": "bDDdLZO0INxW"
      },
      "source": [
        "z = x.reshape((3, -1))"
      ],
      "execution_count": 89,
      "outputs": []
    },
    {
      "cell_type": "code",
      "metadata": {
        "id": "5i6vgDeJINul",
        "colab": {
          "base_uri": "https://localhost:8080/"
        },
        "outputId": "8d11f902-3f63-460a-ab27-4f86ba3dfee7"
      },
      "source": [
        "z"
      ],
      "execution_count": 90,
      "outputs": [
        {
          "output_type": "execute_result",
          "data": {
            "text/plain": [
              "tensor([[ 0.3393,  1.3988, -0.8127,  0.6651, -0.3669,  1.7391,  0.5760,  0.6174],\n",
              "        [-0.1857, -0.2307,  1.4841,  0.0666,  1.6562, -0.1020, -0.6314, -0.0970],\n",
              "        [-0.0202,  0.5436, -1.7030,  1.3969, -0.7071, -0.3885,  0.7472,  1.7509]])"
            ]
          },
          "metadata": {},
          "execution_count": 90
        }
      ]
    },
    {
      "cell_type": "code",
      "metadata": {
        "id": "zNjkjpSyMDk1"
      },
      "source": [
        "y = x.reshape((-1, 2))"
      ],
      "execution_count": 91,
      "outputs": []
    },
    {
      "cell_type": "code",
      "metadata": {
        "id": "8baHYCs3MDhV",
        "colab": {
          "base_uri": "https://localhost:8080/"
        },
        "outputId": "b7de24eb-5084-414e-9952-052eab0c57a9"
      },
      "source": [
        "y"
      ],
      "execution_count": 92,
      "outputs": [
        {
          "output_type": "execute_result",
          "data": {
            "text/plain": [
              "tensor([[ 0.3393,  1.3988],\n",
              "        [-0.8127,  0.6651],\n",
              "        [-0.3669,  1.7391],\n",
              "        [ 0.5760,  0.6174],\n",
              "        [-0.1857, -0.2307],\n",
              "        [ 1.4841,  0.0666],\n",
              "        [ 1.6562, -0.1020],\n",
              "        [-0.6314, -0.0970],\n",
              "        [-0.0202,  0.5436],\n",
              "        [-1.7030,  1.3969],\n",
              "        [-0.7071, -0.3885],\n",
              "        [ 0.7472,  1.7509]])"
            ]
          },
          "metadata": {},
          "execution_count": 92
        }
      ]
    },
    {
      "cell_type": "markdown",
      "metadata": {
        "id": "bDCU8JwH7Uly"
      },
      "source": [
        "\n",
        "NumPy Bridge\n",
        "------------\n",
        "\n",
        "Converting a Torch Tensor to a NumPy array and vice versa is a breeze.\n",
        "\n",
        "## The Torch Tensor and NumPy array will share their underlying memory locations (if the Torch Tensor is on CPU), and changing one will change the other.\n",
        "\n",
        "Converting a Torch Tensor to a NumPy Array\n",
        "^^^^^^^^^^^^^^^^^^^^^^^^^^^^^^^^^^^^^^^^^^\n",
        "\n"
      ]
    },
    {
      "cell_type": "code",
      "metadata": {
        "id": "nWkhUyYO7Ulz",
        "colab": {
          "base_uri": "https://localhost:8080/"
        },
        "outputId": "78361cf5-fa7e-4cbb-a570-ab2be748ea2c"
      },
      "source": [
        "a = torch.ones(5)\n",
        "print(a)\n",
        "print(type(a))"
      ],
      "execution_count": 93,
      "outputs": [
        {
          "output_type": "stream",
          "name": "stdout",
          "text": [
            "tensor([1., 1., 1., 1., 1.])\n",
            "<class 'torch.Tensor'>\n"
          ]
        }
      ]
    },
    {
      "cell_type": "code",
      "metadata": {
        "id": "89Fgo3zG7Ul2",
        "colab": {
          "base_uri": "https://localhost:8080/"
        },
        "outputId": "3f7330a1-bcce-4782-e6e0-8ab1c568f2ee"
      },
      "source": [
        "b = a.numpy()\n",
        "print(b)\n",
        "print(type(b))"
      ],
      "execution_count": 94,
      "outputs": [
        {
          "output_type": "stream",
          "name": "stdout",
          "text": [
            "[1. 1. 1. 1. 1.]\n",
            "<class 'numpy.ndarray'>\n"
          ]
        }
      ]
    },
    {
      "cell_type": "markdown",
      "metadata": {
        "id": "moOeDjDX7Ul8"
      },
      "source": [
        "Converting NumPy Array to Torch Tensor\n",
        "^^^^^^^^^^^^^^^^^^^^^^^^^^^^^^^^^^^^^^\n",
        "See how changing the np array changed the Torch Tensor automatically\n",
        "\n"
      ]
    },
    {
      "cell_type": "code",
      "metadata": {
        "id": "3drlU42Z7Ul8",
        "colab": {
          "base_uri": "https://localhost:8080/"
        },
        "outputId": "9e54bdb1-3202-4bb2-8cb0-1bcfca4bba22"
      },
      "source": [
        "import numpy as np\n",
        "a = np.ones(5)\n",
        "b = torch.from_numpy(a)\n",
        "np.add(a, 1, out=a)\n",
        "print(a)\n",
        "print(b)"
      ],
      "execution_count": 95,
      "outputs": [
        {
          "output_type": "stream",
          "name": "stdout",
          "text": [
            "[2. 2. 2. 2. 2.]\n",
            "tensor([2., 2., 2., 2., 2.], dtype=torch.float64)\n"
          ]
        }
      ]
    },
    {
      "cell_type": "markdown",
      "metadata": {
        "id": "dV9pNX1k7Ul_"
      },
      "source": [
        "All the Tensors on the CPU except a CharTensor support converting to\n",
        "NumPy and back.\n",
        "\n",
        "CUDA Tensors\n",
        "------------\n",
        "\n",
        "Tensors can be moved onto any device using the ``.to`` method.\n",
        "\n"
      ]
    },
    {
      "cell_type": "code",
      "metadata": {
        "id": "DHOkMru77UmA",
        "colab": {
          "base_uri": "https://localhost:8080/"
        },
        "outputId": "5ea703f7-a67c-45a7-9e6e-d99510109c4c"
      },
      "source": [
        "# let us run this cell only if CUDA is available\n",
        "# We will use ``torch.device`` objects to move tensors in and out of GPU\n",
        "if torch.cuda.is_available():\n",
        "    device = torch.device(\"cuda\")          # a CUDA device object\n",
        "    y = torch.ones_like(x, device=device)  # directly create a tensor on GPU\n",
        "    x = x.to(device)                       # or just use strings ``.to(\"cuda\")``\n",
        "    z = x + y\n",
        "    print(z)\n",
        "    print(z.dtype, z.device)\n",
        "    print(z.to(\"cpu\", torch.double))       # ``.to`` can also change dtype together!\n",
        "    print(z.device)"
      ],
      "execution_count": 96,
      "outputs": [
        {
          "output_type": "stream",
          "name": "stdout",
          "text": [
            "tensor([[[ 1.3393,  2.3988,  0.1873,  1.6651],\n",
            "         [ 0.6331,  2.7391,  1.5760,  1.6174],\n",
            "         [ 0.8143,  0.7693,  2.4841,  1.0666]],\n",
            "\n",
            "        [[ 2.6562,  0.8980,  0.3686,  0.9030],\n",
            "         [ 0.9798,  1.5436, -0.7030,  2.3969],\n",
            "         [ 0.2929,  0.6115,  1.7472,  2.7509]]], device='cuda:0')\n",
            "torch.float32 cuda:0\n",
            "tensor([[[ 1.3393,  2.3988,  0.1873,  1.6651],\n",
            "         [ 0.6331,  2.7391,  1.5760,  1.6174],\n",
            "         [ 0.8143,  0.7693,  2.4841,  1.0666]],\n",
            "\n",
            "        [[ 2.6562,  0.8980,  0.3686,  0.9030],\n",
            "         [ 0.9798,  1.5436, -0.7030,  2.3969],\n",
            "         [ 0.2929,  0.6115,  1.7472,  2.7509]]], dtype=torch.float64)\n",
            "cuda:0\n"
          ]
        }
      ]
    },
    {
      "cell_type": "code",
      "metadata": {
        "id": "dfgB6BUwP_q9",
        "colab": {
          "base_uri": "https://localhost:8080/"
        },
        "outputId": "5577071f-c6ee-4d81-9b3b-00bbe9740edd"
      },
      "source": [
        "print(z.to(\"cpu\").dtype)"
      ],
      "execution_count": 97,
      "outputs": [
        {
          "output_type": "stream",
          "name": "stdout",
          "text": [
            "torch.float32\n"
          ]
        }
      ]
    },
    {
      "cell_type": "code",
      "metadata": {
        "id": "6SQTOf3yQb2G",
        "colab": {
          "base_uri": "https://localhost:8080/"
        },
        "outputId": "b29e652c-2bfe-4357-de31-96b54248e456"
      },
      "source": [
        "print(z.to(\"cpu\").device)"
      ],
      "execution_count": 98,
      "outputs": [
        {
          "output_type": "stream",
          "name": "stdout",
          "text": [
            "cpu\n"
          ]
        }
      ]
    }
  ]
}