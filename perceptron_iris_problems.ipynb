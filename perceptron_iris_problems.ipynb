{
  "nbformat": 4,
  "nbformat_minor": 0,
  "metadata": {
    "anaconda-cloud": {},
    "kernelspec": {
      "display_name": "Python [default]",
      "language": "python",
      "name": "python3"
    },
    "language_info": {
      "codemirror_mode": {
        "name": "ipython",
        "version": 3
      },
      "file_extension": ".py",
      "mimetype": "text/x-python",
      "name": "python",
      "nbconvert_exporter": "python",
      "pygments_lexer": "ipython3",
      "version": "3.5.2"
    },
    "colab": {
      "name": "perceptron_iris_problems",
      "provenance": [],
      "collapsed_sections": [],
      "include_colab_link": true
    }
  },
  "cells": [
    {
      "cell_type": "markdown",
      "metadata": {
        "id": "view-in-github",
        "colab_type": "text"
      },
      "source": [
        "<a href=\"https://colab.research.google.com/github/skimaza/assist/blob/main/perceptron_iris_problems.ipynb\" target=\"_parent\"><img src=\"https://colab.research.google.com/assets/colab-badge.svg\" alt=\"Open In Colab\"/></a>"
      ]
    },
    {
      "cell_type": "markdown",
      "metadata": {
        "id": "HvsjI50ckzcP"
      },
      "source": [
        "# AI 전략경영MBA 경영자를 위한 딥러닝 원리의 이해\n",
        "# Perceptron 실습 예제\n",
        "# 붓꽃 분류 잘 안되는 경우"
      ]
    },
    {
      "cell_type": "markdown",
      "metadata": {
        "id": "8EoneLQ1QQgF"
      },
      "source": [
        "The original code comes from Sebastian Reschka's blog (http://sebastianraschka.com/Articles/2015_singlelayer_neurons.html).<br/>\n",
        "Slightly modified for the lecture. -skimaza"
      ]
    },
    {
      "cell_type": "code",
      "metadata": {
        "collapsed": true,
        "id": "1PfIBZ8sQQgL"
      },
      "source": [
        "import numpy as np\n",
        "import matplotlib.pyplot as plt"
      ],
      "execution_count": null,
      "outputs": []
    },
    {
      "cell_type": "code",
      "metadata": {
        "collapsed": true,
        "id": "Wf0jr6xPQQgN"
      },
      "source": [
        ""
      ],
      "execution_count": null,
      "outputs": []
    },
    {
      "cell_type": "code",
      "metadata": {
        "collapsed": true,
        "id": "pOiHhM_RQQgP"
      },
      "source": [
        "import pandas as pd"
      ],
      "execution_count": null,
      "outputs": []
    },
    {
      "cell_type": "code",
      "metadata": {
        "collapsed": true,
        "id": "BNlWDD0SQQgQ"
      },
      "source": [
        "import os\n",
        "from urllib.request import urlopen\n",
        "\n",
        "IRIS_DATA = \"iris.dat\"\n",
        "if not os.path.exists(IRIS_DATA):\n",
        "    raw = urlopen('https://archive.ics.uci.edu/ml/machine-learning-databases/iris/iris.data').read()\n",
        "    with open(IRIS_DATA, \"wb\") as f:\n",
        "        f.write(raw)"
      ],
      "execution_count": null,
      "outputs": []
    },
    {
      "cell_type": "code",
      "metadata": {
        "id": "PUmM7BQ3QQgQ"
      },
      "source": [
        "df = pd.read_csv(IRIS_DATA, header=None)"
      ],
      "execution_count": null,
      "outputs": []
    },
    {
      "cell_type": "code",
      "metadata": {
        "collapsed": true,
        "id": "EzGlA8yYQQgR"
      },
      "source": [
        "# versicolor and virginica\n",
        "y2 = df.iloc[50:150, 4].values\n",
        "y2 = np.where(y2 == 'Iris-virginica', -1, 1)\n",
        "\n",
        "# sepal width and petal width\n",
        "X2 = df.iloc[50:150, [1,3]].values"
      ],
      "execution_count": null,
      "outputs": []
    },
    {
      "cell_type": "code",
      "metadata": {
        "colab": {
          "base_uri": "https://localhost:8080/"
        },
        "id": "4SWIg6s0NfEG",
        "outputId": "508566a3-ca40-4c45-e1dd-5e7aff675343"
      },
      "source": [
        "\n",
        "\n",
        "pos = X2[[y2 == 1]]\n",
        "neg = X2[[y2 == -1]]\n",
        "\n",
        "min_x = min(X2[:,0])\n",
        "max_x = max(X2[:,0])\n",
        "print(min_x, max_x)\n"
      ],
      "execution_count": null,
      "outputs": [
        {
          "output_type": "stream",
          "name": "stdout",
          "text": [
            "2.0 3.8\n"
          ]
        },
        {
          "output_type": "stream",
          "name": "stderr",
          "text": [
            "/usr/local/lib/python3.7/dist-packages/ipykernel_launcher.py:3: FutureWarning: Using a non-tuple sequence for multidimensional indexing is deprecated; use `arr[tuple(seq)]` instead of `arr[seq]`. In the future this will be interpreted as an array index, `arr[np.array(seq)]`, which will result either in an error or a different result.\n",
            "  This is separate from the ipykernel package so we can avoid doing imports until\n",
            "/usr/local/lib/python3.7/dist-packages/ipykernel_launcher.py:4: FutureWarning: Using a non-tuple sequence for multidimensional indexing is deprecated; use `arr[tuple(seq)]` instead of `arr[seq]`. In the future this will be interpreted as an array index, `arr[np.array(seq)]`, which will result either in an error or a different result.\n",
            "  after removing the cwd from sys.path.\n"
          ]
        }
      ]
    },
    {
      "cell_type": "code",
      "metadata": {
        "colab": {
          "base_uri": "https://localhost:8080/",
          "height": 279
        },
        "id": "plz5EFSFN-i8",
        "outputId": "32acdaed-e80e-43ec-ca4b-2dae73b81c1b"
      },
      "source": [
        "\n",
        "fig = plt.figure()\n",
        "ax = fig.add_subplot(111)\n",
        "\n",
        "\n",
        "ax.scatter(pos[:,0], pos[:, 1], color='blue', label=\"pos\")\n",
        "ax.scatter(neg[:,0], neg[:, 1], color='red', label=\"neg\")\n",
        "plt.xlabel(\"x1\")\n",
        "plt.ylabel(\"x2\")\n",
        "plt.legend(loc=2, scatterpoints=1, fontsize=10)\n",
        "\n",
        "plt.show()"
      ],
      "execution_count": null,
      "outputs": [
        {
          "output_type": "display_data",
          "data": {
            "image/png": "[encoded data removed]",
            "text/plain": [
              "<Figure size 432x288 with 1 Axes>"
            ]
          },
          "metadata": {
            "needs_background": "light"
          }
        }
      ]
    },
    {
      "cell_type": "code",
      "metadata": {
        "id": "sjeM6zIWVlak"
      },
      "source": [
        "weights = []\n",
        "errors_log = []\n",
        "epochs = 50\n",
        "eta = 0.01\n",
        "\n",
        "def train(X, y, epochs=epochs, eta=eta):\n",
        "    global weights\n",
        "    global errors_log\n",
        "    weights = np.zeros(1 + X.shape[1])\n",
        "    print(\"Initial weights\", weights)\n",
        "    errors_log = []\n",
        "\n",
        "    for i in range(epochs):\n",
        "        errors = 0\n",
        "        print(\"EPOCHS\", i+1)\n",
        "        for xi, target in zip(X, y):\n",
        "            update = eta * (target - predict(xi))\n",
        "            print(xi, \"target\", target, \"sum\", net_input(xi), \"update\", update)\n",
        "            if update != 0:\n",
        "                weights[1:] +=  update * xi\n",
        "                weights[0] +=  update\n",
        "                print(\"Updated WEIGHTS\", weights)\n",
        "                #errors += int(update != 0.0)\n",
        "                errors += 1\n",
        "        errors_log.append(errors)\n",
        "    return\n",
        "\n",
        "def net_input(X):\n",
        "    global weights\n",
        "    return np.dot(X, weights[1:]) + weights[0]\n",
        "\n",
        "def predict(X):\n",
        "    return np.where(net_input(X) >= 0.0, 1, -1)"
      ],
      "execution_count": null,
      "outputs": []
    },
    {
      "cell_type": "code",
      "metadata": {
        "id": "-0eP1iarQQgS",
        "colab": {
          "base_uri": "https://localhost:8080/"
        },
        "outputId": "5ab5ee3f-8c7e-4e72-bd33-ca4a13b40e35"
      },
      "source": [
        "train(X2, y2, epochs=3, eta=0.01)"
      ],
      "execution_count": null,
      "outputs": [
        {
          "output_type": "stream",
          "name": "stdout",
          "text": [
            "Initial weights [0. 0. 0.]\n",
            "EPOCHS 1\n",
            "[3.2 1.4] target 1 sum 0.0 update 0.0\n",
            "[3.2 1.5] target 1 sum 0.0 update 0.0\n",
            "[3.1 1.5] target 1 sum 0.0 update 0.0\n",
            "[2.3 1.3] target 1 sum 0.0 update 0.0\n",
            "[2.8 1.5] target 1 sum 0.0 update 0.0\n",
            "[2.8 1.3] target 1 sum 0.0 update 0.0\n",
            "[3.3 1.6] target 1 sum 0.0 update 0.0\n",
            "[2.4 1. ] target 1 sum 0.0 update 0.0\n",
            "[2.9 1.3] target 1 sum 0.0 update 0.0\n",
            "[2.7 1.4] target 1 sum 0.0 update 0.0\n",
            "[2. 1.] target 1 sum 0.0 update 0.0\n",
            "[3.  1.5] target 1 sum 0.0 update 0.0\n",
            "[2.2 1. ] target 1 sum 0.0 update 0.0\n",
            "[2.9 1.4] target 1 sum 0.0 update 0.0\n",
            "[2.9 1.3] target 1 sum 0.0 update 0.0\n",
            "[3.1 1.4] target 1 sum 0.0 update 0.0\n",
            "[3.  1.5] target 1 sum 0.0 update 0.0\n",
            "[2.7 1. ] target 1 sum 0.0 update 0.0\n",
            "[2.2 1.5] target 1 sum 0.0 update 0.0\n",
            "[2.5 1.1] target 1 sum 0.0 update 0.0\n",
            "[3.2 1.8] target 1 sum 0.0 update 0.0\n",
            "[2.8 1.3] target 1 sum 0.0 update 0.0\n",
            "[2.5 1.5] target 1 sum 0.0 update 0.0\n",
            "[2.8 1.2] target 1 sum 0.0 update 0.0\n",
            "[2.9 1.3] target 1 sum 0.0 update 0.0\n",
            "[3.  1.4] target 1 sum 0.0 update 0.0\n",
            "[2.8 1.4] target 1 sum 0.0 update 0.0\n",
            "[3.  1.7] target 1 sum 0.0 update 0.0\n",
            "[2.9 1.5] target 1 sum 0.0 update 0.0\n",
            "[2.6 1. ] target 1 sum 0.0 update 0.0\n",
            "[2.4 1.1] target 1 sum 0.0 update 0.0\n",
            "[2.4 1. ] target 1 sum 0.0 update 0.0\n",
            "[2.7 1.2] target 1 sum 0.0 update 0.0\n",
            "[2.7 1.6] target 1 sum 0.0 update 0.0\n",
            "[3.  1.5] target 1 sum 0.0 update 0.0\n",
            "[3.4 1.6] target 1 sum 0.0 update 0.0\n",
            "[3.1 1.5] target 1 sum 0.0 update 0.0\n",
            "[2.3 1.3] target 1 sum 0.0 update 0.0\n",
            "[3.  1.3] target 1 sum 0.0 update 0.0\n",
            "[2.5 1.3] target 1 sum 0.0 update 0.0\n",
            "[2.6 1.2] target 1 sum 0.0 update 0.0\n",
            "[3.  1.4] target 1 sum 0.0 update 0.0\n",
            "[2.6 1.2] target 1 sum 0.0 update 0.0\n",
            "[2.3 1. ] target 1 sum 0.0 update 0.0\n",
            "[2.7 1.3] target 1 sum 0.0 update 0.0\n",
            "[3.  1.2] target 1 sum 0.0 update 0.0\n",
            "[2.9 1.3] target 1 sum 0.0 update 0.0\n",
            "[2.9 1.3] target 1 sum 0.0 update 0.0\n",
            "[2.5 1.1] target 1 sum 0.0 update 0.0\n",
            "[2.8 1.3] target 1 sum 0.0 update 0.0\n",
            "[3.3 2.5] target -1 sum 0.0 update -0.02\n",
            "Updated WEIGHTS [-0.02  -0.066 -0.05 ]\n",
            "[2.7 1.9] target -1 sum -0.2932 update 0.0\n",
            "[3.  2.1] target -1 sum -0.32300000000000006 update 0.0\n",
            "[2.9 1.8] target -1 sum -0.30140000000000006 update 0.0\n",
            "[3.  2.2] target -1 sum -0.32800000000000007 update 0.0\n",
            "[3.  2.1] target -1 sum -0.32300000000000006 update 0.0\n",
            "[2.5 1.7] target -1 sum -0.27 update 0.0\n",
            "[2.9 1.8] target -1 sum -0.30140000000000006 update 0.0\n",
            "[2.5 1.8] target -1 sum -0.275 update 0.0\n",
            "[3.6 2.5] target -1 sum -0.38260000000000005 update 0.0\n",
            "[3.2 2. ] target -1 sum -0.33120000000000005 update 0.0\n",
            "[2.7 1.9] target -1 sum -0.2932 update 0.0\n",
            "[3.  2.1] target -1 sum -0.32300000000000006 update 0.0\n",
            "[2.5 2. ] target -1 sum -0.28500000000000003 update 0.0\n",
            "[2.8 2.4] target -1 sum -0.32480000000000003 update 0.0\n",
            "[3.2 2.3] target -1 sum -0.34620000000000006 update 0.0\n",
            "[3.  1.8] target -1 sum -0.30800000000000005 update 0.0\n",
            "[3.8 2.2] target -1 sum -0.3808000000000001 update 0.0\n",
            "[2.6 2.3] target -1 sum -0.30660000000000004 update 0.0\n",
            "[2.2 1.5] target -1 sum -0.24020000000000002 update 0.0\n",
            "[3.2 2.3] target -1 sum -0.34620000000000006 update 0.0\n",
            "[2.8 2. ] target -1 sum -0.3048 update 0.0\n",
            "[2.8 2. ] target -1 sum -0.3048 update 0.0\n",
            "[2.7 1.8] target -1 sum -0.28820000000000007 update 0.0\n",
            "[3.3 2.1] target -1 sum -0.34280000000000005 update 0.0\n",
            "[3.2 1.8] target -1 sum -0.32120000000000004 update 0.0\n",
            "[2.8 1.8] target -1 sum -0.2948 update 0.0\n",
            "[3.  1.8] target -1 sum -0.30800000000000005 update 0.0\n",
            "[2.8 2.1] target -1 sum -0.3098 update 0.0\n",
            "[3.  1.6] target -1 sum -0.29800000000000004 update 0.0\n",
            "[2.8 1.9] target -1 sum -0.2998 update 0.0\n",
            "[3.8 2. ] target -1 sum -0.3708 update 0.0\n",
            "[2.8 2.2] target -1 sum -0.3148 update 0.0\n",
            "[2.8 1.5] target -1 sum -0.2798 update 0.0\n",
            "[2.6 1.4] target -1 sum -0.2616 update 0.0\n",
            "[3.  2.3] target -1 sum -0.333 update 0.0\n",
            "[3.4 2.4] target -1 sum -0.36440000000000006 update 0.0\n",
            "[3.1 1.8] target -1 sum -0.31460000000000005 update 0.0\n",
            "[3.  1.8] target -1 sum -0.30800000000000005 update 0.0\n",
            "[3.1 2.1] target -1 sum -0.32960000000000006 update 0.0\n",
            "[3.1 2.4] target -1 sum -0.3446 update 0.0\n",
            "[3.1 2.3] target -1 sum -0.3396 update 0.0\n",
            "[2.7 1.9] target -1 sum -0.2932 update 0.0\n",
            "[3.2 2.3] target -1 sum -0.34620000000000006 update 0.0\n",
            "[3.3 2.5] target -1 sum -0.3628 update 0.0\n",
            "[3.  2.3] target -1 sum -0.333 update 0.0\n",
            "[2.5 1.9] target -1 sum -0.28 update 0.0\n",
            "[3. 2.] target -1 sum -0.31800000000000006 update 0.0\n",
            "[3.4 2.3] target -1 sum -0.35940000000000005 update 0.0\n",
            "[3.  1.8] target -1 sum -0.30800000000000005 update 0.0\n",
            "EPOCHS 2\n",
            "[3.2 1.4] target 1 sum -0.3012 update 0.02\n",
            "Updated WEIGHTS [ 0.    -0.002 -0.022]\n",
            "[3.2 1.5] target 1 sum -0.03940000000000002 update 0.02\n",
            "Updated WEIGHTS [0.02  0.062 0.008]\n",
            "[3.1 1.5] target 1 sum 0.22419999999999998 update 0.0\n",
            "[2.3 1.3] target 1 sum 0.17299999999999996 update 0.0\n",
            "[2.8 1.5] target 1 sum 0.20559999999999995 update 0.0\n",
            "[2.8 1.3] target 1 sum 0.20399999999999996 update 0.0\n",
            "[3.3 1.6] target 1 sum 0.23739999999999994 update 0.0\n",
            "[2.4 1. ] target 1 sum 0.17679999999999998 update 0.0\n",
            "[2.9 1.3] target 1 sum 0.21019999999999997 update 0.0\n",
            "[2.7 1.4] target 1 sum 0.1986 update 0.0\n",
            "[2. 1.] target 1 sum 0.152 update 0.0\n",
            "[3.  1.5] target 1 sum 0.21799999999999997 update 0.0\n",
            "[2.2 1. ] target 1 sum 0.16440000000000002 update 0.0\n",
            "[2.9 1.4] target 1 sum 0.21099999999999997 update 0.0\n",
            "[2.9 1.3] target 1 sum 0.21019999999999997 update 0.0\n",
            "[3.1 1.4] target 1 sum 0.2234 update 0.0\n",
            "[3.  1.5] target 1 sum 0.21799999999999997 update 0.0\n",
            "[2.7 1. ] target 1 sum 0.1954 update 0.0\n",
            "[2.2 1.5] target 1 sum 0.1684 update 0.0\n",
            "[2.5 1.1] target 1 sum 0.1838 update 0.0\n",
            "[3.2 1.8] target 1 sum 0.2328 update 0.0\n",
            "[2.8 1.3] target 1 sum 0.20399999999999996 update 0.0\n",
            "[2.5 1.5] target 1 sum 0.18699999999999997 update 0.0\n",
            "[2.8 1.2] target 1 sum 0.20319999999999996 update 0.0\n",
            "[2.9 1.3] target 1 sum 0.21019999999999997 update 0.0\n",
            "[3.  1.4] target 1 sum 0.21719999999999998 update 0.0\n",
            "[2.8 1.4] target 1 sum 0.20479999999999995 update 0.0\n",
            "[3.  1.7] target 1 sum 0.2196 update 0.0\n",
            "[2.9 1.5] target 1 sum 0.21179999999999996 update 0.0\n",
            "[2.6 1. ] target 1 sum 0.1892 update 0.0\n",
            "[2.4 1.1] target 1 sum 0.17759999999999998 update 0.0\n",
            "[2.4 1. ] target 1 sum 0.17679999999999998 update 0.0\n",
            "[2.7 1.2] target 1 sum 0.197 update 0.0\n",
            "[2.7 1.6] target 1 sum 0.2002 update 0.0\n",
            "[3.  1.5] target 1 sum 0.21799999999999997 update 0.0\n",
            "[3.4 1.6] target 1 sum 0.24359999999999996 update 0.0\n",
            "[3.1 1.5] target 1 sum 0.22419999999999998 update 0.0\n",
            "[2.3 1.3] target 1 sum 0.17299999999999996 update 0.0\n",
            "[3.  1.3] target 1 sum 0.21639999999999998 update 0.0\n",
            "[2.5 1.3] target 1 sum 0.18539999999999998 update 0.0\n",
            "[2.6 1.2] target 1 sum 0.1908 update 0.0\n",
            "[3.  1.4] target 1 sum 0.21719999999999998 update 0.0\n",
            "[2.6 1.2] target 1 sum 0.1908 update 0.0\n",
            "[2.3 1. ] target 1 sum 0.17059999999999995 update 0.0\n",
            "[2.7 1.3] target 1 sum 0.1978 update 0.0\n",
            "[3.  1.2] target 1 sum 0.21559999999999999 update 0.0\n",
            "[2.9 1.3] target 1 sum 0.21019999999999997 update 0.0\n",
            "[2.9 1.3] target 1 sum 0.21019999999999997 update 0.0\n",
            "[2.5 1.1] target 1 sum 0.1838 update 0.0\n",
            "[2.8 1.3] target 1 sum 0.20399999999999996 update 0.0\n",
            "[3.3 2.5] target -1 sum 0.24459999999999996 update -0.02\n",
            "Updated WEIGHTS [ 0.    -0.004 -0.042]\n",
            "[2.7 1.9] target -1 sum -0.09060000000000003 update 0.0\n",
            "[3.  2.1] target -1 sum -0.10020000000000004 update 0.0\n",
            "[2.9 1.8] target -1 sum -0.08720000000000003 update 0.0\n",
            "[3.  2.2] target -1 sum -0.10440000000000003 update 0.0\n",
            "[3.  2.1] target -1 sum -0.10020000000000004 update 0.0\n",
            "[2.5 1.7] target -1 sum -0.08140000000000003 update 0.0\n",
            "[2.9 1.8] target -1 sum -0.08720000000000003 update 0.0\n",
            "[2.5 1.8] target -1 sum -0.08560000000000002 update 0.0\n",
            "[3.6 2.5] target -1 sum -0.11940000000000003 update 0.0\n",
            "[3.2 2. ] target -1 sum -0.09680000000000002 update 0.0\n",
            "[2.7 1.9] target -1 sum -0.09060000000000003 update 0.0\n",
            "[3.  2.1] target -1 sum -0.10020000000000004 update 0.0\n",
            "[2.5 2. ] target -1 sum -0.09400000000000003 update 0.0\n",
            "[2.8 2.4] target -1 sum -0.11200000000000003 update 0.0\n",
            "[3.2 2.3] target -1 sum -0.10940000000000003 update 0.0\n",
            "[3.  1.8] target -1 sum -0.08760000000000003 update 0.0\n",
            "[3.8 2.2] target -1 sum -0.10760000000000004 update 0.0\n",
            "[2.6 2.3] target -1 sum -0.10700000000000003 update 0.0\n",
            "[2.2 1.5] target -1 sum -0.07180000000000003 update 0.0\n",
            "[3.2 2.3] target -1 sum -0.10940000000000003 update 0.0\n",
            "[2.8 2. ] target -1 sum -0.09520000000000003 update 0.0\n",
            "[2.8 2. ] target -1 sum -0.09520000000000003 update 0.0\n",
            "[2.7 1.8] target -1 sum -0.08640000000000003 update 0.0\n",
            "[3.3 2.1] target -1 sum -0.10140000000000003 update 0.0\n",
            "[3.2 1.8] target -1 sum -0.08840000000000003 update 0.0\n",
            "[2.8 1.8] target -1 sum -0.08680000000000003 update 0.0\n",
            "[3.  1.8] target -1 sum -0.08760000000000003 update 0.0\n",
            "[2.8 2.1] target -1 sum -0.09940000000000003 update 0.0\n",
            "[3.  1.6] target -1 sum -0.07920000000000003 update 0.0\n",
            "[2.8 1.9] target -1 sum -0.09100000000000003 update 0.0\n",
            "[3.8 2. ] target -1 sum -0.09920000000000004 update 0.0\n",
            "[2.8 2.2] target -1 sum -0.10360000000000004 update 0.0\n",
            "[2.8 1.5] target -1 sum -0.07420000000000002 update 0.0\n",
            "[2.6 1.4] target -1 sum -0.06920000000000003 update 0.0\n",
            "[3.  2.3] target -1 sum -0.10860000000000003 update 0.0\n",
            "[3.4 2.4] target -1 sum -0.11440000000000003 update 0.0\n",
            "[3.1 1.8] target -1 sum -0.08800000000000004 update 0.0\n",
            "[3.  1.8] target -1 sum -0.08760000000000003 update 0.0\n",
            "[3.1 2.1] target -1 sum -0.10060000000000004 update 0.0\n",
            "[3.1 2.4] target -1 sum -0.11320000000000004 update 0.0\n",
            "[3.1 2.3] target -1 sum -0.10900000000000003 update 0.0\n",
            "[2.7 1.9] target -1 sum -0.09060000000000003 update 0.0\n",
            "[3.2 2.3] target -1 sum -0.10940000000000003 update 0.0\n",
            "[3.3 2.5] target -1 sum -0.11820000000000003 update 0.0\n",
            "[3.  2.3] target -1 sum -0.10860000000000003 update 0.0\n",
            "[2.5 1.9] target -1 sum -0.08980000000000002 update 0.0\n",
            "[3. 2.] target -1 sum -0.09600000000000003 update 0.0\n",
            "[3.4 2.3] target -1 sum -0.11020000000000002 update 0.0\n",
            "[3.  1.8] target -1 sum -0.08760000000000003 update 0.0\n",
            "EPOCHS 3\n",
            "[3.2 1.4] target 1 sum -0.07160000000000002 update 0.02\n",
            "Updated WEIGHTS [ 0.02   0.06  -0.014]\n",
            "[3.2 1.5] target 1 sum 0.19099999999999998 update 0.0\n",
            "[3.1 1.5] target 1 sum 0.18499999999999997 update 0.0\n",
            "[2.3 1.3] target 1 sum 0.13979999999999995 update 0.0\n",
            "[2.8 1.5] target 1 sum 0.16699999999999995 update 0.0\n",
            "[2.8 1.3] target 1 sum 0.16979999999999995 update 0.0\n",
            "[3.3 1.6] target 1 sum 0.19559999999999994 update 0.0\n",
            "[2.4 1. ] target 1 sum 0.14999999999999997 update 0.0\n",
            "[2.9 1.3] target 1 sum 0.17579999999999996 update 0.0\n",
            "[2.7 1.4] target 1 sum 0.1624 update 0.0\n",
            "[2. 1.] target 1 sum 0.12599999999999997 update 0.0\n",
            "[3.  1.5] target 1 sum 0.17899999999999996 update 0.0\n",
            "[2.2 1. ] target 1 sum 0.13799999999999998 update 0.0\n",
            "[2.9 1.4] target 1 sum 0.17439999999999997 update 0.0\n",
            "[2.9 1.3] target 1 sum 0.17579999999999996 update 0.0\n",
            "[3.1 1.4] target 1 sum 0.18639999999999998 update 0.0\n",
            "[3.  1.5] target 1 sum 0.17899999999999996 update 0.0\n",
            "[2.7 1. ] target 1 sum 0.16799999999999998 update 0.0\n",
            "[2.2 1.5] target 1 sum 0.13099999999999998 update 0.0\n",
            "[2.5 1.1] target 1 sum 0.15459999999999996 update 0.0\n",
            "[3.2 1.8] target 1 sum 0.18679999999999997 update 0.0\n",
            "[2.8 1.3] target 1 sum 0.16979999999999995 update 0.0\n",
            "[2.5 1.5] target 1 sum 0.14899999999999997 update 0.0\n",
            "[2.8 1.2] target 1 sum 0.17119999999999996 update 0.0\n",
            "[2.9 1.3] target 1 sum 0.17579999999999996 update 0.0\n",
            "[3.  1.4] target 1 sum 0.18039999999999998 update 0.0\n",
            "[2.8 1.4] target 1 sum 0.16839999999999997 update 0.0\n",
            "[3.  1.7] target 1 sum 0.17619999999999997 update 0.0\n",
            "[2.9 1.5] target 1 sum 0.17299999999999996 update 0.0\n",
            "[2.6 1. ] target 1 sum 0.16199999999999998 update 0.0\n",
            "[2.4 1.1] target 1 sum 0.14859999999999995 update 0.0\n",
            "[2.4 1. ] target 1 sum 0.14999999999999997 update 0.0\n",
            "[2.7 1.2] target 1 sum 0.16519999999999999 update 0.0\n",
            "[2.7 1.6] target 1 sum 0.15959999999999996 update 0.0\n",
            "[3.  1.5] target 1 sum 0.17899999999999996 update 0.0\n",
            "[3.4 1.6] target 1 sum 0.20159999999999995 update 0.0\n",
            "[3.1 1.5] target 1 sum 0.18499999999999997 update 0.0\n",
            "[2.3 1.3] target 1 sum 0.13979999999999995 update 0.0\n",
            "[3.  1.3] target 1 sum 0.18179999999999996 update 0.0\n",
            "[2.5 1.3] target 1 sum 0.15179999999999996 update 0.0\n",
            "[2.6 1.2] target 1 sum 0.15919999999999998 update 0.0\n",
            "[3.  1.4] target 1 sum 0.18039999999999998 update 0.0\n",
            "[2.6 1.2] target 1 sum 0.15919999999999998 update 0.0\n",
            "[2.3 1. ] target 1 sum 0.14399999999999996 update 0.0\n",
            "[2.7 1.3] target 1 sum 0.16379999999999997 update 0.0\n",
            "[3.  1.2] target 1 sum 0.18319999999999997 update 0.0\n",
            "[2.9 1.3] target 1 sum 0.17579999999999996 update 0.0\n",
            "[2.9 1.3] target 1 sum 0.17579999999999996 update 0.0\n",
            "[2.5 1.1] target 1 sum 0.15459999999999996 update 0.0\n",
            "[2.8 1.3] target 1 sum 0.16979999999999995 update 0.0\n",
            "[3.3 2.5] target -1 sum 0.18299999999999994 update -0.02\n",
            "Updated WEIGHTS [ 0.    -0.006 -0.064]\n",
            "[2.7 1.9] target -1 sum -0.13780000000000003 update 0.0\n",
            "[3.  2.1] target -1 sum -0.15240000000000006 update 0.0\n",
            "[2.9 1.8] target -1 sum -0.13260000000000005 update 0.0\n",
            "[3.  2.2] target -1 sum -0.15880000000000005 update 0.0\n",
            "[3.  2.1] target -1 sum -0.15240000000000006 update 0.0\n",
            "[2.5 1.7] target -1 sum -0.12380000000000004 update 0.0\n",
            "[2.9 1.8] target -1 sum -0.13260000000000005 update 0.0\n",
            "[2.5 1.8] target -1 sum -0.13020000000000004 update 0.0\n",
            "[3.6 2.5] target -1 sum -0.18160000000000007 update 0.0\n",
            "[3.2 2. ] target -1 sum -0.14720000000000005 update 0.0\n",
            "[2.7 1.9] target -1 sum -0.13780000000000003 update 0.0\n",
            "[3.  2.1] target -1 sum -0.15240000000000006 update 0.0\n",
            "[2.5 2. ] target -1 sum -0.14300000000000004 update 0.0\n",
            "[2.8 2.4] target -1 sum -0.17040000000000005 update 0.0\n",
            "[3.2 2.3] target -1 sum -0.16640000000000005 update 0.0\n",
            "[3.  1.8] target -1 sum -0.13320000000000004 update 0.0\n",
            "[3.8 2.2] target -1 sum -0.16360000000000005 update 0.0\n",
            "[2.6 2.3] target -1 sum -0.16280000000000003 update 0.0\n",
            "[2.2 1.5] target -1 sum -0.10920000000000003 update 0.0\n",
            "[3.2 2.3] target -1 sum -0.16640000000000005 update 0.0\n",
            "[2.8 2. ] target -1 sum -0.14480000000000004 update 0.0\n",
            "[2.8 2. ] target -1 sum -0.14480000000000004 update 0.0\n",
            "[2.7 1.8] target -1 sum -0.13140000000000004 update 0.0\n",
            "[3.3 2.1] target -1 sum -0.15420000000000006 update 0.0\n",
            "[3.2 1.8] target -1 sum -0.13440000000000005 update 0.0\n",
            "[2.8 1.8] target -1 sum -0.13200000000000003 update 0.0\n",
            "[3.  1.8] target -1 sum -0.13320000000000004 update 0.0\n",
            "[2.8 2.1] target -1 sum -0.15120000000000006 update 0.0\n",
            "[3.  1.6] target -1 sum -0.12040000000000005 update 0.0\n",
            "[2.8 1.9] target -1 sum -0.13840000000000002 update 0.0\n",
            "[3.8 2. ] target -1 sum -0.15080000000000005 update 0.0\n",
            "[2.8 2.2] target -1 sum -0.15760000000000005 update 0.0\n",
            "[2.8 1.5] target -1 sum -0.11280000000000004 update 0.0\n",
            "[2.6 1.4] target -1 sum -0.10520000000000003 update 0.0\n",
            "[3.  2.3] target -1 sum -0.16520000000000004 update 0.0\n",
            "[3.4 2.4] target -1 sum -0.17400000000000004 update 0.0\n",
            "[3.1 1.8] target -1 sum -0.13380000000000006 update 0.0\n",
            "[3.  1.8] target -1 sum -0.13320000000000004 update 0.0\n",
            "[3.1 2.1] target -1 sum -0.15300000000000005 update 0.0\n",
            "[3.1 2.4] target -1 sum -0.17220000000000005 update 0.0\n",
            "[3.1 2.3] target -1 sum -0.16580000000000003 update 0.0\n",
            "[2.7 1.9] target -1 sum -0.13780000000000003 update 0.0\n",
            "[3.2 2.3] target -1 sum -0.16640000000000005 update 0.0\n",
            "[3.3 2.5] target -1 sum -0.17980000000000004 update 0.0\n",
            "[3.  2.3] target -1 sum -0.16520000000000004 update 0.0\n",
            "[2.5 1.9] target -1 sum -0.13660000000000003 update 0.0\n",
            "[3. 2.] target -1 sum -0.14600000000000005 update 0.0\n",
            "[3.4 2.3] target -1 sum -0.16760000000000005 update 0.0\n",
            "[3.  1.8] target -1 sum -0.13320000000000004 update 0.0\n"
          ]
        }
      ]
    },
    {
      "cell_type": "code",
      "metadata": {
        "colab": {
          "base_uri": "https://localhost:8080/"
        },
        "id": "S_IsaAfGYSGV",
        "outputId": "5a066b5b-8aae-4b80-931d-340d26176b9d"
      },
      "source": [
        "2.7*(-0.066) + 1.9*(-0.05)-0.02"
      ],
      "execution_count": null,
      "outputs": [
        {
          "output_type": "execute_result",
          "data": {
            "text/plain": [
              "-0.2932"
            ]
          },
          "metadata": {},
          "execution_count": 71
        }
      ]
    },
    {
      "cell_type": "code",
      "metadata": {
        "id": "NPnXU60_QQgU",
        "colab": {
          "base_uri": "https://localhost:8080/",
          "height": 279
        },
        "outputId": "4d9a94b9-538d-480a-ff80-df4a18c699b2"
      },
      "source": [
        "fig = plt.figure()\n",
        "ax = fig.add_subplot(111)\n",
        "\n",
        "point_x = np.array([min_x, max_x])\n",
        "point_y = np.array([- (weights[0]+weights[1]*min_x)/weights[2], - (weights[0]+weights[1]*max_x)/weights[2]])\n",
        "\n",
        "line, = ax.plot(point_x, point_y, 'b-', picker=5)\n",
        "\n",
        "ax.scatter(pos[:,0], pos[:, 1], color='blue', label=\"pos\")\n",
        "ax.scatter(neg[:,0], neg[:, 1], color='red', label=\"neg\")\n",
        "plt.xlabel(\"x1\")\n",
        "plt.ylabel(\"x2\")\n",
        "plt.legend(loc=2, scatterpoints=1, fontsize=10)\n",
        "\n",
        "plt.show()"
      ],
      "execution_count": null,
      "outputs": [
        {
          "output_type": "display_data",
          "data": {
            "image/png": "[encoded data removed]",
            "text/plain": [
              "<Figure size 432x288 with 1 Axes>"
            ]
          },
          "metadata": {
            "needs_background": "light"
          }
        }
      ]
    },
    {
      "cell_type": "code",
      "metadata": {
        "colab": {
          "base_uri": "https://localhost:8080/"
        },
        "id": "asMtEXrJWRCq",
        "outputId": "394f2264-87cb-4f53-9916-6c18bbdb2faf"
      },
      "source": [
        "errors_log"
      ],
      "execution_count": null,
      "outputs": [
        {
          "output_type": "execute_result",
          "data": {
            "text/plain": [
              "[1, 3, 2]"
            ]
          },
          "metadata": {},
          "execution_count": 70
        }
      ]
    },
    {
      "cell_type": "code",
      "metadata": {
        "id": "cU3JRfcZQQgV",
        "colab": {
          "base_uri": "https://localhost:8080/",
          "height": 279
        },
        "outputId": "eb703554-e3ac-4f3e-93c7-feb2dad0c250"
      },
      "source": [
        "plt.plot(range(1, len(errors_log)+1), errors_log, marker='o')\n",
        "plt.xlabel('Iterations')\n",
        "plt.ylabel('Misclassifications')\n",
        "plt.show()"
      ],
      "execution_count": null,
      "outputs": [
        {
          "output_type": "display_data",
          "data": {
            "image/png": "[encoded data removed]",
            "text/plain": [
              "<Figure size 432x288 with 1 Axes>"
            ]
          },
          "metadata": {
            "needs_background": "light"
          }
        }
      ]
    },
    {
      "cell_type": "code",
      "metadata": {
        "id": "9SOZDXKyQQgW",
        "colab": {
          "base_uri": "https://localhost:8080/"
        },
        "outputId": "80e87dcf-daeb-4403-b0dc-ad9535eea223"
      },
      "source": [
        "print(errors_log)"
      ],
      "execution_count": null,
      "outputs": [
        {
          "output_type": "stream",
          "name": "stdout",
          "text": [
            "[1, 3, 2, 2, 2, 2, 2, 3, 2, 2, 2, 2, 2, 2, 2, 2, 2, 2, 2, 2, 2, 2, 2, 2, 2]\n"
          ]
        }
      ]
    },
    {
      "cell_type": "code",
      "metadata": {
        "id": "0ck_J964QQgW",
        "colab": {
          "base_uri": "https://localhost:8080/"
        },
        "outputId": "f3d05bfc-6642-469f-b906-f75b51eaeb70"
      },
      "source": [
        "print('Total number of misclassifications: %d of 100' % (y2 != predict(X2)).sum())"
      ],
      "execution_count": null,
      "outputs": [
        {
          "output_type": "stream",
          "name": "stdout",
          "text": [
            "Total number of misclassifications: 43 of 100\n"
          ]
        }
      ]
    },
    {
      "cell_type": "code",
      "metadata": {
        "collapsed": true,
        "id": "UELCVmQKQQgX",
        "colab": {
          "base_uri": "https://localhost:8080/"
        },
        "outputId": "85731402-30a4-476d-c7a6-b04dcdf69972"
      },
      "source": [
        "train(X2, y2, epochs=50, eta=0.01)"
      ],
      "execution_count": null,
      "outputs": [
        {
          "output_type": "stream",
          "name": "stdout",
          "text": [
            "Initial weights [0. 0. 0.]\n",
            "EPOCHS 1\n",
            "Updated WEIGHTS [-0.02  -0.066 -0.05 ]\n",
            "EPOCHS 2\n",
            "Updated WEIGHTS [ 0.    -0.002 -0.022]\n",
            "Updated WEIGHTS [0.02  0.062 0.008]\n",
            "Updated WEIGHTS [ 0.    -0.004 -0.042]\n",
            "EPOCHS 3\n",
            "Updated WEIGHTS [ 0.02   0.06  -0.014]\n",
            "Updated WEIGHTS [ 0.    -0.006 -0.064]\n",
            "EPOCHS 4\n",
            "Updated WEIGHTS [ 0.02   0.058 -0.036]\n",
            "Updated WEIGHTS [ 0.    -0.008 -0.086]\n",
            "EPOCHS 5\n",
            "Updated WEIGHTS [ 0.02   0.056 -0.058]\n",
            "Updated WEIGHTS [ 0.    -0.01  -0.108]\n",
            "EPOCHS 6\n",
            "Updated WEIGHTS [ 0.02   0.054 -0.08 ]\n",
            "Updated WEIGHTS [ 0.00000000e+00 -1.38777878e-17 -1.18000000e-01]\n",
            "EPOCHS 7\n",
            "Updated WEIGHTS [ 0.02   0.064 -0.09 ]\n",
            "Updated WEIGHTS [ 0.    -0.002 -0.14 ]\n",
            "EPOCHS 8\n",
            "Updated WEIGHTS [ 0.02   0.062 -0.112]\n",
            "Updated WEIGHTS [ 0.04   0.106 -0.082]\n",
            "Updated WEIGHTS [ 0.02   0.04  -0.132]\n",
            "EPOCHS 9\n",
            "Updated WEIGHTS [ 0.04   0.104 -0.104]\n",
            "Updated WEIGHTS [ 0.02   0.038 -0.154]\n",
            "EPOCHS 10\n",
            "Updated WEIGHTS [ 0.04   0.102 -0.126]\n",
            "Updated WEIGHTS [ 0.02   0.036 -0.176]\n",
            "EPOCHS 11\n",
            "Updated WEIGHTS [ 0.04   0.1   -0.148]\n",
            "Updated WEIGHTS [ 0.02   0.046 -0.186]\n",
            "EPOCHS 12\n",
            "Updated WEIGHTS [ 0.04   0.11  -0.158]\n",
            "Updated WEIGHTS [ 0.02   0.044 -0.208]\n",
            "EPOCHS 13\n",
            "Updated WEIGHTS [ 0.04   0.108 -0.18 ]\n",
            "Updated WEIGHTS [ 0.02   0.05  -0.216]\n",
            "EPOCHS 14\n",
            "Updated WEIGHTS [ 0.04   0.114 -0.188]\n",
            "Updated WEIGHTS [ 0.02   0.056 -0.224]\n",
            "EPOCHS 15\n",
            "Updated WEIGHTS [ 0.04   0.12  -0.196]\n",
            "Updated WEIGHTS [ 0.02   0.062 -0.232]\n",
            "EPOCHS 16\n",
            "Updated WEIGHTS [ 0.04   0.126 -0.204]\n",
            "Updated WEIGHTS [ 0.02   0.068 -0.24 ]\n",
            "EPOCHS 17\n",
            "Updated WEIGHTS [ 0.04   0.132 -0.212]\n",
            "Updated WEIGHTS [ 0.02   0.074 -0.248]\n",
            "EPOCHS 18\n",
            "Updated WEIGHTS [ 0.04   0.138 -0.22 ]\n",
            "Updated WEIGHTS [ 0.02   0.08  -0.256]\n",
            "EPOCHS 19\n",
            "Updated WEIGHTS [ 0.04   0.144 -0.228]\n",
            "Updated WEIGHTS [ 0.02   0.086 -0.264]\n",
            "EPOCHS 20\n",
            "Updated WEIGHTS [ 0.04   0.15  -0.236]\n",
            "Updated WEIGHTS [ 0.02   0.092 -0.272]\n",
            "EPOCHS 21\n",
            "Updated WEIGHTS [ 0.04   0.156 -0.244]\n",
            "Updated WEIGHTS [ 0.02   0.098 -0.28 ]\n",
            "EPOCHS 22\n",
            "Updated WEIGHTS [ 0.04   0.162 -0.252]\n",
            "Updated WEIGHTS [ 0.02   0.104 -0.288]\n",
            "EPOCHS 23\n",
            "Updated WEIGHTS [ 0.04   0.168 -0.26 ]\n",
            "Updated WEIGHTS [ 0.02   0.11  -0.296]\n",
            "EPOCHS 24\n",
            "Updated WEIGHTS [ 0.04   0.174 -0.268]\n",
            "Updated WEIGHTS [ 0.02   0.12  -0.306]\n",
            "EPOCHS 25\n",
            "Updated WEIGHTS [ 0.04   0.184 -0.278]\n",
            "Updated WEIGHTS [ 0.02   0.13  -0.316]\n",
            "EPOCHS 26\n",
            "Updated WEIGHTS [ 0.04   0.194 -0.288]\n",
            "Updated WEIGHTS [ 0.02   0.14  -0.326]\n",
            "EPOCHS 27\n",
            "Updated WEIGHTS [ 0.04   0.204 -0.296]\n",
            "Updated WEIGHTS [ 0.02   0.15  -0.334]\n",
            "EPOCHS 28\n",
            "Updated WEIGHTS [ 0.04   0.214 -0.304]\n",
            "Updated WEIGHTS [ 0.02   0.16  -0.342]\n",
            "EPOCHS 29\n",
            "Updated WEIGHTS [ 0.04   0.206 -0.316]\n",
            "Updated WEIGHTS [ 0.02   0.148 -0.352]\n",
            "EPOCHS 30\n",
            "Updated WEIGHTS [ 0.04   0.212 -0.322]\n",
            "Updated WEIGHTS [ 0.02   0.158 -0.36 ]\n",
            "EPOCHS 31\n",
            "Updated WEIGHTS [ 0.04   0.222 -0.33 ]\n",
            "Updated WEIGHTS [ 0.02   0.168 -0.368]\n",
            "EPOCHS 32\n",
            "Updated WEIGHTS [ 0.04   0.23  -0.338]\n",
            "Updated WEIGHTS [ 0.02   0.176 -0.376]\n",
            "EPOCHS 33\n",
            "Updated WEIGHTS [ 0.04   0.222 -0.35 ]\n",
            "Updated WEIGHTS [ 0.02   0.164 -0.386]\n",
            "EPOCHS 34\n",
            "Updated WEIGHTS [ 0.04   0.228 -0.356]\n",
            "Updated WEIGHTS [ 0.02   0.17  -0.392]\n",
            "EPOCHS 35\n",
            "Updated WEIGHTS [ 0.04   0.234 -0.362]\n",
            "Updated WEIGHTS [ 0.02   0.176 -0.398]\n",
            "EPOCHS 36\n",
            "Updated WEIGHTS [ 0.04   0.24  -0.368]\n",
            "Updated WEIGHTS [ 0.02   0.182 -0.404]\n",
            "EPOCHS 37\n",
            "Updated WEIGHTS [ 0.04   0.246 -0.374]\n",
            "Updated WEIGHTS [ 0.02   0.188 -0.41 ]\n",
            "EPOCHS 38\n",
            "Updated WEIGHTS [ 0.04  0.25 -0.38]\n",
            "Updated WEIGHTS [ 0.02   0.192 -0.416]\n",
            "EPOCHS 39\n",
            "Updated WEIGHTS [ 0.04   0.254 -0.386]\n",
            "Updated WEIGHTS [ 0.02   0.196 -0.422]\n",
            "EPOCHS 40\n",
            "Updated WEIGHTS [ 0.04   0.258 -0.392]\n",
            "Updated WEIGHTS [ 0.02   0.2   -0.428]\n",
            "EPOCHS 41\n",
            "Updated WEIGHTS [ 0.04   0.262 -0.398]\n",
            "Updated WEIGHTS [ 0.02   0.204 -0.434]\n",
            "EPOCHS 42\n",
            "Updated WEIGHTS [ 0.04   0.25  -0.408]\n",
            "Updated WEIGHTS [ 0.06   0.294 -0.378]\n",
            "Updated WEIGHTS [ 0.04   0.228 -0.428]\n",
            "Updated WEIGHTS [ 0.02   0.168 -0.46 ]\n",
            "EPOCHS 43\n",
            "Updated WEIGHTS [ 0.04   0.232 -0.432]\n",
            "Updated WEIGHTS [ 0.06   0.276 -0.402]\n",
            "Updated WEIGHTS [ 0.04   0.222 -0.44 ]\n",
            "Updated WEIGHTS [ 0.02   0.162 -0.472]\n",
            "EPOCHS 44\n",
            "Updated WEIGHTS [ 0.04   0.226 -0.444]\n",
            "Updated WEIGHTS [ 0.06   0.272 -0.418]\n",
            "Updated WEIGHTS [ 0.04   0.218 -0.456]\n",
            "EPOCHS 45\n",
            "Updated WEIGHTS [ 0.06   0.264 -0.43 ]\n",
            "Updated WEIGHTS [ 0.08   0.308 -0.4  ]\n",
            "Updated WEIGHTS [ 0.06   0.242 -0.45 ]\n",
            "Updated WEIGHTS [ 0.04   0.178 -0.486]\n",
            "EPOCHS 46\n",
            "Updated WEIGHTS [ 0.06   0.242 -0.458]\n",
            "Updated WEIGHTS [ 0.08   0.286 -0.428]\n",
            "Updated WEIGHTS [ 0.06   0.232 -0.466]\n",
            "Updated WEIGHTS [ 0.04   0.172 -0.498]\n",
            "EPOCHS 47\n",
            "Updated WEIGHTS [ 0.06   0.236 -0.47 ]\n",
            "Updated WEIGHTS [ 0.08   0.282 -0.444]\n",
            "Updated WEIGHTS [ 0.06   0.224 -0.48 ]\n",
            "EPOCHS 48\n",
            "Updated WEIGHTS [ 0.08   0.27  -0.454]\n",
            "Updated WEIGHTS [ 0.1    0.314 -0.424]\n",
            "Updated WEIGHTS [ 0.08   0.248 -0.474]\n",
            "Updated WEIGHTS [ 0.06   0.184 -0.51 ]\n",
            "EPOCHS 49\n",
            "Updated WEIGHTS [ 0.08   0.248 -0.482]\n",
            "Updated WEIGHTS [ 0.1    0.292 -0.452]\n",
            "Updated WEIGHTS [ 0.08   0.238 -0.49 ]\n",
            "Updated WEIGHTS [ 0.06   0.178 -0.522]\n",
            "EPOCHS 50\n",
            "Updated WEIGHTS [ 0.08   0.242 -0.494]\n",
            "Updated WEIGHTS [ 0.1    0.288 -0.468]\n",
            "Updated WEIGHTS [ 0.08   0.23  -0.504]\n"
          ]
        }
      ]
    },
    {
      "cell_type": "code",
      "metadata": {
        "colab": {
          "base_uri": "https://localhost:8080/",
          "height": 279
        },
        "id": "cBNxBjmqTCUU",
        "outputId": "7df96ea2-6cb9-4f5b-b46c-5f7a5d6f2201"
      },
      "source": [
        "fig = plt.figure()\n",
        "ax = fig.add_subplot(111)\n",
        "\n",
        "point_x = np.array([min_x, max_x])\n",
        "point_y = np.array([- (weights[0]+weights[1]*min_x)/weights[2], - (weights[0]+weights[1]*max_x)/weights[2]])\n",
        "\n",
        "line, = ax.plot(point_x, point_y, 'b-', picker=5)\n",
        "\n",
        "ax.scatter(pos[:,0], pos[:, 1], color='blue', label=\"pos\")\n",
        "ax.scatter(neg[:,0], neg[:, 1], color='red', label=\"neg\")\n",
        "plt.xlabel(\"x1\")\n",
        "plt.ylabel(\"x2\")\n",
        "plt.legend(loc=2, scatterpoints=1, fontsize=10)\n",
        "\n",
        "plt.show()"
      ],
      "execution_count": null,
      "outputs": [
        {
          "output_type": "display_data",
          "data": {
            "image/png": "[encoded data removed]",
            "text/plain": [
              "<Figure size 432x288 with 1 Axes>"
            ]
          },
          "metadata": {
            "needs_background": "light"
          }
        }
      ]
    },
    {
      "cell_type": "code",
      "metadata": {
        "colab": {
          "base_uri": "https://localhost:8080/",
          "height": 279
        },
        "id": "Jl_xlbBITFsG",
        "outputId": "c2dace04-9420-4d85-ccae-4c211113f702"
      },
      "source": [
        "plt.plot(range(1, len(errors_log)+1), errors_log, marker='o')\n",
        "plt.xlabel('Iterations')\n",
        "plt.ylabel('Misclassifications')\n",
        "plt.show()"
      ],
      "execution_count": null,
      "outputs": [
        {
          "output_type": "display_data",
          "data": {
            "image/png": "[encoded data removed]",
            "text/plain": [
              "<Figure size 432x288 with 1 Axes>"
            ]
          },
          "metadata": {
            "needs_background": "light"
          }
        }
      ]
    },
    {
      "cell_type": "code",
      "metadata": {
        "id": "BOhpVTS_TJL8"
      },
      "source": [
        ""
      ],
      "execution_count": null,
      "outputs": []
    }
  ]
}